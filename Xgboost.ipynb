{
  "cells": [
    {
      "cell_type": "code",
      "execution_count": null,
      "metadata": {
        "id": "iWH-g1YcGPBg"
      },
      "outputs": [],
      "source": [
        "import pandas as pd\n",
        "import matplotlib.pyplot as plt\n",
        "import seaborn as sns\n",
        "import numpy as np\n",
        "from sklearn.metrics import r2_score, mean_squared_error, mean_absolute_error\n",
        "from sklearn.model_selection import train_test_split, cross_val_score\n",
        "import xgboost as xgb\n",
        "from xgboost import XGBRegressor"
      ]
    },
    {
      "cell_type": "code",
      "execution_count": null,
      "metadata": {
        "id": "DWGfu10SuUxu"
      },
      "outputs": [],
      "source": [
        "base_df_resampled = pd.read_csv(\"filtered_df.csv\")"
      ]
    },
    {
      "cell_type": "code",
      "execution_count": null,
      "metadata": {
        "id": "e9fDexzFe1uo"
      },
      "outputs": [],
      "source": [
        "#Train-test split\n",
        "train_base, test_base = train_test_split(base_df_resampled, test_size=0.2, random_state=123)\n",
        "train_base.reset_index(drop=True, inplace=True)\n",
        "test_base.reset_index(drop=True, inplace=True)"
      ]
    },
    {
      "cell_type": "markdown",
      "metadata": {
        "id": "Zaufd7esnwVG"
      },
      "source": [
        "#Predicting moisture at 10 cm depth"
      ]
    },
    {
      "cell_type": "markdown",
      "metadata": {
        "id": "_6wUg4lpn1bp"
      },
      "source": [
        "##From 20cm"
      ]
    },
    {
      "cell_type": "code",
      "execution_count": null,
      "metadata": {
        "id": "llgUBvGYJGHk"
      },
      "outputs": [],
      "source": [
        "# ==== 1. Separate features and targets ====\n",
        "\n",
        "# Model using only moisture_20cm\n",
        "X_train_20cm_only = train_base[['moisture_20cm']]\n",
        "y_train_20cm_only = train_base['moisture_10cm']\n",
        "X_test_20cm_only = test_base[['moisture_20cm']]\n",
        "y_test_20cm_only = test_base['moisture_10cm']\n",
        "\n",
        "# Full model (with meteorological and moisture_20cm features)\n",
        "features_to_exclude = ['moisture_10cm', 'moisture_30cm', 'moisture_40cm', 'moisture_50cm', 'moisture_60cm', 'timestamp_device']\n",
        "X_train_full = train_base.drop(columns=features_to_exclude)\n",
        "y_train_full = train_base['moisture_10cm']\n",
        "X_test_full = test_base.drop(columns=features_to_exclude)\n",
        "y_test_full = test_base['moisture_10cm']\n",
        "\n",
        "# ==== 3. Baseline Extra Trees using moisture_20cm + meteorological features ====\n",
        "features_to_exclude_partial = ['moisture_10cm', 'moisture_30cm', 'moisture_40cm', 'moisture_50cm', 'moisture_60cm','timestamp_device']\n",
        "X_train_20cm_meteo = train_base.drop(columns=features_to_exclude_partial)\n",
        "X_test_20cm_meteo = test_base.drop(columns=features_to_exclude_partial)"
      ]
    },
    {
      "cell_type": "code",
      "source": [
        "# Model using moisture_20cm only\n",
        "xgb_20cm = XGBRegressor(random_state=42, n_estimators=100, objective='reg:squarederror')\n",
        "xgb_20cm.fit(X_train_20cm_only, y_train_20cm_only)\n",
        "y_train_pred_20cm = xgb_20cm.predict(X_train_20cm_only)\n",
        "y_test_pred_20cm = xgb_20cm.predict(X_test_20cm_only)\n",
        "\n",
        "print(\"XGBoost - moisture_20cm only\")\n",
        "print(\"Train R2:\", r2_score(y_train_20cm_only, y_train_pred_20cm))\n",
        "print(\"Test R2:\", r2_score(y_test_20cm_only, y_test_pred_20cm))\n",
        "print(\"Train RMSE:\", np.sqrt(mean_squared_error(y_train_20cm_only, y_train_pred_20cm)))\n",
        "print(\"Test RMSE:\", np.sqrt(mean_squared_error(y_test_20cm_only, y_test_pred_20cm)))\n",
        "\n",
        "# Model using moisture_20cm + meteorological features\n",
        "xgb_full = XGBRegressor(random_state=42, n_estimators=100, objective='reg:squarederror')\n",
        "xgb_full.fit(X_train_full, y_train_full)\n",
        "y_train_pred_full = xgb_full.predict(X_train_full)\n",
        "y_test_pred_full = xgb_full.predict(X_test_full)\n",
        "\n",
        "print(\"\\nXGBoost - moisture_20cm + meteorological features\")\n",
        "print(\"Train R2:\", r2_score(y_train_full, y_train_pred_full))\n",
        "print(\"Test R2:\", r2_score(y_test_full, y_test_pred_full))\n",
        "print(\"Train RMSE:\", np.sqrt(mean_squared_error(y_train_full, y_train_pred_full)))\n",
        "print(\"Test RMSE:\", np.sqrt(mean_squared_error(y_test_full, y_test_pred_full)))\n"
      ],
      "metadata": {
        "colab": {
          "base_uri": "https://localhost:8080/"
        },
        "id": "JzTJ9jV8VH76",
        "outputId": "c0e0c66d-df79-4917-d96c-fb3f751107b7"
      },
      "execution_count": null,
      "outputs": [
        {
          "output_type": "stream",
          "name": "stdout",
          "text": [
            "XGBoost - moisture_20cm only\n",
            "Train R2: 0.744941736599625\n",
            "Test R2: 0.7454439808901321\n",
            "Train RMSE: 0.0435825908160058\n",
            "Test RMSE: 0.043490752819757825\n",
            "\n",
            "XGBoost - moisture_20cm + meteorological features\n",
            "Train R2: 0.8893766326352112\n",
            "Test R2: 0.8768489417015657\n",
            "Train RMSE: 0.028702305437761595\n",
            "Test RMSE: 0.0302499258313184\n"
          ]
        }
      ]
    },
    {
      "cell_type": "markdown",
      "metadata": {
        "id": "1ORqaOUBn3f2"
      },
      "source": [
        "##From 30cm"
      ]
    },
    {
      "cell_type": "code",
      "execution_count": null,
      "metadata": {
        "id": "-VGgU5rKOHBr"
      },
      "outputs": [],
      "source": [
        "# ==== 1. Separate features and targets ====\n",
        "\n",
        "# Model using only moisture_30cm\n",
        "X_train_30cm_only = train_base[['moisture_30cm']]\n",
        "y_train_30cm_only = train_base['moisture_10cm']\n",
        "X_test_30cm_only = test_base[['moisture_30cm']]\n",
        "y_test_30cm_only = test_base['moisture_10cm']\n",
        "\n",
        "# Full model (with meteorological and moisture_30cm features)\n",
        "features_to_exclude = ['moisture_10cm', 'moisture_20cm', 'moisture_40cm', 'moisture_50cm', 'moisture_60cm','timestamp_device']\n",
        "X_train_full = train_base.drop(columns=features_to_exclude)\n",
        "y_train_full = train_base['moisture_10cm']\n",
        "X_test_full = test_base.drop(columns=features_to_exclude)\n",
        "y_test_full = test_base['moisture_10cm']\n"
      ]
    },
    {
      "cell_type": "code",
      "source": [
        "# Model using only moisture_30cm\n",
        "xgb_30cm = XGBRegressor(random_state=42, n_estimators=100, objective='reg:squarederror')\n",
        "xgb_30cm.fit(X_train_30cm_only, y_train_30cm_only)\n",
        "y_train_pred_30cm = xgb_30cm.predict(X_train_30cm_only)\n",
        "y_test_pred_30cm = xgb_30cm.predict(X_test_30cm_only)\n",
        "\n",
        "print(\"XGBoost - moisture_30cm only\")\n",
        "print(\"Train R2:\", r2_score(y_train_30cm_only, y_train_pred_30cm))\n",
        "print(\"Test R2:\", r2_score(y_test_30cm_only, y_test_pred_30cm))\n",
        "print(\"Train RMSE:\", np.sqrt(mean_squared_error(y_train_30cm_only, y_train_pred_30cm)))\n",
        "print(\"Test RMSE:\", np.sqrt(mean_squared_error(y_test_30cm_only, y_test_pred_30cm)))\n",
        "\n",
        "# Model using moisture_30cm + meteorological features\n",
        "xgb_full = XGBRegressor(random_state=42, n_estimators=100, objective='reg:squarederror')\n",
        "xgb_full.fit(X_train_full, y_train_full)\n",
        "y_train_pred_full = xgb_full.predict(X_train_full)\n",
        "y_test_pred_full = xgb_full.predict(X_test_full)\n",
        "\n",
        "print(\"\\nXGBoost - moisture_30cm + meteorological features\")\n",
        "print(\"Train R2:\", r2_score(y_train_full, y_train_pred_full))\n",
        "print(\"Test R2:\", r2_score(y_test_full, y_test_pred_full))\n",
        "print(\"Train RMSE:\", np.sqrt(mean_squared_error(y_train_full, y_train_pred_full)))\n",
        "print(\"Test RMSE:\", np.sqrt(mean_squared_error(y_test_full, y_test_pred_full)))"
      ],
      "metadata": {
        "colab": {
          "base_uri": "https://localhost:8080/"
        },
        "id": "ecoiq6SDaH3C",
        "outputId": "cf6179ec-8a2e-4832-9b65-2dbd0fa4547a"
      },
      "execution_count": null,
      "outputs": [
        {
          "output_type": "stream",
          "name": "stdout",
          "text": [
            "XGBoost - moisture_30cm only\n",
            "Train R2: 0.5023451826471594\n",
            "Test R2: 0.5055129907286264\n",
            "Train RMSE: 0.06087758991713718\n",
            "Test RMSE: 0.06061535923646301\n",
            "\n",
            "XGBoost - moisture_30cm + meteorological features\n",
            "Train R2: 0.8035440190682781\n",
            "Test R2: 0.7812607133558145\n",
            "Train RMSE: 0.03824951847152517\n",
            "Test RMSE: 0.04031518302154115\n"
          ]
        }
      ]
    },
    {
      "cell_type": "markdown",
      "metadata": {
        "id": "g_lRfWnmoPti"
      },
      "source": [
        "##from 40"
      ]
    },
    {
      "cell_type": "code",
      "execution_count": null,
      "metadata": {
        "id": "I7osX21x7mIo"
      },
      "outputs": [],
      "source": [
        "# ==== 1. Separate features and targets ====\n",
        "\n",
        "# Model using only moisture_40cm\n",
        "X_train_40cm_only = train_base[['moisture_40cm']]\n",
        "y_train_40cm_only = train_base['moisture_10cm']\n",
        "X_test_40cm_only = test_base[['moisture_40cm']]\n",
        "y_test_40cm_only = test_base['moisture_10cm']\n",
        "\n",
        "# Full model (with meteorological and moisture_40cm features)\n",
        "features_to_exclude = ['moisture_10cm', 'moisture_20cm', 'moisture_30cm', 'moisture_50cm', 'moisture_60cm', 'timestamp_device']\n",
        "X_train_full = train_base.drop(columns=features_to_exclude)\n",
        "y_train_full = train_base['moisture_10cm']\n",
        "X_test_full = test_base.drop(columns=features_to_exclude)\n",
        "y_test_full = test_base['moisture_10cm']"
      ]
    },
    {
      "cell_type": "code",
      "source": [
        "# Model using moisture_40cm only\n",
        "xgb_40cm = XGBRegressor(random_state=42, n_estimators=100, objective='reg:squarederror')\n",
        "xgb_40cm.fit(X_train_40cm_only, y_train_40cm_only)\n",
        "y_train_pred_40cm = xgb_40cm.predict(X_train_40cm_only)\n",
        "y_test_pred_40cm = xgb_40cm.predict(X_test_40cm_only)\n",
        "\n",
        "print(\"XGBoost - moisture_40cm only\")\n",
        "print(\"Train R2:\", r2_score(y_train_40cm_only, y_train_pred_40cm))\n",
        "print(\"Test R2:\", r2_score(y_test_40cm_only, y_test_pred_40cm))\n",
        "print(\"Train RMSE:\", np.sqrt(mean_squared_error(y_train_40cm_only, y_train_pred_40cm)))\n",
        "print(\"Test RMSE:\", np.sqrt(mean_squared_error(y_test_40cm_only, y_test_pred_40cm)))\n",
        "\n",
        "# Model using moisture_40cm + meteorological features\n",
        "xgb_full = XGBRegressor(random_state=42, n_estimators=100, objective='reg:squarederror')\n",
        "xgb_full.fit(X_train_full, y_train_full)\n",
        "y_train_pred_full = xgb_full.predict(X_train_full)\n",
        "y_test_pred_full = xgb_full.predict(X_test_full)\n",
        "\n",
        "print(\"\\nXGBoost - moisture_40cm + meteorological features\")\n",
        "print(\"Train R2:\", r2_score(y_train_full, y_train_pred_full))\n",
        "print(\"Test R2:\", r2_score(y_test_full, y_test_pred_full))\n",
        "print(\"Train RMSE:\", np.sqrt(mean_squared_error(y_train_full, y_train_pred_full)))\n",
        "print(\"Test RMSE:\", np.sqrt(mean_squared_error(y_test_full, y_test_pred_full)))"
      ],
      "metadata": {
        "colab": {
          "base_uri": "https://localhost:8080/"
        },
        "id": "KZxzMaBssZEj",
        "outputId": "c0eb6968-6cb0-49d1-b768-3c28f3712081"
      },
      "execution_count": null,
      "outputs": [
        {
          "output_type": "stream",
          "name": "stdout",
          "text": [
            "XGBoost - moisture_40cm only\n",
            "Train R2: 0.43490336409992114\n",
            "Test R2: 0.43544551924125896\n",
            "Train RMSE: 0.06487161433891546\n",
            "Test RMSE: 0.06476765443592836\n",
            "\n",
            "XGBoost - moisture_40cm + meteorological features\n",
            "Train R2: 0.7891356184147221\n",
            "Test R2: 0.7620117853622307\n",
            "Train RMSE: 0.03962734335231106\n",
            "Test RMSE: 0.042051642681905546\n"
          ]
        }
      ]
    },
    {
      "cell_type": "markdown",
      "metadata": {
        "id": "7DLMfJIFoR3c"
      },
      "source": [
        "##From 50"
      ]
    },
    {
      "cell_type": "code",
      "execution_count": null,
      "metadata": {
        "id": "nCW6T5bBD6HO"
      },
      "outputs": [],
      "source": [
        "# ==== 1. Separate features and targets ====\n",
        "\n",
        "# Model using only moisture_50cm\n",
        "X_train_50cm_only = train_base[['moisture_50cm']]\n",
        "y_train_50cm_only = train_base['moisture_10cm']\n",
        "X_test_50cm_only = test_base[['moisture_50cm']]\n",
        "y_test_50cm_only = test_base['moisture_10cm']\n",
        "\n",
        "# Full model (with meteorological and moisture_50cm features)\n",
        "features_to_exclude_50cm = ['moisture_10cm', 'moisture_20cm', 'moisture_30cm', 'moisture_40cm', 'moisture_60cm', 'timestamp_device']\n",
        "X_train_full_50cm = train_base.drop(columns=features_to_exclude_50cm)\n",
        "y_train_full_50cm = train_base['moisture_10cm']\n",
        "X_test_full_50cm = test_base.drop(columns=features_to_exclude_50cm)\n",
        "y_test_full_50cm = test_base['moisture_10cm']"
      ]
    },
    {
      "cell_type": "code",
      "source": [
        "# Model using moisture_50cm only\n",
        "xgb_50cm = XGBRegressor(random_state=42, n_estimators=100, objective='reg:squarederror')\n",
        "xgb_50cm.fit(X_train_50cm_only, y_train_50cm_only)\n",
        "y_train_pred_50cm = xgb_50cm.predict(X_train_50cm_only)\n",
        "y_test_pred_50cm = xgb_50cm.predict(X_test_50cm_only)\n",
        "\n",
        "print(\"XGBoost - moisture_50cm only\")\n",
        "print(\"Train R2:\", r2_score(y_train_50cm_only, y_train_pred_50cm))\n",
        "print(\"Test R2:\", r2_score(y_test_50cm_only, y_test_pred_50cm))\n",
        "print(\"Train RMSE:\", np.sqrt(mean_squared_error(y_train_50cm_only, y_train_pred_50cm)))\n",
        "print(\"Test RMSE:\", np.sqrt(mean_squared_error(y_test_50cm_only, y_test_pred_50cm)))\n",
        "\n",
        "# Model using moisture_50cm + meteorological features\n",
        "xgb_full_50cm = XGBRegressor(random_state=42, n_estimators=100, objective='reg:squarederror')\n",
        "xgb_full_50cm.fit(X_train_full_50cm, y_train_full_50cm)\n",
        "y_train_pred_full_50cm = xgb_full_50cm.predict(X_train_full_50cm)\n",
        "y_test_pred_full_50cm = xgb_full_50cm.predict(X_test_full_50cm)\n",
        "\n",
        "print(\"\\nXGBoost - moisture_50cm + meteorological features\")\n",
        "print(\"Train R2:\", r2_score(y_train_full_50cm, y_train_pred_full_50cm))\n",
        "print(\"Test R2:\", r2_score(y_test_full_50cm, y_test_pred_full_50cm))\n",
        "print(\"Train RMSE:\", np.sqrt(mean_squared_error(y_train_full_50cm, y_train_pred_full_50cm)))\n",
        "print(\"Test RMSE:\", np.sqrt(mean_squared_error(y_test_full_50cm, y_test_pred_full_50cm)))"
      ],
      "metadata": {
        "colab": {
          "base_uri": "https://localhost:8080/"
        },
        "id": "M6PJK8q5s6Fk",
        "outputId": "ab8c9674-3505-43e8-f902-6857fcfaa565"
      },
      "execution_count": null,
      "outputs": [
        {
          "output_type": "stream",
          "name": "stdout",
          "text": [
            "XGBoost - moisture_50cm only\n",
            "Train R2: 0.3623550606439573\n",
            "Test R2: 0.36873100443529017\n",
            "Train RMSE: 0.06891008779598716\n",
            "Test RMSE: 0.0684876823661101\n",
            "\n",
            "XGBoost - moisture_50cm + meteorological features\n",
            "Train R2: 0.7447335999949114\n",
            "Test R2: 0.7141599946996269\n",
            "Train RMSE: 0.043600369660963124\n",
            "Test RMSE: 0.046085759129853916\n"
          ]
        }
      ]
    },
    {
      "cell_type": "markdown",
      "metadata": {
        "id": "8r7kcrnYoT9Y"
      },
      "source": [
        "##from 60"
      ]
    },
    {
      "cell_type": "code",
      "execution_count": null,
      "metadata": {
        "id": "-RWBWvM0mycd"
      },
      "outputs": [],
      "source": [
        "# ==== 1. Separate features and targets ====\n",
        "\n",
        "# Model using only moisture_60cm\n",
        "X_train_60cm_only = train_base[['moisture_60cm']]\n",
        "y_train_60cm_only = train_base['moisture_10cm']\n",
        "X_test_60cm_only = test_base[['moisture_60cm']]\n",
        "y_test_60cm_only = test_base['moisture_10cm']\n",
        "\n",
        "# Full model (with meteorological and moisture_60cm features)\n",
        "features_to_exclude = ['moisture_10cm', 'moisture_20cm', 'moisture_30cm', 'moisture_40cm', 'moisture_50cm', 'timestamp_device']\n",
        "X_train_full_60 = train_base.drop(columns=features_to_exclude)\n",
        "y_train_full_60 = train_base['moisture_10cm']\n",
        "X_test_full_60 = test_base.drop(columns=features_to_exclude)\n",
        "y_test_full_60 = test_base['moisture_10cm']"
      ]
    },
    {
      "cell_type": "code",
      "source": [
        "# Model using moisture_60cm only\n",
        "xgb_60cm = XGBRegressor(random_state=42, n_estimators=100, objective='reg:squarederror')\n",
        "xgb_60cm.fit(X_train_60cm_only, y_train_60cm_only)\n",
        "y_train_pred_60cm = xgb_60cm.predict(X_train_60cm_only)\n",
        "y_test_pred_60cm = xgb_60cm.predict(X_test_60cm_only)\n",
        "\n",
        "print(\"XGBoost - moisture_60cm only\")\n",
        "print(\"Train R2:\", r2_score(y_train_60cm_only, y_train_pred_60cm))\n",
        "print(\"Test R2:\", r2_score(y_test_60cm_only, y_test_pred_60cm))\n",
        "print(\"Train RMSE:\", np.sqrt(mean_squared_error(y_train_60cm_only, y_train_pred_60cm)))\n",
        "print(\"Test RMSE:\", np.sqrt(mean_squared_error(y_test_60cm_only, y_test_pred_60cm)))\n",
        "\n",
        "# Model using moisture_60cm + meteorological features\n",
        "xgb_full_60cm = XGBRegressor(random_state=42, n_estimators=100, objective='reg:squarederror')\n",
        "xgb_full_60cm.fit(X_train_full_60, y_train_full_60)\n",
        "y_train_pred_full_60cm = xgb_full_60cm.predict(X_train_full_60)\n",
        "y_test_pred_full_60cm = xgb_full_60cm.predict(X_test_full_60)\n",
        "\n",
        "print(\"\\nXGBoost - moisture_60cm + meteorological features\")\n",
        "print(\"Train R2:\", r2_score(y_train_full_60, y_train_pred_full_60cm))\n",
        "print(\"Test R2:\", r2_score(y_test_full_60, y_test_pred_full_60cm))\n",
        "print(\"Train RMSE:\", np.sqrt(mean_squared_error(y_train_full_60, y_train_pred_full_60cm)))\n",
        "print(\"Test RMSE:\", np.sqrt(mean_squared_error(y_test_full_60, y_test_pred_full_60cm)))"
      ],
      "metadata": {
        "colab": {
          "base_uri": "https://localhost:8080/"
        },
        "id": "oImTmLZOtjcv",
        "outputId": "12375c2a-b916-4f94-fc7d-c924849c9cc8"
      },
      "execution_count": null,
      "outputs": [
        {
          "output_type": "stream",
          "name": "stdout",
          "text": [
            "XGBoost - moisture_60cm only\n",
            "Train R2: 0.39559564027424055\n",
            "Test R2: 0.3992083617222575\n",
            "Train RMSE: 0.06708989910888154\n",
            "Test RMSE: 0.06681395493375686\n",
            "\n",
            "XGBoost - moisture_60cm + meteorological features\n",
            "Train R2: 0.7705685118716368\n",
            "Test R2: 0.7429909351395063\n",
            "Train RMSE: 0.041335182136408966\n",
            "Test RMSE: 0.043699801144302615\n"
          ]
        }
      ]
    },
    {
      "cell_type": "markdown",
      "metadata": {
        "id": "6phHPmaime6M"
      },
      "source": [
        "#Predicitng Moisture at 20cm"
      ]
    },
    {
      "cell_type": "markdown",
      "metadata": {
        "id": "D3Sz92zCmiF8"
      },
      "source": [
        "##From 10cm depth"
      ]
    },
    {
      "cell_type": "code",
      "execution_count": null,
      "metadata": {
        "id": "Mu5YhUZVnPpi"
      },
      "outputs": [],
      "source": [
        "# ==== 1. Separate features and targets ====\n",
        "\n",
        "# Model using only moisture_10cm\n",
        "X_train_10cm_only = train_base[['moisture_10cm']]\n",
        "y_train_10cm_only = train_base['moisture_20cm']\n",
        "X_test_10cm_only = test_base[['moisture_10cm']]\n",
        "y_test_10cm_only = test_base['moisture_20cm']\n",
        "\n",
        "# Full model (with meteorological and moisture_10cm features)\n",
        "features_to_exclude_20 = ['moisture_20cm', 'moisture_30cm', 'moisture_40cm', 'moisture_50cm', 'moisture_60cm', 'timestamp_device']\n",
        "X_train_full_10 = train_base.drop(columns=features_to_exclude_20)\n",
        "y_train_full_10 = train_base['moisture_20cm']\n",
        "X_test_full_10 = test_base.drop(columns=features_to_exclude_20)\n",
        "y_test_full_10 = test_base['moisture_20cm']\n"
      ]
    },
    {
      "cell_type": "code",
      "source": [
        "# Model using moisture_10cm only\n",
        "xgb_10cm = XGBRegressor(random_state=42, n_estimators=100, objective='reg:squarederror')\n",
        "xgb_10cm.fit(X_train_10cm_only, y_train_10cm_only)\n",
        "y_train_pred_10cm = xgb_10cm.predict(X_train_10cm_only)\n",
        "y_test_pred_10cm = xgb_10cm.predict(X_test_10cm_only)\n",
        "\n",
        "print(\"XGBoost - moisture_10cm only\")\n",
        "print(\"Train R2:\", r2_score(y_train_10cm_only, y_train_pred_10cm))\n",
        "print(\"Test R2:\", r2_score(y_test_10cm_only, y_test_pred_10cm))\n",
        "print(\"Train RMSE:\", np.sqrt(mean_squared_error(y_train_10cm_only, y_train_pred_10cm)))\n",
        "print(\"Test RMSE:\", np.sqrt(mean_squared_error(y_test_10cm_only, y_test_pred_10cm)))\n",
        "\n",
        "# Model using moisture_10cm + meteorological features\n",
        "xgb_full_10cm = XGBRegressor(random_state=42, n_estimators=100, objective='reg:squarederror')\n",
        "xgb_full_10cm.fit(X_train_full_10, y_train_full_10)\n",
        "y_train_pred_full_10cm = xgb_full_10cm.predict(X_train_full_10)\n",
        "y_test_pred_full_10cm = xgb_full_10cm.predict(X_test_full_10)\n",
        "\n",
        "print(\"\\nXGBoost - moisture_10cm + meteorological features\")\n",
        "print(\"Train R2:\", r2_score(y_train_full_10, y_train_pred_full_10cm))\n",
        "print(\"Test R2:\", r2_score(y_test_full_10, y_test_pred_full_10cm))\n",
        "print(\"Train RMSE:\", np.sqrt(mean_squared_error(y_train_full_10, y_train_pred_full_10cm)))\n",
        "print(\"Test RMSE:\", np.sqrt(mean_squared_error(y_test_full_10, y_test_pred_full_10cm)))"
      ],
      "metadata": {
        "colab": {
          "base_uri": "https://localhost:8080/"
        },
        "id": "olO-NOKUuG-F",
        "outputId": "955acf8f-1936-410d-82ae-796eb2f5232c"
      },
      "execution_count": null,
      "outputs": [
        {
          "output_type": "stream",
          "name": "stdout",
          "text": [
            "XGBoost - moisture_10cm only\n",
            "Train R2: 0.7967628879847752\n",
            "Test R2: 0.7954979999629099\n",
            "Train RMSE: 0.028416860655735267\n",
            "Test RMSE: 0.02862811297554261\n",
            "\n",
            "XGBoost - moisture_10cm + meteorological features\n",
            "Train R2: 0.9163831412562671\n",
            "Test R2: 0.9049712728410145\n",
            "Train RMSE: 0.018227265278821007\n",
            "Test RMSE: 0.01951512775147976\n"
          ]
        }
      ]
    },
    {
      "cell_type": "markdown",
      "metadata": {
        "id": "YW6UGuwUm5b5"
      },
      "source": [
        "##From 30cm depth"
      ]
    },
    {
      "cell_type": "code",
      "execution_count": null,
      "metadata": {
        "id": "iidxcHzoOp4T"
      },
      "outputs": [],
      "source": [
        "# ==== 1. Separate features and targets ====\n",
        "\n",
        "# Model using only moisture_30cm\n",
        "X_train_30cm_only = train_base[['moisture_30cm']]\n",
        "y_train_30cm_only = train_base['moisture_20cm']\n",
        "X_test_30cm_only = test_base[['moisture_30cm']]\n",
        "y_test_30cm_only = test_base['moisture_20cm']\n",
        "\n",
        "# Full model (moisture_30cm + meteorological features)\n",
        "features_to_exclude_20_from_30 = ['moisture_10cm', 'moisture_20cm', 'moisture_40cm', 'moisture_50cm', 'moisture_60cm', 'timestamp_device']\n",
        "X_train_full_30 = train_base.drop(columns=features_to_exclude_20_from_30)\n",
        "y_train_full_30 = train_base['moisture_20cm']\n",
        "X_test_full_30 = test_base.drop(columns=features_to_exclude_20_from_30)\n",
        "y_test_full_30 = test_base['moisture_20cm']\n"
      ]
    },
    {
      "cell_type": "code",
      "source": [
        "# Model using moisture_30cm only\n",
        "xgb_30cm = XGBRegressor(random_state=42, n_estimators=100, objective='reg:squarederror')\n",
        "xgb_30cm.fit(X_train_30cm_only, y_train_30cm_only)\n",
        "y_train_pred_30cm = xgb_30cm.predict(X_train_30cm_only)\n",
        "y_test_pred_30cm = xgb_30cm.predict(X_test_30cm_only)\n",
        "\n",
        "print(\"XGBoost - moisture_30cm only\")\n",
        "print(\"Train R2:\", r2_score(y_train_30cm_only, y_train_pred_30cm))\n",
        "print(\"Test R2:\", r2_score(y_test_30cm_only, y_test_pred_30cm))\n",
        "print(\"Train RMSE:\", np.sqrt(mean_squared_error(y_train_30cm_only, y_train_pred_30cm)))\n",
        "print(\"Test RMSE:\", np.sqrt(mean_squared_error(y_test_30cm_only, y_test_pred_30cm)))\n",
        "\n",
        "# Model using moisture_30cm + meteorological features\n",
        "xgb_full_30cm = XGBRegressor(random_state=42, n_estimators=100, objective='reg:squarederror')\n",
        "xgb_full_30cm.fit(X_train_full_30, y_train_full_30)\n",
        "y_train_pred_full_30cm = xgb_full_30cm.predict(X_train_full_30)\n",
        "y_test_pred_full_30cm = xgb_full_30cm.predict(X_test_full_30)\n",
        "\n",
        "print(\"\\nXGBoost - moisture_30cm + meteorological features\")\n",
        "print(\"Train R2:\", r2_score(y_train_full_30, y_train_pred_full_30cm))\n",
        "print(\"Test R2:\", r2_score(y_test_full_30, y_test_pred_full_30cm))\n",
        "print(\"Train RMSE:\", np.sqrt(mean_squared_error(y_train_full_30, y_train_pred_full_30cm)))\n",
        "print(\"Test RMSE:\", np.sqrt(mean_squared_error(y_test_full_30, y_test_pred_full_30cm)))"
      ],
      "metadata": {
        "colab": {
          "base_uri": "https://localhost:8080/"
        },
        "id": "sbo0CBfXujTt",
        "outputId": "4016e845-d395-4d77-e725-4aca62598bab"
      },
      "execution_count": null,
      "outputs": [
        {
          "output_type": "stream",
          "name": "stdout",
          "text": [
            "XGBoost - moisture_30cm only\n",
            "Train R2: 0.7526369074878596\n",
            "Test R2: 0.7560269137725564\n",
            "Train RMSE: 0.0313503245442349\n",
            "Test RMSE: 0.0312690655217951\n",
            "\n",
            "XGBoost - moisture_30cm + meteorological features\n",
            "Train R2: 0.9303044476547079\n",
            "Test R2: 0.9191336909076707\n",
            "Train RMSE: 0.016640911936742813\n",
            "Test RMSE: 0.018002289989494904\n"
          ]
        }
      ]
    },
    {
      "cell_type": "markdown",
      "metadata": {
        "id": "jx2N1n8vnCKE"
      },
      "source": [
        "##from 40cm depth"
      ]
    },
    {
      "cell_type": "code",
      "execution_count": null,
      "metadata": {
        "id": "HZ3RkZT6P8ba"
      },
      "outputs": [],
      "source": [
        "# ==== 1. Separate features and targets ====\n",
        "\n",
        "# Model using only moisture_40cm\n",
        "X_train_40cm_only = train_base[['moisture_40cm']]\n",
        "y_train_40cm_only = train_base['moisture_20cm']\n",
        "X_test_40cm_only = test_base[['moisture_40cm']]\n",
        "y_test_40cm_only = test_base['moisture_20cm']\n",
        "\n",
        "# Full model (moisture_40cm + meteorological features)\n",
        "features_to_exclude_20_from_40 = ['moisture_10cm', 'moisture_20cm', 'moisture_30cm', 'moisture_50cm', 'moisture_60cm', 'timestamp_device']\n",
        "X_train_full_40 = train_base.drop(columns=features_to_exclude_20_from_40)\n",
        "y_train_full_40 = train_base['moisture_20cm']\n",
        "X_test_full_40 = test_base.drop(columns=features_to_exclude_20_from_40)\n",
        "y_test_full_40 = test_base['moisture_20cm']\n"
      ]
    },
    {
      "cell_type": "code",
      "source": [
        "# Model using moisture_40cm only\n",
        "xgb_40cm = XGBRegressor(random_state=42, n_estimators=100, objective='reg:squarederror')\n",
        "xgb_40cm.fit(X_train_40cm_only, y_train_40cm_only)\n",
        "y_train_pred_40cm = xgb_40cm.predict(X_train_40cm_only)\n",
        "y_test_pred_40cm = xgb_40cm.predict(X_test_40cm_only)\n",
        "\n",
        "print(\"XGBoost - moisture_40cm only\")\n",
        "print(\"Train R2:\", r2_score(y_train_40cm_only, y_train_pred_40cm))\n",
        "print(\"Test R2:\", r2_score(y_test_40cm_only, y_test_pred_40cm))\n",
        "print(\"Train RMSE:\", np.sqrt(mean_squared_error(y_train_40cm_only, y_train_pred_40cm)))\n",
        "print(\"Test RMSE:\", np.sqrt(mean_squared_error(y_test_40cm_only, y_test_pred_40cm)))\n",
        "\n",
        "# Model using moisture_40cm + meteorological features\n",
        "xgb_full_40cm = XGBRegressor(random_state=42, n_estimators=100, objective='reg:squarederror')\n",
        "xgb_full_40cm.fit(X_train_full_40, y_train_full_40)\n",
        "y_train_pred_full_40cm = xgb_full_40cm.predict(X_train_full_40)\n",
        "y_test_pred_full_40cm = xgb_full_40cm.predict(X_test_full_40)\n",
        "\n",
        "print(\"\\nXGBoost - moisture_40cm + meteorological features\")\n",
        "print(\"Train R2:\", r2_score(y_train_full_40, y_train_pred_full_40cm))\n",
        "print(\"Test R2:\", r2_score(y_test_full_40, y_test_pred_full_40cm))\n",
        "print(\"Train RMSE:\", np.sqrt(mean_squared_error(y_train_full_40, y_train_pred_full_40cm)))\n",
        "print(\"Test RMSE:\", np.sqrt(mean_squared_error(y_test_full_40, y_test_pred_full_40cm)))"
      ],
      "metadata": {
        "colab": {
          "base_uri": "https://localhost:8080/"
        },
        "id": "cCoF6zAQu-DR",
        "outputId": "f269f859-654c-4839-afd9-843b405bef0e"
      },
      "execution_count": null,
      "outputs": [
        {
          "output_type": "stream",
          "name": "stdout",
          "text": [
            "XGBoost - moisture_40cm only\n",
            "Train R2: 0.6946337149218375\n",
            "Test R2: 0.7003973072626095\n",
            "Train RMSE: 0.0348325390815507\n",
            "Test RMSE: 0.03465108187540542\n",
            "\n",
            "XGBoost - moisture_40cm + meteorological features\n",
            "Train R2: 0.8978197242326996\n",
            "Test R2: 0.8856698060196123\n",
            "Train RMSE: 0.020149214741467504\n",
            "Test RMSE: 0.021405452483575872\n"
          ]
        }
      ]
    },
    {
      "cell_type": "markdown",
      "metadata": {
        "id": "5_ETFjjhnENS"
      },
      "source": [
        "##from 50cm depth"
      ]
    },
    {
      "cell_type": "code",
      "execution_count": null,
      "metadata": {
        "id": "vCA-5NtAQX6c"
      },
      "outputs": [],
      "source": [
        "# ==== 1. Separate features and targets ====\n",
        "\n",
        "# Model using only moisture_50cm\n",
        "X_train_50cm_only = train_base[['moisture_50cm']]\n",
        "y_train_50cm_only = train_base['moisture_20cm']\n",
        "X_test_50cm_only = test_base[['moisture_50cm']]\n",
        "y_test_50cm_only = test_base['moisture_20cm']\n",
        "\n",
        "# Full model (moisture_50cm + meteorological features)\n",
        "features_to_exclude_20_from_50 = ['moisture_10cm', 'moisture_20cm', 'moisture_30cm', 'moisture_40cm', 'moisture_60cm', 'timestamp_device']\n",
        "X_train_full_50 = train_base.drop(columns=features_to_exclude_20_from_50)\n",
        "y_train_full_50 = train_base['moisture_20cm']\n",
        "X_test_full_50 = test_base.drop(columns=features_to_exclude_20_from_50)\n",
        "y_test_full_50 = test_base['moisture_20cm']"
      ]
    },
    {
      "cell_type": "code",
      "source": [
        "# Model using moisture_50cm only\n",
        "xgb_50cm = XGBRegressor(random_state=42, n_estimators=100, objective='reg:squarederror')\n",
        "xgb_50cm.fit(X_train_50cm_only, y_train_50cm_only)\n",
        "y_train_pred_50cm = xgb_50cm.predict(X_train_50cm_only)\n",
        "y_test_pred_50cm = xgb_50cm.predict(X_test_50cm_only)\n",
        "\n",
        "print(\"XGBoost - moisture_50cm only\")\n",
        "print(\"Train R2:\", r2_score(y_train_50cm_only, y_train_pred_50cm))\n",
        "print(\"Test R2:\", r2_score(y_test_50cm_only, y_test_pred_50cm))\n",
        "print(\"Train RMSE:\", np.sqrt(mean_squared_error(y_train_50cm_only, y_train_pred_50cm)))\n",
        "print(\"Test RMSE:\", np.sqrt(mean_squared_error(y_test_50cm_only, y_test_pred_50cm)))\n",
        "\n",
        "# Model using moisture_50cm + meteorological features\n",
        "xgb_full_50cm = XGBRegressor(random_state=42, n_estimators=100, objective='reg:squarederror')\n",
        "xgb_full_50cm.fit(X_train_full_50, y_train_full_50)\n",
        "y_train_pred_full_50cm = xgb_full_50cm.predict(X_train_full_50)\n",
        "y_test_pred_full_50cm = xgb_full_50cm.predict(X_test_full_50)\n",
        "\n",
        "print(\"\\nXGBoost - moisture_50cm + meteorological features\")\n",
        "print(\"Train R2:\", r2_score(y_train_full_50, y_train_pred_full_50cm))\n",
        "print(\"Test R2:\", r2_score(y_test_full_50, y_test_pred_full_50cm))\n",
        "print(\"Train RMSE:\", np.sqrt(mean_squared_error(y_train_full_50, y_train_pred_full_50cm)))\n",
        "print(\"Test RMSE:\", np.sqrt(mean_squared_error(y_test_full_50, y_test_pred_full_50cm)))"
      ],
      "metadata": {
        "colab": {
          "base_uri": "https://localhost:8080/"
        },
        "id": "zGw7xZ0iwOvk",
        "outputId": "77cbc832-43de-4469-f545-651c690b6fa0"
      },
      "execution_count": null,
      "outputs": [
        {
          "output_type": "stream",
          "name": "stdout",
          "text": [
            "XGBoost - moisture_50cm only\n",
            "Train R2: 0.6361343155122592\n",
            "Test R2: 0.6408328956881998\n",
            "Train RMSE: 0.038022891492833236\n",
            "Test RMSE: 0.037939553821147554\n",
            "\n",
            "XGBoost - moisture_50cm + meteorological features\n",
            "Train R2: 0.8854739726754814\n",
            "Test R2: 0.8697957958535426\n",
            "Train RMSE: 0.021331759971548563\n",
            "Test RMSE: 0.022843173911812845\n"
          ]
        }
      ]
    },
    {
      "cell_type": "markdown",
      "metadata": {
        "id": "rAKsOlvmnGJV"
      },
      "source": [
        "##from 60cm depth"
      ]
    },
    {
      "cell_type": "code",
      "execution_count": null,
      "metadata": {
        "id": "rp4kLLAJRLv-"
      },
      "outputs": [],
      "source": [
        "# ==== 1. Separate features and targets ====\n",
        "\n",
        "# Model using only moisture_60cm\n",
        "X_train_60cm_only = train_base[['moisture_60cm']]\n",
        "y_train_60cm_only = train_base['moisture_20cm']\n",
        "X_test_60cm_only = test_base[['moisture_60cm']]\n",
        "y_test_60cm_only = test_base['moisture_20cm']\n",
        "\n",
        "# Full model (moisture_60cm + meteorological features)\n",
        "features_to_exclude_20_from_60 = ['moisture_10cm', 'moisture_20cm', 'moisture_30cm', 'moisture_40cm', 'moisture_50cm', 'timestamp_device']\n",
        "X_train_full_60 = train_base.drop(columns=features_to_exclude_20_from_60)\n",
        "y_train_full_60 = train_base['moisture_20cm']\n",
        "X_test_full_60 = test_base.drop(columns=features_to_exclude_20_from_60)\n",
        "y_test_full_60 = test_base['moisture_20cm']"
      ]
    },
    {
      "cell_type": "code",
      "source": [
        "# Model using moisture_60cm only\n",
        "xgb_60cm = XGBRegressor(random_state=42, n_estimators=100, objective='reg:squarederror')\n",
        "xgb_60cm.fit(X_train_60cm_only, y_train_60cm_only)\n",
        "y_train_pred_60cm = xgb_60cm.predict(X_train_60cm_only)\n",
        "y_test_pred_60cm = xgb_60cm.predict(X_test_60cm_only)\n",
        "\n",
        "print(\"XGBoost - moisture_60cm only\")\n",
        "print(\"Train R2:\", r2_score(y_train_60cm_only, y_train_pred_60cm))\n",
        "print(\"Test R2:\", r2_score(y_test_60cm_only, y_test_pred_60cm))\n",
        "print(\"Train RMSE:\", np.sqrt(mean_squared_error(y_train_60cm_only, y_train_pred_60cm)))\n",
        "print(\"Test RMSE:\", np.sqrt(mean_squared_error(y_test_60cm_only, y_test_pred_60cm)))\n",
        "\n",
        "# Model using moisture_60cm + meteorological features\n",
        "xgb_full_60cm = XGBRegressor(random_state=42, n_estimators=100, objective='reg:squarederror')\n",
        "xgb_full_60cm.fit(X_train_full_60, y_train_full_60)\n",
        "y_train_pred_full_60cm = xgb_full_60cm.predict(X_train_full_60)\n",
        "y_test_pred_full_60cm = xgb_full_60cm.predict(X_test_full_60)\n",
        "\n",
        "print(\"\\nXGBoost - moisture_60cm + meteorological features\")\n",
        "print(\"Train R2:\", r2_score(y_train_full_60, y_train_pred_full_60cm))\n",
        "print(\"Test R2:\", r2_score(y_test_full_60, y_test_pred_full_60cm))\n",
        "print(\"Train RMSE:\", np.sqrt(mean_squared_error(y_train_full_60, y_train_pred_full_60cm)))\n",
        "print(\"Test RMSE:\", np.sqrt(mean_squared_error(y_test_full_60, y_test_pred_full_60cm)))"
      ],
      "metadata": {
        "colab": {
          "base_uri": "https://localhost:8080/"
        },
        "id": "TPCgVN2jxAH6",
        "outputId": "e8c16148-33bd-453a-b624-27ee6fab4184"
      },
      "execution_count": null,
      "outputs": [
        {
          "output_type": "stream",
          "name": "stdout",
          "text": [
            "XGBoost - moisture_60cm only\n",
            "Train R2: 0.6227320100500078\n",
            "Test R2: 0.623706281544377\n",
            "Train RMSE: 0.03871681018434299\n",
            "Test RMSE: 0.03883357978401483\n",
            "\n",
            "XGBoost - moisture_60cm + meteorological features\n",
            "Train R2: 0.876670219397548\n",
            "Test R2: 0.8590399237722797\n",
            "Train RMSE: 0.02213648032205266\n",
            "Test RMSE: 0.023767965340015948\n"
          ]
        }
      ]
    },
    {
      "cell_type": "markdown",
      "metadata": {
        "id": "XKF5H_GLpAOY"
      },
      "source": [
        "#Predicitng moisture at 30cm depth"
      ]
    },
    {
      "cell_type": "markdown",
      "metadata": {
        "id": "pi7NmLexpDTm"
      },
      "source": [
        "##from 10cm"
      ]
    },
    {
      "cell_type": "code",
      "execution_count": null,
      "metadata": {
        "id": "IHNnnfZPRlkS"
      },
      "outputs": [],
      "source": [
        "# ==== 1. Separate features and targets ====\n",
        "\n",
        "# Model using only moisture_10cm\n",
        "X_train_10cm_only = train_base[['moisture_10cm']]\n",
        "y_train_10cm_only = train_base['moisture_30cm']\n",
        "X_test_10cm_only = test_base[['moisture_10cm']]\n",
        "y_test_10cm_only = test_base['moisture_30cm']\n",
        "\n",
        "# Full model (moisture_10cm + meteorological features)\n",
        "features_to_exclude_30_from_10 = ['moisture_20cm', 'moisture_30cm', 'moisture_40cm', 'moisture_50cm', 'moisture_60cm', 'timestamp_device']\n",
        "X_train_full_10 = train_base.drop(columns=features_to_exclude_30_from_10)\n",
        "y_train_full_10 = train_base['moisture_30cm']\n",
        "X_test_full_10 = test_base.drop(columns=features_to_exclude_30_from_10)\n",
        "y_test_full_10 = test_base['moisture_30cm']\n"
      ]
    },
    {
      "cell_type": "code",
      "source": [
        "# Model using moisture_10cm only\n",
        "xgb_10cm = XGBRegressor(random_state=42, n_estimators=100, objective='reg:squarederror')\n",
        "xgb_10cm.fit(X_train_10cm_only, y_train_10cm_only)\n",
        "y_train_pred_10cm = xgb_10cm.predict(X_train_10cm_only)\n",
        "y_test_pred_10cm = xgb_10cm.predict(X_test_10cm_only)\n",
        "\n",
        "print(\"XGBoost - moisture_10cm only\")\n",
        "print(\"Train R2:\", r2_score(y_train_10cm_only, y_train_pred_10cm))\n",
        "print(\"Test R2:\", r2_score(y_test_10cm_only, y_test_pred_10cm))\n",
        "print(\"Train RMSE:\", np.sqrt(mean_squared_error(y_train_10cm_only, y_train_pred_10cm)))\n",
        "print(\"Test RMSE:\", np.sqrt(mean_squared_error(y_test_10cm_only, y_test_pred_10cm)))\n",
        "\n",
        "# Model using moisture_10cm + meteorological features\n",
        "xgb_full_10cm = XGBRegressor(random_state=42, n_estimators=100, objective='reg:squarederror')\n",
        "xgb_full_10cm.fit(X_train_full_10, y_train_full_10)\n",
        "y_train_pred_full_10cm = xgb_full_10cm.predict(X_train_full_10)\n",
        "y_test_pred_full_10cm = xgb_full_10cm.predict(X_test_full_10)\n",
        "\n",
        "print(\"\\nXGBoost - moisture_10cm + meteorological features\")\n",
        "print(\"Train R2:\", r2_score(y_train_full_10, y_train_pred_full_10cm))\n",
        "print(\"Test R2:\", r2_score(y_test_full_10, y_test_pred_full_10cm))\n",
        "print(\"Train RMSE:\", np.sqrt(mean_squared_error(y_train_full_10, y_train_pred_full_10cm)))\n",
        "print(\"Test RMSE:\", np.sqrt(mean_squared_error(y_test_full_10, y_test_pred_full_10cm)))"
      ],
      "metadata": {
        "colab": {
          "base_uri": "https://localhost:8080/"
        },
        "id": "R4nuIAUC0DtF",
        "outputId": "401dc736-cf98-4da7-dd4c-525c634ebd7a"
      },
      "execution_count": null,
      "outputs": [
        {
          "output_type": "stream",
          "name": "stdout",
          "text": [
            "XGBoost - moisture_10cm only\n",
            "Train R2: 0.6449805469496817\n",
            "Test R2: 0.642650269280671\n",
            "Train RMSE: 0.02763822053596381\n",
            "Test RMSE: 0.027930035350903916\n",
            "\n",
            "XGBoost - moisture_10cm + meteorological features\n",
            "Train R2: 0.8782609545780536\n",
            "Test R2: 0.8573094521230693\n",
            "Train RMSE: 0.016184487392365412\n",
            "Test RMSE: 0.017649091657265092\n"
          ]
        }
      ]
    },
    {
      "cell_type": "markdown",
      "metadata": {
        "id": "qe_s2-UVpE9J"
      },
      "source": [
        "##From 20cm"
      ]
    },
    {
      "cell_type": "code",
      "execution_count": null,
      "metadata": {
        "id": "mhFio2QyRwjB"
      },
      "outputs": [],
      "source": [
        "# ==== 1. Separate features and targets ====\n",
        "\n",
        "# Model using only moisture_20cm\n",
        "X_train_20cm_only = train_base[['moisture_20cm']]\n",
        "y_train_20cm_only = train_base['moisture_30cm']\n",
        "X_test_20cm_only = test_base[['moisture_20cm']]\n",
        "y_test_20cm_only = test_base['moisture_30cm']\n",
        "\n",
        "# Full model (moisture_20cm + meteorological features)\n",
        "features_to_exclude_30_from_20 = ['moisture_10cm', 'moisture_30cm', 'moisture_40cm', 'moisture_50cm', 'moisture_60cm', 'timestamp_device']\n",
        "X_train_full_20 = train_base.drop(columns=features_to_exclude_30_from_20)\n",
        "y_train_full_20 = train_base['moisture_30cm']\n",
        "X_test_full_20 = test_base.drop(columns=features_to_exclude_30_from_20)\n",
        "y_test_full_20 = test_base['moisture_30cm']\n"
      ]
    },
    {
      "cell_type": "code",
      "source": [
        "# Model using moisture_20cm only\n",
        "xgb_20cm = XGBRegressor(random_state=42, n_estimators=100, objective='reg:squarederror')\n",
        "xgb_20cm.fit(X_train_20cm_only, y_train_20cm_only)\n",
        "y_train_pred_20cm = xgb_20cm.predict(X_train_20cm_only)\n",
        "y_test_pred_20cm = xgb_20cm.predict(X_test_20cm_only)\n",
        "\n",
        "print(\"XGBoost - moisture_20cm only\")\n",
        "print(\"Train R2:\", r2_score(y_train_20cm_only, y_train_pred_20cm))\n",
        "print(\"Test R2:\", r2_score(y_test_20cm_only, y_test_pred_20cm))\n",
        "print(\"Train RMSE:\", np.sqrt(mean_squared_error(y_train_20cm_only, y_train_pred_20cm)))\n",
        "print(\"Test RMSE:\", np.sqrt(mean_squared_error(y_test_20cm_only, y_test_pred_20cm)))\n",
        "\n",
        "# Model using moisture_20cm + meteorological features\n",
        "xgb_full_20cm = XGBRegressor(random_state=42, n_estimators=100, objective='reg:squarederror')\n",
        "xgb_full_20cm.fit(X_train_full_20, y_train_full_20)\n",
        "y_train_pred_full_20cm = xgb_full_20cm.predict(X_train_full_20)\n",
        "y_test_pred_full_20cm = xgb_full_20cm.predict(X_test_full_20)\n",
        "\n",
        "print(\"\\nXGBoost - moisture_20cm + meteorological features\")\n",
        "print(\"Train R2:\", r2_score(y_train_full_20, y_train_pred_full_20cm))\n",
        "print(\"Test R2:\", r2_score(y_test_full_20, y_test_pred_full_20cm))\n",
        "print(\"Train RMSE:\", np.sqrt(mean_squared_error(y_train_full_20, y_train_pred_full_20cm)))\n",
        "print(\"Test RMSE:\", np.sqrt(mean_squared_error(y_test_full_20, y_test_pred_full_20cm)))"
      ],
      "metadata": {
        "colab": {
          "base_uri": "https://localhost:8080/"
        },
        "id": "iRMr63lU0rrH",
        "outputId": "e17cb503-d0cb-4167-9556-ea2fd647367d"
      },
      "execution_count": null,
      "outputs": [
        {
          "output_type": "stream",
          "name": "stdout",
          "text": [
            "XGBoost - moisture_20cm only\n",
            "Train R2: 0.8186266521671017\n",
            "Test R2: 0.8220007814883944\n",
            "Train RMSE: 0.019754713580338253\n",
            "Test RMSE: 0.019712141299914273\n",
            "\n",
            "XGBoost - moisture_20cm + meteorological features\n",
            "Train R2: 0.9558133284142311\n",
            "Test R2: 0.9496639025960842\n",
            "Train RMSE: 0.009750561977192344\n",
            "Test RMSE: 0.010482491682201295\n"
          ]
        }
      ]
    },
    {
      "cell_type": "markdown",
      "metadata": {
        "id": "7F2PZDjtpMat"
      },
      "source": [
        "##from 40cm"
      ]
    },
    {
      "cell_type": "code",
      "execution_count": null,
      "metadata": {
        "id": "4eFtIpu_SjjJ"
      },
      "outputs": [],
      "source": [
        "# ==== 1. Separate features and targets ====\n",
        "\n",
        "# Model using only moisture_40cm\n",
        "X_train_40cm_only = train_base[['moisture_40cm']]\n",
        "y_train_40cm_only = train_base['moisture_30cm']\n",
        "X_test_40cm_only = test_base[['moisture_40cm']]\n",
        "y_test_40cm_only = test_base['moisture_30cm']\n",
        "\n",
        "# Full model (moisture_40cm + meteorological features)\n",
        "features_to_exclude_30_from_40 = ['moisture_10cm', 'moisture_20cm', 'moisture_30cm', 'moisture_50cm', 'moisture_60cm', 'timestamp_device']\n",
        "X_train_full_40 = train_base.drop(columns=features_to_exclude_30_from_40)\n",
        "y_train_full_40 = train_base['moisture_30cm']\n",
        "X_test_full_40 = test_base.drop(columns=features_to_exclude_30_from_40)\n",
        "y_test_full_40 = test_base['moisture_30cm']"
      ]
    },
    {
      "cell_type": "code",
      "source": [
        "# Model using moisture_40cm only\n",
        "xgb_40cm = XGBRegressor(random_state=42, n_estimators=100, objective='reg:squarederror')\n",
        "xgb_40cm.fit(X_train_40cm_only, y_train_40cm_only)\n",
        "y_train_pred_40cm = xgb_40cm.predict(X_train_40cm_only)\n",
        "y_test_pred_40cm = xgb_40cm.predict(X_test_40cm_only)\n",
        "\n",
        "print(\"XGBoost - moisture_40cm only\")\n",
        "print(\"Train R2:\", r2_score(y_train_40cm_only, y_train_pred_40cm))\n",
        "print(\"Test R2:\", r2_score(y_test_40cm_only, y_test_pred_40cm))\n",
        "print(\"Train RMSE:\", np.sqrt(mean_squared_error(y_train_40cm_only, y_train_pred_40cm)))\n",
        "print(\"Test RMSE:\", np.sqrt(mean_squared_error(y_test_40cm_only, y_test_pred_40cm)))\n",
        "\n",
        "# Model using moisture_40cm + meteorological features\n",
        "xgb_full_40 = XGBRegressor(random_state=42, n_estimators=100, objective='reg:squarederror')\n",
        "xgb_full_40.fit(X_train_full_40, y_train_full_40)\n",
        "y_train_pred_full_40 = xgb_full_40.predict(X_train_full_40)\n",
        "y_test_pred_full_40 = xgb_full_40.predict(X_test_full_40)\n",
        "\n",
        "print(\"\\nXGBoost - moisture_40cm + meteorological features\")\n",
        "print(\"Train R2:\", r2_score(y_train_full_40, y_train_pred_full_40))\n",
        "print(\"Test R2:\", r2_score(y_test_full_40, y_test_pred_full_40))\n",
        "print(\"Train RMSE:\", np.sqrt(mean_squared_error(y_train_full_40, y_train_pred_full_40)))\n",
        "print(\"Test RMSE:\", np.sqrt(mean_squared_error(y_test_full_40, y_test_pred_full_40)))"
      ],
      "metadata": {
        "colab": {
          "base_uri": "https://localhost:8080/"
        },
        "id": "PtsmyBVW1cQ4",
        "outputId": "fce251d1-d134-4a2b-9b1f-fb66b8e077f6"
      },
      "execution_count": null,
      "outputs": [
        {
          "output_type": "stream",
          "name": "stdout",
          "text": [
            "XGBoost - moisture_40cm only\n",
            "Train R2: 0.9275114380784053\n",
            "Test R2: 0.9302470992392351\n",
            "Train RMSE: 0.012488743462015088\n",
            "Test RMSE: 0.01233973667978967\n",
            "\n",
            "XGBoost - moisture_40cm + meteorological features\n",
            "Train R2: 0.9750806442090919\n",
            "Test R2: 0.9713036974376122\n",
            "Train RMSE: 0.007322382443159747\n",
            "Test RMSE: 0.007914759579234716\n"
          ]
        }
      ]
    },
    {
      "cell_type": "markdown",
      "metadata": {
        "id": "OENcztHWpPIb"
      },
      "source": [
        "##From 50cm"
      ]
    },
    {
      "cell_type": "code",
      "execution_count": null,
      "metadata": {
        "id": "78Ltrk4STvyf"
      },
      "outputs": [],
      "source": [
        "# ==== 1. Separate features and targets ====\n",
        "\n",
        "# Model using only moisture_50cm\n",
        "X_train_50cm_only = train_base[['moisture_50cm']]\n",
        "y_train_50cm_only = train_base['moisture_30cm']\n",
        "X_test_50cm_only = test_base[['moisture_50cm']]\n",
        "y_test_50cm_only = test_base['moisture_30cm']\n",
        "\n",
        "# Full model (moisture_50cm + meteorological features)\n",
        "features_to_exclude_30_from_50 = ['moisture_10cm', 'moisture_20cm', 'moisture_30cm', 'moisture_40cm', 'moisture_60cm', 'timestamp_device']\n",
        "X_train_full_50 = train_base.drop(columns=features_to_exclude_30_from_50)\n",
        "y_train_full_50 = train_base['moisture_30cm']\n",
        "X_test_full_50 = test_base.drop(columns=features_to_exclude_30_from_50)\n",
        "y_test_full_50 = test_base['moisture_30cm']"
      ]
    },
    {
      "cell_type": "code",
      "source": [
        "# Model using moisture_50cm only\n",
        "xgb_50cm = XGBRegressor(random_state=42, n_estimators=100, objective='reg:squarederror')\n",
        "xgb_50cm.fit(X_train_50cm_only, y_train_50cm_only)\n",
        "y_train_pred_50cm = xgb_50cm.predict(X_train_50cm_only)\n",
        "y_test_pred_50cm = xgb_50cm.predict(X_test_50cm_only)\n",
        "\n",
        "print(\"XGBoost - moisture_50cm only\")\n",
        "print(\"Train R2:\", r2_score(y_train_50cm_only, y_train_pred_50cm))\n",
        "print(\"Test R2:\", r2_score(y_test_50cm_only, y_test_pred_50cm))\n",
        "print(\"Train RMSE:\", np.sqrt(mean_squared_error(y_train_50cm_only, y_train_pred_50cm)))\n",
        "print(\"Test RMSE:\", np.sqrt(mean_squared_error(y_test_50cm_only, y_test_pred_50cm)))\n",
        "\n",
        "# Model using moisture_50cm + meteorological features\n",
        "xgb_full_50 = XGBRegressor(random_state=42, n_estimators=100, objective='reg:squarederror')\n",
        "xgb_full_50.fit(X_train_full_50, y_train_full_50)\n",
        "y_train_pred_full_50 = xgb_full_50.predict(X_train_full_50)\n",
        "y_test_pred_full_50 = xgb_full_50.predict(X_test_full_50)\n",
        "\n",
        "print(\"\\nXGBoost - moisture_50cm + meteorological features\")\n",
        "print(\"Train R2:\", r2_score(y_train_full_50, y_train_pred_full_50))\n",
        "print(\"Test R2:\", r2_score(y_test_full_50, y_test_pred_full_50))\n",
        "print(\"Train RMSE:\", np.sqrt(mean_squared_error(y_train_full_50, y_train_pred_full_50)))\n",
        "print(\"Test RMSE:\", np.sqrt(mean_squared_error(y_test_full_50, y_test_pred_full_50)))"
      ],
      "metadata": {
        "colab": {
          "base_uri": "https://localhost:8080/"
        },
        "id": "TWhH_lVj142g",
        "outputId": "aad2585d-e14c-407a-9a6b-d57915c14317"
      },
      "execution_count": null,
      "outputs": [
        {
          "output_type": "stream",
          "name": "stdout",
          "text": [
            "XGBoost - moisture_50cm only\n",
            "Train R2: 0.8657714869533557\n",
            "Test R2: 0.8697638472240278\n",
            "Train RMSE: 0.01699442176162091\n",
            "Test RMSE: 0.016861279793067917\n",
            "\n",
            "XGBoost - moisture_50cm + meteorological features\n",
            "Train R2: 0.9543613244087196\n",
            "Test R2: 0.9496431277569226\n",
            "Train RMSE: 0.009909472096407726\n",
            "Test RMSE: 0.01048465463905253\n"
          ]
        }
      ]
    },
    {
      "cell_type": "markdown",
      "metadata": {
        "id": "J6A9gJGKpQrJ"
      },
      "source": [
        "##FRom 60cm"
      ]
    },
    {
      "cell_type": "code",
      "execution_count": null,
      "metadata": {
        "id": "oq__hqqGValJ"
      },
      "outputs": [],
      "source": [
        "# ==== 1. Separate features and targets for predicting 30 from 60 ====\n",
        "\n",
        "# Model using only moisture_60cm\n",
        "X_train_60cm_only = train_base[['moisture_60cm']]\n",
        "y_train_60cm_only = train_base['moisture_30cm']\n",
        "X_test_60cm_only = test_base[['moisture_60cm']]\n",
        "y_test_60cm_only = test_base['moisture_30cm']\n",
        "\n",
        "# Full model (moisture_60cm + meteorological features)\n",
        "features_to_exclude_30_from_60 = ['moisture_10cm', 'moisture_20cm', 'moisture_30cm', 'moisture_40cm', 'moisture_50cm', 'timestamp_device']\n",
        "X_train_full_60 = train_base.drop(columns=features_to_exclude_30_from_60)\n",
        "y_train_full_60 = train_base['moisture_30cm']\n",
        "X_test_full_60 = test_base.drop(columns=features_to_exclude_30_from_60)\n",
        "y_test_full_60 = test_base['moisture_30cm']\n"
      ]
    },
    {
      "cell_type": "code",
      "source": [
        "# Model using only moisture_60cm\n",
        "xgb_60cm = XGBRegressor(random_state=42, n_estimators=100, objective='reg:squarederror')\n",
        "xgb_60cm.fit(X_train_60cm_only, y_train_60cm_only)\n",
        "y_train_pred_60cm = xgb_60cm.predict(X_train_60cm_only)\n",
        "y_test_pred_60cm = xgb_60cm.predict(X_test_60cm_only)\n",
        "\n",
        "print(\"XGBoost - moisture_60cm only\")\n",
        "print(\"Train R2:\", r2_score(y_train_60cm_only, y_train_pred_60cm))\n",
        "print(\"Test R2:\", r2_score(y_test_60cm_only, y_test_pred_60cm))\n",
        "print(\"Train RMSE:\", np.sqrt(mean_squared_error(y_train_60cm_only, y_train_pred_60cm)))\n",
        "print(\"Test RMSE:\", np.sqrt(mean_squared_error(y_test_60cm_only, y_test_pred_60cm)))\n",
        "\n",
        "# Model using moisture_60cm + meteorological features\n",
        "xgb_full_60 = XGBRegressor(random_state=42, n_estimators=100, objective='reg:squarederror')\n",
        "xgb_full_60.fit(X_train_full_60, y_train_full_60)\n",
        "y_train_pred_full_60 = xgb_full_60.predict(X_train_full_60)\n",
        "y_test_pred_full_60 = xgb_full_60.predict(X_test_full_60)\n",
        "\n",
        "print(\"\\nXGBoost - moisture_60cm + meteorological features\")\n",
        "print(\"Train R2:\", r2_score(y_train_full_60, y_train_pred_full_60))\n",
        "print(\"Test R2:\", r2_score(y_test_full_60, y_test_pred_full_60))\n",
        "print(\"Train RMSE:\", np.sqrt(mean_squared_error(y_train_full_60, y_train_pred_full_60)))\n",
        "print(\"Test RMSE:\", np.sqrt(mean_squared_error(y_test_full_60, y_test_pred_full_60)))"
      ],
      "metadata": {
        "colab": {
          "base_uri": "https://localhost:8080/"
        },
        "id": "9A7Vw0y-2Dig",
        "outputId": "652fcaa2-bcdb-48ce-c2e1-dd7238af4a8c"
      },
      "execution_count": null,
      "outputs": [
        {
          "output_type": "stream",
          "name": "stdout",
          "text": [
            "XGBoost - moisture_60cm only\n",
            "Train R2: 0.7042918534251457\n",
            "Test R2: 0.7086898035411516\n",
            "Train RMSE: 0.025224098126882245\n",
            "Test RMSE: 0.025217533059400495\n",
            "\n",
            "XGBoost - moisture_60cm + meteorological features\n",
            "Train R2: 0.9211685613422061\n",
            "Test R2: 0.9093724943910583\n",
            "Train RMSE: 0.013023680361165304\n",
            "Test RMSE: 0.014065486855717154\n"
          ]
        }
      ]
    },
    {
      "cell_type": "markdown",
      "metadata": {
        "id": "M7AWsD28q0Ko"
      },
      "source": [
        "##Predicting moisture at 40cm depth"
      ]
    },
    {
      "cell_type": "markdown",
      "metadata": {
        "id": "aHB23pp7rD6n"
      },
      "source": [
        "##from 10cm"
      ]
    },
    {
      "cell_type": "code",
      "execution_count": null,
      "metadata": {
        "id": "WvuSksuAaprk"
      },
      "outputs": [],
      "source": [
        "# ==== 1. Separate features and targets ====\n",
        "\n",
        "# Model using only moisture_10cm\n",
        "X_train_10cm_only = train_base[['moisture_10cm']]\n",
        "y_train_10cm_only = train_base['moisture_40cm']\n",
        "X_test_10cm_only = test_base[['moisture_10cm']]\n",
        "y_test_10cm_only = test_base['moisture_40cm']\n",
        "\n",
        "# Full model (moisture_10cm + meteorological features)\n",
        "features_to_exclude_40_from_10 = ['moisture_20cm', 'moisture_30cm', 'moisture_40cm', 'moisture_50cm', 'moisture_60cm', 'timestamp_device']\n",
        "X_train_full_10 = train_base.drop(columns=features_to_exclude_40_from_10)\n",
        "y_train_full_10 = train_base['moisture_40cm']\n",
        "X_test_full_10 = test_base.drop(columns=features_to_exclude_40_from_10)\n",
        "y_test_full_10 = test_base['moisture_40cm']"
      ]
    },
    {
      "cell_type": "code",
      "source": [
        "# Model using only moisture_10cm\n",
        "xgb_10cm = XGBRegressor(random_state=42, n_estimators=100, objective='reg:squarederror')\n",
        "xgb_10cm.fit(X_train_10cm_only, y_train_10cm_only)\n",
        "y_train_pred_10cm = xgb_10cm.predict(X_train_10cm_only)\n",
        "y_test_pred_10cm = xgb_10cm.predict(X_test_10cm_only)\n",
        "\n",
        "print(\"XGBoost - moisture_10cm only\")\n",
        "print(\"Train R2:\", r2_score(y_train_10cm_only, y_train_pred_10cm))\n",
        "print(\"Test R2:\", r2_score(y_test_10cm_only, y_test_pred_10cm))\n",
        "print(\"Train RMSE:\", np.sqrt(mean_squared_error(y_train_10cm_only, y_train_pred_10cm)))\n",
        "print(\"Test RMSE:\", np.sqrt(mean_squared_error(y_test_10cm_only, y_test_pred_10cm)))\n",
        "\n",
        "# Model using moisture_10cm + meteorological features\n",
        "xgb_full_10 = XGBRegressor(random_state=42, n_estimators=100, objective='reg:squarederror')\n",
        "xgb_full_10.fit(X_train_full_10, y_train_full_10)\n",
        "y_train_pred_full_10 = xgb_full_10.predict(X_train_full_10)\n",
        "y_test_pred_full_10 = xgb_full_10.predict(X_test_full_10)\n",
        "\n",
        "print(\"\\nXGBoost - moisture_10cm + meteorological features\")\n",
        "print(\"Train R2:\", r2_score(y_train_full_10, y_train_pred_full_10))\n",
        "print(\"Test R2:\", r2_score(y_test_full_10, y_test_pred_full_10))\n",
        "print(\"Train RMSE:\", np.sqrt(mean_squared_error(y_train_full_10, y_train_pred_full_10)))\n",
        "print(\"Test RMSE:\", np.sqrt(mean_squared_error(y_test_full_10, y_test_pred_full_10)))"
      ],
      "metadata": {
        "colab": {
          "base_uri": "https://localhost:8080/"
        },
        "id": "2imBLTak2qDZ",
        "outputId": "9113e2ea-94c4-4d9a-a875-f6f054fe774c"
      },
      "execution_count": null,
      "outputs": [
        {
          "output_type": "stream",
          "name": "stdout",
          "text": [
            "XGBoost - moisture_10cm only\n",
            "Train R2: 0.44549845671899146\n",
            "Test R2: 0.44552995744595136\n",
            "Train RMSE: 0.025575870020341517\n",
            "Test RMSE: 0.025799748295627215\n",
            "\n",
            "XGBoost - moisture_10cm + meteorological features\n",
            "Train R2: 0.8009716780629301\n",
            "Test R2: 0.7776218574947446\n",
            "Train RMSE: 0.015322741579911172\n",
            "Test RMSE: 0.016338887211139273\n"
          ]
        }
      ]
    },
    {
      "cell_type": "markdown",
      "metadata": {
        "id": "9I4gPxfDrKz9"
      },
      "source": [
        "##from 20cm"
      ]
    },
    {
      "cell_type": "code",
      "execution_count": null,
      "metadata": {
        "id": "MX4qLPFBcZ-y"
      },
      "outputs": [],
      "source": [
        "# ==== 1. Separate features and targets ====\n",
        "\n",
        "# Model using only moisture_20cm\n",
        "X_train_20cm_only = train_base[['moisture_20cm']]\n",
        "y_train_20cm_only = train_base['moisture_40cm']\n",
        "X_test_20cm_only = test_base[['moisture_20cm']]\n",
        "y_test_20cm_only = test_base['moisture_40cm']\n",
        "\n",
        "# Full model (moisture_20cm + meteorological features)\n",
        "features_to_exclude_40_from_20 = ['moisture_10cm', 'moisture_40cm', 'moisture_30cm', 'moisture_50cm', 'moisture_60cm', 'timestamp_device']\n",
        "X_train_full_20 = train_base.drop(columns=features_to_exclude_40_from_20)\n",
        "y_train_full_20 = train_base['moisture_40cm']\n",
        "X_test_full_20 = test_base.drop(columns=features_to_exclude_40_from_20)\n",
        "y_test_full_20 = test_base['moisture_40cm']"
      ]
    },
    {
      "cell_type": "code",
      "source": [
        "# Model using only moisture_20cm\n",
        "xgb_20cm = XGBRegressor(random_state=42, n_estimators=100, objective='reg:squarederror')\n",
        "xgb_20cm.fit(X_train_20cm_only, y_train_20cm_only)\n",
        "y_train_pred_20cm = xgb_20cm.predict(X_train_20cm_only)\n",
        "y_test_pred_20cm = xgb_20cm.predict(X_test_20cm_only)\n",
        "\n",
        "print(\"XGBoost - moisture_20cm only\")\n",
        "print(\"Train R2:\", r2_score(y_train_20cm_only, y_train_pred_20cm))\n",
        "print(\"Test R2:\", r2_score(y_test_20cm_only, y_test_pred_20cm))\n",
        "print(\"Train RMSE:\", np.sqrt(mean_squared_error(y_train_20cm_only, y_train_pred_20cm)))\n",
        "print(\"Test RMSE:\", np.sqrt(mean_squared_error(y_test_20cm_only, y_test_pred_20cm)))\n",
        "\n",
        "# Model using moisture_20cm + meteorological features\n",
        "xgb_full_20 = XGBRegressor(random_state=42, n_estimators=100, objective='reg:squarederror')\n",
        "xgb_full_20.fit(X_train_full_20, y_train_full_20)\n",
        "y_train_pred_full_20 = xgb_full_20.predict(X_train_full_20)\n",
        "y_test_pred_full_20 = xgb_full_20.predict(X_test_full_20)\n",
        "\n",
        "print(\"\\nXGBoost - moisture_20cm + meteorological features\")\n",
        "print(\"Train R2:\", r2_score(y_train_full_20, y_train_pred_full_20))\n",
        "print(\"Test R2:\", r2_score(y_test_full_20, y_test_pred_full_20))\n",
        "print(\"Train RMSE:\", np.sqrt(mean_squared_error(y_train_full_20, y_train_pred_full_20)))\n",
        "print(\"Test RMSE:\", np.sqrt(mean_squared_error(y_test_full_20, y_test_pred_full_20)))"
      ],
      "metadata": {
        "colab": {
          "base_uri": "https://localhost:8080/"
        },
        "id": "gACByG4U3AI4",
        "outputId": "b86fe76f-cb6a-4385-ddc0-76029624addf"
      },
      "execution_count": null,
      "outputs": [
        {
          "output_type": "stream",
          "name": "stdout",
          "text": [
            "XGBoost - moisture_20cm only\n",
            "Train R2: 0.6587012540235693\n",
            "Test R2: 0.6663071141953563\n",
            "Train RMSE: 0.020065333518498943\n",
            "Test RMSE: 0.02001473754522903\n",
            "\n",
            "XGBoost - moisture_20cm + meteorological features\n",
            "Train R2: 0.8949694202081094\n",
            "Test R2: 0.8848903052144843\n",
            "Train RMSE: 0.011131070104186295\n",
            "Test RMSE: 0.011755263726095023\n"
          ]
        }
      ]
    },
    {
      "cell_type": "markdown",
      "metadata": {
        "id": "xZn4w9sbrLAH"
      },
      "source": [
        "##from 30cm"
      ]
    },
    {
      "cell_type": "code",
      "execution_count": null,
      "metadata": {
        "id": "zo_HwDi9dM83"
      },
      "outputs": [],
      "source": [
        "# ==== 1. Separate features and targets ====\n",
        "\n",
        "# Model using only moisture_30cm\n",
        "X_train_30cm_only = train_base[['moisture_30cm']]\n",
        "y_train_30cm_only = train_base['moisture_40cm']\n",
        "X_test_30cm_only = test_base[['moisture_30cm']]\n",
        "y_test_30cm_only = test_base['moisture_40cm']\n",
        "\n",
        "# Full model (moisture_30cm + meteorological features)\n",
        "features_to_exclude_40_from_30 = ['moisture_10cm', 'moisture_20cm', 'moisture_40cm', 'moisture_50cm', 'moisture_60cm', 'timestamp_device']\n",
        "X_train_full_30 = train_base.drop(columns=features_to_exclude_40_from_30)\n",
        "y_train_full_30 = train_base['moisture_40cm']\n",
        "X_test_full_30 = test_base.drop(columns=features_to_exclude_40_from_30)\n",
        "y_test_full_30 = test_base['moisture_40cm']\n"
      ]
    },
    {
      "cell_type": "code",
      "source": [
        "# Model using only moisture_30cm\n",
        "xgb_30cm = XGBRegressor(random_state=42, n_estimators=100, objective='reg:squarederror')\n",
        "xgb_30cm.fit(X_train_30cm_only, y_train_30cm_only)\n",
        "y_train_pred_30cm = xgb_30cm.predict(X_train_30cm_only)\n",
        "y_test_pred_30cm = xgb_30cm.predict(X_test_30cm_only)\n",
        "\n",
        "print(\"XGBoost - moisture_30cm only\")\n",
        "print(\"Train R2:\", r2_score(y_train_30cm_only, y_train_pred_30cm))\n",
        "print(\"Test R2:\", r2_score(y_test_30cm_only, y_test_pred_30cm))\n",
        "print(\"Train RMSE:\", np.sqrt(mean_squared_error(y_train_30cm_only, y_train_pred_30cm)))\n",
        "print(\"Test RMSE:\", np.sqrt(mean_squared_error(y_test_30cm_only, y_test_pred_30cm)))\n",
        "\n",
        "# Model using moisture_30cm + meteorological features\n",
        "xgb_full_30 = XGBRegressor(random_state=42, n_estimators=100, objective='reg:squarederror')\n",
        "xgb_full_30.fit(X_train_full_30, y_train_full_30)\n",
        "y_train_pred_full_30 = xgb_full_30.predict(X_train_full_30)\n",
        "y_test_pred_full_30 = xgb_full_30.predict(X_test_full_30)\n",
        "\n",
        "print(\"\\nXGBoost - moisture_30cm + meteorological features\")\n",
        "print(\"Train R2:\", r2_score(y_train_full_30, y_train_pred_full_30))\n",
        "print(\"Test R2:\", r2_score(y_test_full_30, y_test_pred_full_30))\n",
        "print(\"Train RMSE:\", np.sqrt(mean_squared_error(y_train_full_30, y_train_pred_full_30)))\n",
        "print(\"Test RMSE:\", np.sqrt(mean_squared_error(y_test_full_30, y_test_pred_full_30)))"
      ],
      "metadata": {
        "colab": {
          "base_uri": "https://localhost:8080/"
        },
        "id": "0sZJTtqI3OGi",
        "outputId": "3e972cce-fabe-4615-8a96-de537496bb2f"
      },
      "execution_count": null,
      "outputs": [
        {
          "output_type": "stream",
          "name": "stdout",
          "text": [
            "XGBoost - moisture_30cm only\n",
            "Train R2: 0.8993514028097555\n",
            "Test R2: 0.9018227035568848\n",
            "Train RMSE: 0.010896396539839122\n",
            "Test RMSE: 0.010856303098119541\n",
            "\n",
            "XGBoost - moisture_30cm + meteorological features\n",
            "Train R2: 0.9681300355309099\n",
            "Test R2: 0.9626889060074434\n",
            "Train RMSE: 0.006131543676171983\n",
            "Test RMSE: 0.006692608446787428\n"
          ]
        }
      ]
    },
    {
      "cell_type": "markdown",
      "metadata": {
        "id": "eu-Bn2ERrSvE"
      },
      "source": [
        "##from 50cm"
      ]
    },
    {
      "cell_type": "code",
      "execution_count": null,
      "metadata": {
        "id": "lrHN7KL5d6To"
      },
      "outputs": [],
      "source": [
        "# ==== 1. Separate features and targets ====\n",
        "\n",
        "# Model using only moisture_50cm\n",
        "X_train_50cm_only = train_base[['moisture_50cm']]\n",
        "y_train_50cm_only = train_base['moisture_40cm']\n",
        "X_test_50cm_only = test_base[['moisture_50cm']]\n",
        "y_test_50cm_only = test_base['moisture_40cm']\n",
        "\n",
        "# Full model (moisture_50cm + meteorological features)\n",
        "features_to_exclude_40_from_50 = ['moisture_10cm', 'moisture_20cm', 'moisture_30cm', 'moisture_40cm', 'moisture_60cm', 'timestamp_device']\n",
        "X_train_full_50 = train_base.drop(columns=features_to_exclude_40_from_50)\n",
        "y_train_full_50 = train_base['moisture_40cm']\n",
        "X_test_full_50 = test_base.drop(columns=features_to_exclude_40_from_50)\n",
        "y_test_full_50 = test_base['moisture_40cm']\n"
      ]
    },
    {
      "cell_type": "code",
      "source": [
        "# Model using only moisture_50cm\n",
        "xgb_50cm = XGBRegressor(random_state=42, n_estimators=100, objective='reg:squarederror')\n",
        "xgb_50cm.fit(X_train_50cm_only, y_train_50cm_only)\n",
        "y_train_pred_50cm = xgb_50cm.predict(X_train_50cm_only)\n",
        "y_test_pred_50cm = xgb_50cm.predict(X_test_50cm_only)\n",
        "\n",
        "print(\"XGBoost - moisture_50cm only\")\n",
        "print(\"Train R2:\", r2_score(y_train_50cm_only, y_train_pred_50cm))\n",
        "print(\"Test R2:\", r2_score(y_test_50cm_only, y_test_pred_50cm))\n",
        "print(\"Train RMSE:\", np.sqrt(mean_squared_error(y_train_50cm_only, y_train_pred_50cm)))\n",
        "print(\"Test RMSE:\", np.sqrt(mean_squared_error(y_test_50cm_only, y_test_pred_50cm)))\n",
        "\n",
        "# Model using moisture_50cm + meteorological features\n",
        "xgb_full_50 = XGBRegressor(random_state=42, n_estimators=100, objective='reg:squarederror')\n",
        "xgb_full_50.fit(X_train_full_50, y_train_full_50)\n",
        "y_train_pred_full_50 = xgb_full_50.predict(X_train_full_50)\n",
        "y_test_pred_full_50 = xgb_full_50.predict(X_test_full_50)\n",
        "\n",
        "print(\"\\nXGBoost - moisture_50cm + meteorological features\")\n",
        "print(\"Train R2:\", r2_score(y_train_full_50, y_train_pred_full_50))\n",
        "print(\"Test R2:\", r2_score(y_test_full_50, y_test_pred_full_50))\n",
        "print(\"Train RMSE:\", np.sqrt(mean_squared_error(y_train_full_50, y_train_pred_full_50)))\n",
        "print(\"Test RMSE:\", np.sqrt(mean_squared_error(y_test_full_50, y_test_pred_full_50)))"
      ],
      "metadata": {
        "colab": {
          "base_uri": "https://localhost:8080/"
        },
        "id": "cr_s8kNL41TF",
        "outputId": "a3e5ded1-3e69-4f12-8c38-918af434fdcf"
      },
      "execution_count": null,
      "outputs": [
        {
          "output_type": "stream",
          "name": "stdout",
          "text": [
            "XGBoost - moisture_50cm only\n",
            "Train R2: 0.8768787340054282\n",
            "Test R2: 0.8815734418214981\n",
            "Train RMSE: 0.0120516239766429\n",
            "Test RMSE: 0.011923423769448051\n",
            "\n",
            "XGBoost - moisture_50cm + meteorological features\n",
            "Train R2: 0.9553719036973998\n",
            "Test R2: 0.9506113838044679\n",
            "Train RMSE: 0.007255765150003851\n",
            "Test RMSE: 0.007699984565547367\n"
          ]
        }
      ]
    },
    {
      "cell_type": "markdown",
      "metadata": {
        "id": "hs4FXQsIrXGZ"
      },
      "source": [
        "##from 60cm"
      ]
    },
    {
      "cell_type": "code",
      "execution_count": null,
      "metadata": {
        "id": "w4RVBSVtfGk-"
      },
      "outputs": [],
      "source": [
        "# ==== 1. Separate features and targets ====\n",
        "\n",
        "# Model using only moisture_60cm\n",
        "X_train_60cm_only = train_base[['moisture_60cm']]\n",
        "y_train_60cm_only = train_base['moisture_40cm']\n",
        "X_test_60cm_only = test_base[['moisture_60cm']]\n",
        "y_test_60cm_only = test_base['moisture_40cm']\n",
        "\n",
        "# Full model (moisture_60cm + meteorological features)\n",
        "features_to_exclude_40_from_60 = ['moisture_10cm', 'moisture_20cm', 'moisture_30cm', 'moisture_40cm', 'moisture_50cm', 'timestamp_device']\n",
        "X_train_full_60 = train_base.drop(columns=features_to_exclude_40_from_60)\n",
        "y_train_full_60 = train_base['moisture_40cm']\n",
        "X_test_full_60 = test_base.drop(columns=features_to_exclude_40_from_60)\n",
        "y_test_full_60 = test_base['moisture_40cm']"
      ]
    },
    {
      "cell_type": "code",
      "source": [
        "# Model using only moisture_60cm\n",
        "xgb_60cm = XGBRegressor(random_state=42, n_estimators=100, objective='reg:squarederror')\n",
        "xgb_60cm.fit(X_train_60cm_only, y_train_60cm_only)\n",
        "y_train_pred_60cm = xgb_60cm.predict(X_train_60cm_only)\n",
        "y_test_pred_60cm = xgb_60cm.predict(X_test_60cm_only)\n",
        "\n",
        "print(\"XGBoost - moisture_60cm only\")\n",
        "print(\"Train R2:\", r2_score(y_train_60cm_only, y_train_pred_60cm))\n",
        "print(\"Test R2:\", r2_score(y_test_60cm_only, y_test_pred_60cm))\n",
        "print(\"Train RMSE:\", np.sqrt(mean_squared_error(y_train_60cm_only, y_train_pred_60cm)))\n",
        "print(\"Test RMSE:\", np.sqrt(mean_squared_error(y_test_60cm_only, y_test_pred_60cm)))\n",
        "\n",
        "# Model using moisture_60cm + meteorological features\n",
        "xgb_full_60 = XGBRegressor(random_state=42, n_estimators=100, objective='reg:squarederror')\n",
        "xgb_full_60.fit(X_train_full_60, y_train_full_60)\n",
        "y_train_pred_full_60 = xgb_full_60.predict(X_train_full_60)\n",
        "y_test_pred_full_60 = xgb_full_60.predict(X_test_full_60)\n",
        "\n",
        "print(\"\\nXGBoost - moisture_60cm + meteorological features\")\n",
        "print(\"Train R2:\", r2_score(y_train_full_60, y_train_pred_full_60))\n",
        "print(\"Test R2:\", r2_score(y_test_full_60, y_test_pred_full_60))\n",
        "print(\"Train RMSE:\", np.sqrt(mean_squared_error(y_train_full_60, y_train_pred_full_60)))\n",
        "print(\"Test RMSE:\", np.sqrt(mean_squared_error(y_test_full_60, y_test_pred_full_60)))"
      ],
      "metadata": {
        "colab": {
          "base_uri": "https://localhost:8080/"
        },
        "id": "4j9gXl9N6II3",
        "outputId": "adf67af1-2cf6-4292-844d-8b0c355adebd"
      },
      "execution_count": null,
      "outputs": [
        {
          "output_type": "stream",
          "name": "stdout",
          "text": [
            "XGBoost - moisture_60cm only\n",
            "Train R2: 0.6736854775508423\n",
            "Test R2: 0.6828035138284276\n",
            "Train RMSE: 0.019619920245713084\n",
            "Test RMSE: 0.019513744282403524\n",
            "\n",
            "XGBoost - moisture_60cm + meteorological features\n",
            "Train R2: 0.8938833491819476\n",
            "Test R2: 0.8835236379684898\n",
            "Train RMSE: 0.011188472630729009\n",
            "Test RMSE: 0.011824841399196033\n"
          ]
        }
      ]
    },
    {
      "cell_type": "markdown",
      "metadata": {
        "id": "qPjahAK6q_kE"
      },
      "source": [
        "##Predicting moisture at 50cm depth"
      ]
    },
    {
      "cell_type": "markdown",
      "metadata": {
        "id": "OqGSJS69rKgK"
      },
      "source": [
        "##from 10cm"
      ]
    },
    {
      "cell_type": "code",
      "execution_count": null,
      "metadata": {
        "id": "lU3_4lipgLYO"
      },
      "outputs": [],
      "source": [
        "# ==== 1. Separate features and targets ====\n",
        "\n",
        "# Model using only moisture_10cm\n",
        "X_train_10cm_only = train_base[['moisture_10cm']]\n",
        "y_train_10cm_only = train_base['moisture_50cm']\n",
        "X_test_10cm_only = test_base[['moisture_10cm']]\n",
        "y_test_10cm_only = test_base['moisture_50cm']\n",
        "\n",
        "# Full model (moisture_10cm + meteorological features)\n",
        "features_to_exclude_50_from_10 = ['moisture_20cm', 'moisture_30cm', 'moisture_40cm', 'moisture_50cm', 'moisture_60cm', 'timestamp_device']\n",
        "X_train_full_10 = train_base.drop(columns=features_to_exclude_50_from_10)\n",
        "y_train_full_10 = train_base['moisture_50cm']\n",
        "X_test_full_10 = test_base.drop(columns=features_to_exclude_50_from_10)\n",
        "y_test_full_10 = test_base['moisture_50cm']"
      ]
    },
    {
      "cell_type": "code",
      "source": [
        "# Model using only moisture_10cm\n",
        "xgb_10cm = XGBRegressor(random_state=42, n_estimators=100, objective='reg:squarederror')\n",
        "xgb_10cm.fit(X_train_10cm_only, y_train_10cm_only)\n",
        "y_train_pred_10cm = xgb_10cm.predict(X_train_10cm_only)\n",
        "y_test_pred_10cm = xgb_10cm.predict(X_test_10cm_only)\n",
        "\n",
        "print(\"XGBoost - moisture_10cm only\")\n",
        "print(\"Train R2:\", r2_score(y_train_10cm_only, y_train_pred_10cm))\n",
        "print(\"Test R2:\", r2_score(y_test_10cm_only, y_test_pred_10cm))\n",
        "print(\"Train RMSE:\", np.sqrt(mean_squared_error(y_train_10cm_only, y_train_pred_10cm)))\n",
        "print(\"Test RMSE:\", np.sqrt(mean_squared_error(y_test_10cm_only, y_test_pred_10cm)))\n",
        "\n",
        "# Model using moisture_10cm + meteorological features\n",
        "xgb_full_10 = XGBRegressor(random_state=42, n_estimators=100, objective='reg:squarederror')\n",
        "xgb_full_10.fit(X_train_full_10, y_train_full_10)\n",
        "y_train_pred_full_10 = xgb_full_10.predict(X_train_full_10)\n",
        "y_test_pred_full_10 = xgb_full_10.predict(X_test_full_10)\n",
        "\n",
        "print(\"\\nXGBoost - moisture_10cm + meteorological features\")\n",
        "print(\"Train R2:\", r2_score(y_train_full_10, y_train_pred_full_10))\n",
        "print(\"Test R2:\", r2_score(y_test_full_10, y_test_pred_full_10))\n",
        "print(\"Train RMSE:\", np.sqrt(mean_squared_error(y_train_full_10, y_train_pred_full_10)))\n",
        "print(\"Test RMSE:\", np.sqrt(mean_squared_error(y_test_full_10, y_test_pred_full_10)))"
      ],
      "metadata": {
        "id": "FO6ErnCP6Z2g",
        "colab": {
          "base_uri": "https://localhost:8080/"
        },
        "outputId": "67544e81-70a0-411d-e82e-9899680a6ef4"
      },
      "execution_count": null,
      "outputs": [
        {
          "output_type": "stream",
          "name": "stdout",
          "text": [
            "XGBoost - moisture_10cm only\n",
            "Train R2: 0.4530139352768382\n",
            "Test R2: 0.4497012232894845\n",
            "Train RMSE: 0.01043142354383556\n",
            "Test RMSE: 0.010596555208907772\n",
            "\n",
            "XGBoost - moisture_10cm + meteorological features\n",
            "Train R2: 0.7899574779208437\n",
            "Test R2: 0.7654499619233852\n",
            "Train RMSE: 0.006464114795241913\n",
            "Test RMSE: 0.006918041857444035\n"
          ]
        }
      ]
    },
    {
      "cell_type": "markdown",
      "metadata": {
        "id": "-M4nnqu0raPL"
      },
      "source": [
        "##from 20cm"
      ]
    },
    {
      "cell_type": "code",
      "execution_count": null,
      "metadata": {
        "id": "_QJM8h94hDxJ"
      },
      "outputs": [],
      "source": [
        "# ==== 1. Separate features and targets ====\n",
        "\n",
        "# Model using only moisture_20cm\n",
        "X_train_20cm_only = train_base[['moisture_20cm']]\n",
        "y_train_20cm_only = train_base['moisture_50cm']\n",
        "X_test_20cm_only = test_base[['moisture_20cm']]\n",
        "y_test_20cm_only = test_base['moisture_50cm']\n",
        "\n",
        "# Full model (moisture_20cm + meteorological features)\n",
        "features_to_exclude_50_from_20 = ['moisture_10cm', 'moisture_30cm', 'moisture_40cm', 'moisture_50cm', 'moisture_60cm', 'timestamp_device']\n",
        "X_train_full_20 = train_base.drop(columns=features_to_exclude_50_from_20)\n",
        "y_train_full_20 = train_base['moisture_50cm']\n",
        "X_test_full_20 = test_base.drop(columns=features_to_exclude_50_from_20)\n",
        "y_test_full_20 = test_base['moisture_50cm']"
      ]
    },
    {
      "cell_type": "code",
      "source": [
        "# Model using only moisture_20cm\n",
        "xgb_20cm = XGBRegressor(random_state=42, n_estimators=100, objective='reg:squarederror')\n",
        "xgb_20cm.fit(X_train_20cm_only, y_train_20cm_only)\n",
        "y_train_pred_20cm = xgb_20cm.predict(X_train_20cm_only)\n",
        "y_test_pred_20cm = xgb_20cm.predict(X_test_20cm_only)\n",
        "\n",
        "print(\"XGBoost - moisture_20cm only\")\n",
        "print(\"Train R2:\", r2_score(y_train_20cm_only, y_train_pred_20cm))\n",
        "print(\"Test R2:\", r2_score(y_test_20cm_only, y_test_pred_20cm))\n",
        "print(\"Train RMSE:\", np.sqrt(mean_squared_error(y_train_20cm_only, y_train_pred_20cm)))\n",
        "print(\"Test RMSE:\", np.sqrt(mean_squared_error(y_test_20cm_only, y_test_pred_20cm)))\n",
        "\n",
        "# Model using moisture_20cm + meteorological features\n",
        "xgb_full_20 = XGBRegressor(random_state=42, n_estimators=100, objective='reg:squarederror')\n",
        "xgb_full_20.fit(X_train_full_20, y_train_full_20)\n",
        "y_train_pred_full_20 = xgb_full_20.predict(X_train_full_20)\n",
        "y_test_pred_full_20 = xgb_full_20.predict(X_test_full_20)\n",
        "\n",
        "print(\"\\nXGBoost - moisture_20cm + meteorological features\")\n",
        "print(\"Train R2:\", r2_score(y_train_full_20, y_train_pred_full_20))\n",
        "print(\"Test R2:\", r2_score(y_test_full_20, y_test_pred_full_20))\n",
        "print(\"Train RMSE:\", np.sqrt(mean_squared_error(y_train_full_20, y_train_pred_full_20)))\n",
        "print(\"Test RMSE:\", np.sqrt(mean_squared_error(y_test_full_20, y_test_pred_full_20)))"
      ],
      "metadata": {
        "id": "UWZrI4bs647w",
        "colab": {
          "base_uri": "https://localhost:8080/"
        },
        "outputId": "de248f2c-3cc1-4ace-aacf-f4aa1918aee1"
      },
      "execution_count": null,
      "outputs": [
        {
          "output_type": "stream",
          "name": "stdout",
          "text": [
            "XGBoost - moisture_20cm only\n",
            "Train R2: 0.670775621107141\n",
            "Test R2: 0.6751142043015849\n",
            "Train RMSE: 0.008092849083688571\n",
            "Test RMSE: 0.008141994290289776\n",
            "\n",
            "XGBoost - moisture_20cm + meteorological features\n",
            "Train R2: 0.9001571662558124\n",
            "Test R2: 0.8899106333366333\n",
            "Train RMSE: 0.004456705097386881\n",
            "Test RMSE: 0.004739561010197611\n"
          ]
        }
      ]
    },
    {
      "cell_type": "markdown",
      "metadata": {
        "id": "PSKT8ZNsrhHf"
      },
      "source": [
        "##from 30cm"
      ]
    },
    {
      "cell_type": "code",
      "execution_count": null,
      "metadata": {
        "id": "TsPQEJ6DhxT2"
      },
      "outputs": [],
      "source": [
        "# ==== 1. Separate features and targets ====\n",
        "\n",
        "# Model using only moisture_30cm\n",
        "X_train_30cm_only = train_base[['moisture_30cm']]\n",
        "y_train_30cm_only = train_base['moisture_50cm']\n",
        "X_test_30cm_only = test_base[['moisture_30cm']]\n",
        "y_test_30cm_only = test_base['moisture_50cm']\n",
        "\n",
        "# Full model (moisture_30cm + meteorological features)\n",
        "features_to_exclude_50_from_30 = ['moisture_10cm', 'moisture_20cm', 'moisture_40cm', 'moisture_50cm', 'moisture_60cm', 'timestamp_device']\n",
        "X_train_full_30 = train_base.drop(columns=features_to_exclude_50_from_30)\n",
        "y_train_full_30 = train_base['moisture_50cm']\n",
        "X_test_full_30 = test_base.drop(columns=features_to_exclude_50_from_30)\n",
        "y_test_full_30 = test_base['moisture_50cm']"
      ]
    },
    {
      "cell_type": "code",
      "source": [
        "# Model using only moisture_30cm\n",
        "xgb_30cm = XGBRegressor(random_state=42, n_estimators=100, objective='reg:squarederror')\n",
        "xgb_30cm.fit(X_train_30cm_only, y_train_30cm_only)\n",
        "y_train_pred_30cm = xgb_30cm.predict(X_train_30cm_only)\n",
        "y_test_pred_30cm = xgb_30cm.predict(X_test_30cm_only)\n",
        "\n",
        "print(\"XGBoost - moisture_30cm only\")\n",
        "print(\"Train R2:\", r2_score(y_train_30cm_only, y_train_pred_30cm))\n",
        "print(\"Test R2:\", r2_score(y_test_30cm_only, y_test_pred_30cm))\n",
        "print(\"Train RMSE:\", np.sqrt(mean_squared_error(y_train_30cm_only, y_train_pred_30cm)))\n",
        "print(\"Test RMSE:\", np.sqrt(mean_squared_error(y_test_30cm_only, y_test_pred_30cm)))\n",
        "\n",
        "# Model using moisture_30cm + meteorological features\n",
        "xgb_full_30 = XGBRegressor(random_state=42, n_estimators=100, objective='reg:squarederror')\n",
        "xgb_full_30.fit(X_train_full_30, y_train_full_30)\n",
        "y_train_pred_full_30 = xgb_full_30.predict(X_train_full_30)\n",
        "y_test_pred_full_30 = xgb_full_30.predict(X_test_full_30)\n",
        "\n",
        "print(\"\\nXGBoost - moisture_30cm + meteorological features\")\n",
        "print(\"Train R2:\", r2_score(y_train_full_30, y_train_pred_full_30))\n",
        "print(\"Test R2:\", r2_score(y_test_full_30, y_test_pred_full_30))\n",
        "print(\"Train RMSE:\", np.sqrt(mean_squared_error(y_train_full_30, y_train_pred_full_30)))\n",
        "print(\"Test RMSE:\", np.sqrt(mean_squared_error(y_test_full_30, y_test_pred_full_30)))"
      ],
      "metadata": {
        "id": "LVg19f2q7NDL",
        "colab": {
          "base_uri": "https://localhost:8080/"
        },
        "outputId": "d02efd8c-4c00-40fa-bad5-a8007ea6a83e"
      },
      "execution_count": null,
      "outputs": [
        {
          "output_type": "stream",
          "name": "stdout",
          "text": [
            "XGBoost - moisture_30cm only\n",
            "Train R2: 0.8125145737255424\n",
            "Test R2: 0.8173010770468401\n",
            "Train RMSE: 0.0061071586970745375\n",
            "Test RMSE: 0.006105671367070302\n",
            "\n",
            "XGBoost - moisture_30cm + meteorological features\n",
            "Train R2: 0.9291289425729079\n",
            "Test R2: 0.9218402542339095\n",
            "Train RMSE: 0.0037548267615859455\n",
            "Test RMSE: 0.003993530452842434\n"
          ]
        }
      ]
    },
    {
      "cell_type": "markdown",
      "metadata": {
        "id": "Sztz5tXDrq5N"
      },
      "source": [
        "##from 40cm"
      ]
    },
    {
      "cell_type": "code",
      "execution_count": null,
      "metadata": {
        "id": "VDUCt5R3i7kX"
      },
      "outputs": [],
      "source": [
        "# ==== 1. Separate features and targets ====\n",
        "\n",
        "# Model using only moisture_40cm\n",
        "X_train_40cm_only = train_base[['moisture_40cm']]\n",
        "y_train_40cm_only = train_base['moisture_50cm']\n",
        "X_test_40cm_only = test_base[['moisture_40cm']]\n",
        "y_test_40cm_only = test_base['moisture_50cm']\n",
        "\n",
        "# Full model (moisture_40cm + meteorological features)\n",
        "features_to_exclude_50_from_40 = ['moisture_10cm', 'moisture_20cm', 'moisture_30cm', 'moisture_50cm', 'moisture_60cm', 'timestamp_device']\n",
        "X_train_full_40 = train_base.drop(columns=features_to_exclude_50_from_40)\n",
        "y_train_full_40 = train_base['moisture_50cm']\n",
        "X_test_full_40 = test_base.drop(columns=features_to_exclude_50_from_40)\n",
        "y_test_full_40 = test_base['moisture_50cm']"
      ]
    },
    {
      "cell_type": "code",
      "source": [
        "# Model using only moisture_40cm\n",
        "xgb_40cm = XGBRegressor(random_state=42, n_estimators=100, objective='reg:squarederror')\n",
        "xgb_40cm.fit(X_train_40cm_only, y_train_40cm_only)\n",
        "y_train_pred_40cm = xgb_40cm.predict(X_train_40cm_only)\n",
        "y_test_pred_40cm = xgb_40cm.predict(X_test_40cm_only)\n",
        "\n",
        "print(\"XGBoost - moisture_40cm only\")\n",
        "print(\"Train R2:\", r2_score(y_train_40cm_only, y_train_pred_40cm))\n",
        "print(\"Test R2:\", r2_score(y_test_40cm_only, y_test_pred_40cm))\n",
        "print(\"Train RMSE:\", np.sqrt(mean_squared_error(y_train_40cm_only, y_train_pred_40cm)))\n",
        "print(\"Test RMSE:\", np.sqrt(mean_squared_error(y_test_40cm_only, y_test_pred_40cm)))\n",
        "\n",
        "# Model using moisture_40cm + meteorological features\n",
        "xgb_full_40 = XGBRegressor(random_state=42, n_estimators=100, objective='reg:squarederror')\n",
        "xgb_full_40.fit(X_train_full_40, y_train_full_40)\n",
        "y_train_pred_full_40 = xgb_full_40.predict(X_train_full_40)\n",
        "y_test_pred_full_40 = xgb_full_40.predict(X_test_full_40)\n",
        "\n",
        "print(\"\\nXGBoost - moisture_40cm + meteorological features\")\n",
        "print(\"Train R2:\", r2_score(y_train_full_40, y_train_pred_full_40))\n",
        "print(\"Test R2:\", r2_score(y_test_full_40, y_test_pred_full_40))\n",
        "print(\"Train RMSE:\", np.sqrt(mean_squared_error(y_train_full_40, y_train_pred_full_40)))\n",
        "print(\"Test RMSE:\", np.sqrt(mean_squared_error(y_test_full_40, y_test_pred_full_40)))"
      ],
      "metadata": {
        "id": "FK-RZOzn9pZ-",
        "colab": {
          "base_uri": "https://localhost:8080/"
        },
        "outputId": "a49027c0-df6e-4c13-dd25-fa2f14cc0726"
      },
      "execution_count": null,
      "outputs": [
        {
          "output_type": "stream",
          "name": "stdout",
          "text": [
            "XGBoost - moisture_40cm only\n",
            "Train R2: 0.8839117524346103\n",
            "Test R2: 0.8869409490748102\n",
            "Train RMSE: 0.004805621653568976\n",
            "Test RMSE: 0.004803060965625031\n",
            "\n",
            "XGBoost - moisture_40cm + meteorological features\n",
            "Train R2: 0.9557961738874915\n",
            "Test R2: 0.9512812806788723\n",
            "Train RMSE: 0.0029654143109154544\n",
            "Test RMSE: 0.0031529229894240764\n"
          ]
        }
      ]
    },
    {
      "cell_type": "markdown",
      "metadata": {
        "id": "quHMr_BQrn_3"
      },
      "source": [
        "##from 60cm"
      ]
    },
    {
      "cell_type": "code",
      "execution_count": null,
      "metadata": {
        "id": "iFQZNpBOjhLA"
      },
      "outputs": [],
      "source": [
        "# ==== 1. Separate features and targets ====\n",
        "\n",
        "# Model using only moisture_60cm\n",
        "X_train_60cm_only = train_base[['moisture_60cm']]\n",
        "y_train_60cm_only = train_base['moisture_50cm']\n",
        "X_test_60cm_only = test_base[['moisture_60cm']]\n",
        "y_test_60cm_only = test_base['moisture_50cm']\n",
        "\n",
        "# Full model (moisture_60cm + meteorological features)\n",
        "features_to_exclude_50_from_60 = ['moisture_10cm', 'moisture_20cm', 'moisture_30cm', 'moisture_40cm', 'moisture_50cm', 'timestamp_device']\n",
        "X_train_full_60 = train_base.drop(columns=features_to_exclude_50_from_60)\n",
        "y_train_full_60 = train_base['moisture_50cm']\n",
        "X_test_full_60 = test_base.drop(columns=features_to_exclude_50_from_60)\n",
        "y_test_full_60 = test_base['moisture_50cm']"
      ]
    },
    {
      "cell_type": "code",
      "source": [
        "# Model using only moisture_60cm\n",
        "xgb_60cm = XGBRegressor(random_state=42, n_estimators=100, objective='reg:squarederror')\n",
        "xgb_60cm.fit(X_train_60cm_only, y_train_60cm_only)\n",
        "y_train_pred_60cm = xgb_60cm.predict(X_train_60cm_only)\n",
        "y_test_pred_60cm = xgb_60cm.predict(X_test_60cm_only)\n",
        "\n",
        "print(\"XGBoost - moisture_60cm only\")\n",
        "print(\"Train R2:\", r2_score(y_train_60cm_only, y_train_pred_60cm))\n",
        "print(\"Test R2:\", r2_score(y_test_60cm_only, y_test_pred_60cm))\n",
        "print(\"Train RMSE:\", np.sqrt(mean_squared_error(y_train_60cm_only, y_train_pred_60cm)))\n",
        "print(\"Test RMSE:\", np.sqrt(mean_squared_error(y_test_60cm_only, y_test_pred_60cm)))\n",
        "\n",
        "# Model using moisture_60cm + meteorological features\n",
        "xgb_full_60 = XGBRegressor(random_state=42, n_estimators=100, objective='reg:squarederror')\n",
        "xgb_full_60.fit(X_train_full_60, y_train_full_60)\n",
        "y_train_pred_full_60 = xgb_full_60.predict(X_train_full_60)\n",
        "y_test_pred_full_60 = xgb_full_60.predict(X_test_full_60)\n",
        "\n",
        "print(\"\\nXGBoost - moisture_60cm + meteorological features\")\n",
        "print(\"Train R2:\", r2_score(y_train_full_60, y_train_pred_full_60))\n",
        "print(\"Test R2:\", r2_score(y_test_full_60, y_test_pred_full_60))\n",
        "print(\"Train RMSE:\", np.sqrt(mean_squared_error(y_train_full_60, y_train_pred_full_60)))\n",
        "print(\"Test RMSE:\", np.sqrt(mean_squared_error(y_test_full_60, y_test_pred_full_60)))"
      ],
      "metadata": {
        "id": "Dng8VSdC97Vx",
        "colab": {
          "base_uri": "https://localhost:8080/"
        },
        "outputId": "29e6c67c-94c6-4087-aa4f-ab7fd1576f35"
      },
      "execution_count": null,
      "outputs": [
        {
          "output_type": "stream",
          "name": "stdout",
          "text": [
            "XGBoost - moisture_60cm only\n",
            "Train R2: 0.8941191872866118\n",
            "Test R2: 0.8979429014704737\n",
            "Train RMSE: 0.004589486336879878\n",
            "Test RMSE: 0.0045633842599741795\n",
            "\n",
            "XGBoost - moisture_60cm + meteorological features\n",
            "Train R2: 0.9687843758166279\n",
            "Test R2: 0.9658974805729039\n",
            "Train RMSE: 0.0024919622550433193\n",
            "Test RMSE: 0.002637902041491886\n"
          ]
        }
      ]
    },
    {
      "cell_type": "markdown",
      "metadata": {
        "id": "R2N6UOhsq_76"
      },
      "source": [
        "##Predicting moisture at 60cm depth"
      ]
    },
    {
      "cell_type": "markdown",
      "metadata": {
        "id": "PmCiS2oyrLkg"
      },
      "source": [
        "##from 10cm"
      ]
    },
    {
      "cell_type": "code",
      "execution_count": null,
      "metadata": {
        "id": "gx81l5d1kJ1D"
      },
      "outputs": [],
      "source": [
        "# ==== 1. Separate features and targets ====\n",
        "\n",
        "# Model using only moisture_10cm\n",
        "X_train_10cm_only = train_base[['moisture_10cm']]\n",
        "y_train_10cm_only = train_base['moisture_60cm']\n",
        "X_test_10cm_only = test_base[['moisture_10cm']]\n",
        "y_test_10cm_only = test_base['moisture_60cm']\n",
        "\n",
        "# Full model (moisture_10cm + meteorological features)\n",
        "features_to_exclude_60_from_10 = ['moisture_20cm', 'moisture_30cm', 'moisture_40cm', 'moisture_50cm', 'moisture_60cm', 'timestamp_device']\n",
        "X_train_full_10 = train_base.drop(columns=features_to_exclude_60_from_10)\n",
        "y_train_full_10 = train_base['moisture_60cm']\n",
        "X_test_full_10 = test_base.drop(columns=features_to_exclude_60_from_10)\n",
        "y_test_full_10 = test_base['moisture_60cm']"
      ]
    },
    {
      "cell_type": "code",
      "source": [
        "xgb_10cm = XGBRegressor(random_state=42, n_estimators=100, objective='reg:squarederror')\n",
        "xgb_10cm.fit(X_train_10cm_only, y_train_10cm_only)\n",
        "y_train_pred_10cm = xgb_10cm.predict(X_train_10cm_only)\n",
        "y_test_pred_10cm = xgb_10cm.predict(X_test_10cm_only)\n",
        "\n",
        "print(\"XGBoost - moisture_10cm only\")\n",
        "print(\"Train R2:\", r2_score(y_train_10cm_only, y_train_pred_10cm))\n",
        "print(\"Test R2:\", r2_score(y_test_10cm_only, y_test_pred_10cm))\n",
        "print(\"Train RMSE:\", np.sqrt(mean_squared_error(y_train_10cm_only, y_train_pred_10cm)))\n",
        "print(\"Test RMSE:\", np.sqrt(mean_squared_error(y_test_10cm_only, y_test_pred_10cm)))\n",
        "\n",
        "xgb_full_10 = XGBRegressor(random_state=42, n_estimators=100, objective='reg:squarederror')\n",
        "xgb_full_10.fit(X_train_full_10, y_train_full_10)\n",
        "y_train_pred_full_10 = xgb_full_10.predict(X_train_full_10)\n",
        "y_test_pred_full_10 = xgb_full_10.predict(X_test_full_10)\n",
        "\n",
        "print(\"\\nXGBoost - moisture_10cm + meteorological features\")\n",
        "print(\"Train R2:\", r2_score(y_train_full_10, y_train_pred_full_10))\n",
        "print(\"Test R2:\", r2_score(y_test_full_10, y_test_pred_full_10))\n",
        "print(\"Train RMSE:\", np.sqrt(mean_squared_error(y_train_full_10, y_train_pred_full_10)))\n",
        "print(\"Test RMSE:\", np.sqrt(mean_squared_error(y_test_full_10, y_test_pred_full_10)))"
      ],
      "metadata": {
        "id": "SkBvPvAH-ZVr",
        "colab": {
          "base_uri": "https://localhost:8080/"
        },
        "outputId": "89dce802-1413-4091-be42-4658136532de"
      },
      "execution_count": null,
      "outputs": [
        {
          "output_type": "stream",
          "name": "stdout",
          "text": [
            "XGBoost - moisture_10cm only\n",
            "Train R2: 0.3956598495595245\n",
            "Test R2: 0.38831141262714053\n",
            "Train RMSE: 0.00947061615713289\n",
            "Test RMSE: 0.0096650647232919\n",
            "\n",
            "XGBoost - moisture_10cm + meteorological features\n",
            "Train R2: 0.7399452333855252\n",
            "Test R2: 0.7012987613330692\n",
            "Train RMSE: 0.00621255033014976\n",
            "Test RMSE: 0.006753953863285897\n"
          ]
        }
      ]
    },
    {
      "cell_type": "markdown",
      "metadata": {
        "id": "UTbaMXc4reJi"
      },
      "source": [
        "##from 20cm"
      ]
    },
    {
      "cell_type": "code",
      "execution_count": null,
      "metadata": {
        "id": "8ShCDIBskukW"
      },
      "outputs": [],
      "source": [
        "# ==== 1. Separate features and targets ====\n",
        "\n",
        "# Model using only moisture_20cm\n",
        "X_train_20cm_only = train_base[['moisture_20cm']]\n",
        "y_train_20cm_only = train_base['moisture_60cm']\n",
        "X_test_20cm_only = test_base[['moisture_20cm']]\n",
        "y_test_20cm_only = test_base['moisture_60cm']\n",
        "\n",
        "# Full model (moisture_20cm + meteorological features)\n",
        "features_to_exclude_60_from_20 = ['moisture_10cm', 'moisture_30cm', 'moisture_40cm', 'moisture_50cm', 'moisture_60cm', 'timestamp_device']\n",
        "X_train_full_20 = train_base.drop(columns=features_to_exclude_60_from_20)\n",
        "y_train_full_20 = train_base['moisture_60cm']\n",
        "X_test_full_20 = test_base.drop(columns=features_to_exclude_60_from_20)\n",
        "y_test_full_20 = test_base['moisture_60cm']\n"
      ]
    },
    {
      "cell_type": "code",
      "source": [
        "xgb_20cm = XGBRegressor(random_state=42, n_estimators=100, objective='reg:squarederror')\n",
        "xgb_20cm.fit(X_train_20cm_only, y_train_20cm_only)\n",
        "y_train_pred_20cm = xgb_20cm.predict(X_train_20cm_only)\n",
        "y_test_pred_20cm = xgb_20cm.predict(X_test_20cm_only)\n",
        "\n",
        "print(\"XGBoost - moisture_20cm only\")\n",
        "print(\"Train R2:\", r2_score(y_train_20cm_only, y_train_pred_20cm))\n",
        "print(\"Test R2:\", r2_score(y_test_20cm_only, y_test_pred_20cm))\n",
        "print(\"Train RMSE:\", np.sqrt(mean_squared_error(y_train_20cm_only, y_train_pred_20cm)))\n",
        "print(\"Test RMSE:\", np.sqrt(mean_squared_error(y_test_20cm_only, y_test_pred_20cm)))\n",
        "\n",
        "xgb_full_20 = XGBRegressor(random_state=42, n_estimators=100, objective='reg:squarederror')\n",
        "xgb_full_20.fit(X_train_full_20, y_train_full_20)\n",
        "y_train_pred_full_20 = xgb_full_20.predict(X_train_full_20)\n",
        "y_test_pred_full_20 = xgb_full_20.predict(X_test_full_20)\n",
        "\n",
        "print(\"\\nXGBoost - moisture_20cm + meteorological features\")\n",
        "print(\"Train R2:\", r2_score(y_train_full_20, y_train_pred_full_20))\n",
        "print(\"Test R2:\", r2_score(y_test_full_20, y_test_pred_full_20))\n",
        "print(\"Train RMSE:\", np.sqrt(mean_squared_error(y_train_full_20, y_train_pred_full_20)))\n",
        "print(\"Test RMSE:\", np.sqrt(mean_squared_error(y_test_full_20, y_test_pred_full_20)))"
      ],
      "metadata": {
        "id": "Va9BTRP0-oyl",
        "colab": {
          "base_uri": "https://localhost:8080/"
        },
        "outputId": "c9bda2fe-bd71-4161-a658-68bed1a2292d"
      },
      "execution_count": null,
      "outputs": [
        {
          "output_type": "stream",
          "name": "stdout",
          "text": [
            "XGBoost - moisture_20cm only\n",
            "Train R2: 0.5848255647990588\n",
            "Test R2: 0.589098958290611\n",
            "Train RMSE: 0.007849695544052718\n",
            "Test RMSE: 0.007921514089095107\n",
            "\n",
            "XGBoost - moisture_20cm + meteorological features\n",
            "Train R2: 0.864017316129347\n",
            "Test R2: 0.8452008035931428\n",
            "Train RMSE: 0.0044924092743937865\n",
            "Test RMSE: 0.004862100469283905\n"
          ]
        }
      ]
    },
    {
      "cell_type": "markdown",
      "metadata": {
        "id": "OCPSR0p9rh6_"
      },
      "source": [
        "##from 30cm"
      ]
    },
    {
      "cell_type": "code",
      "execution_count": null,
      "metadata": {
        "id": "rN6BSriDlNfd"
      },
      "outputs": [],
      "source": [
        "# ==== 1. Separate features and targets ====\n",
        "\n",
        "# Model using only moisture_30cm\n",
        "X_train_30cm_only = train_base[['moisture_30cm']]\n",
        "y_train_30cm_only = train_base['moisture_60cm']\n",
        "X_test_30cm_only = test_base[['moisture_30cm']]\n",
        "y_test_30cm_only = test_base['moisture_60cm']\n",
        "\n",
        "# Full model (moisture_30cm + meteorological features)\n",
        "features_to_exclude_60_from_30 = ['moisture_10cm', 'moisture_20cm', 'moisture_40cm', 'moisture_50cm', 'moisture_60cm', 'timestamp_device']\n",
        "X_train_full_30 = train_base.drop(columns=features_to_exclude_60_from_30)\n",
        "y_train_full_30 = train_base['moisture_60cm']\n",
        "X_test_full_30 = test_base.drop(columns=features_to_exclude_60_from_30)\n",
        "y_test_full_30 = test_base['moisture_60cm']\n"
      ]
    },
    {
      "cell_type": "code",
      "source": [
        "xgb_30cm = XGBRegressor(random_state=42, n_estimators=100, objective='reg:squarederror')\n",
        "xgb_30cm.fit(X_train_30cm_only, y_train_30cm_only)\n",
        "y_train_pred_30cm = xgb_30cm.predict(X_train_30cm_only)\n",
        "y_test_pred_30cm = xgb_30cm.predict(X_test_30cm_only)\n",
        "\n",
        "print(\"XGBoost - moisture_30cm only\")\n",
        "print(\"Train R2:\", r2_score(y_train_30cm_only, y_train_pred_30cm))\n",
        "print(\"Test R2:\", r2_score(y_test_30cm_only, y_test_pred_30cm))\n",
        "print(\"Train RMSE:\", np.sqrt(mean_squared_error(y_train_30cm_only, y_train_pred_30cm)))\n",
        "print(\"Test RMSE:\", np.sqrt(mean_squared_error(y_test_30cm_only, y_test_pred_30cm)))\n",
        "\n",
        "xgb_full_30 = XGBRegressor(random_state=42, n_estimators=100, objective='reg:squarederror')\n",
        "xgb_full_30.fit(X_train_full_30, y_train_full_30)\n",
        "y_train_pred_full_30 = xgb_full_30.predict(X_train_full_30)\n",
        "y_test_pred_full_30 = xgb_full_30.predict(X_test_full_30)\n",
        "\n",
        "print(\"\\nXGBoost - moisture_30cm + meteorological features\")\n",
        "print(\"Train R2:\", r2_score(y_train_full_30, y_train_pred_full_30))\n",
        "print(\"Test R2:\", r2_score(y_test_full_30, y_test_pred_full_30))\n",
        "print(\"Train RMSE:\", np.sqrt(mean_squared_error(y_train_full_30, y_train_pred_full_30)))\n",
        "print(\"Test RMSE:\", np.sqrt(mean_squared_error(y_test_full_30, y_test_pred_full_30)))"
      ],
      "metadata": {
        "id": "LUNmgNz6_Is7",
        "colab": {
          "base_uri": "https://localhost:8080/"
        },
        "outputId": "f23a6da1-baab-45f2-9b23-a6457db625a6"
      },
      "execution_count": null,
      "outputs": [
        {
          "output_type": "stream",
          "name": "stdout",
          "text": [
            "XGBoost - moisture_30cm only\n",
            "Train R2: 0.6213546807128726\n",
            "Test R2: 0.630720331089548\n",
            "Train RMSE: 0.007496418213565153\n",
            "Test RMSE: 0.007509608159118429\n",
            "\n",
            "XGBoost - moisture_30cm + meteorological features\n",
            "Train R2: 0.8686734417558442\n",
            "Test R2: 0.8535408052519149\n",
            "Train RMSE: 0.004414828039540661\n",
            "Test RMSE: 0.004729311268196873\n"
          ]
        }
      ]
    },
    {
      "cell_type": "markdown",
      "metadata": {
        "id": "i5h3-8LpruY0"
      },
      "source": [
        "##from 40cm"
      ]
    },
    {
      "cell_type": "code",
      "execution_count": null,
      "metadata": {
        "id": "BHwnli-hmSSQ"
      },
      "outputs": [],
      "source": [
        "# ==== 1. Separate features and targets ====\n",
        "\n",
        "# Model using only moisture_40cm\n",
        "X_train_40cm_only = train_base[['moisture_40cm']]\n",
        "y_train_40cm_only = train_base['moisture_60cm']\n",
        "X_test_40cm_only = test_base[['moisture_40cm']]\n",
        "y_test_40cm_only = test_base['moisture_60cm']\n",
        "\n",
        "# Full model (moisture_40cm + meteorological features)\n",
        "features_to_exclude_60_from_40 = ['moisture_10cm', 'moisture_20cm', 'moisture_30cm', 'moisture_50cm', 'moisture_60cm', 'timestamp_device']\n",
        "X_train_full_40 = train_base.drop(columns=features_to_exclude_60_from_40)\n",
        "y_train_full_40 = train_base['moisture_60cm']\n",
        "X_test_full_40 = test_base.drop(columns=features_to_exclude_60_from_40)\n",
        "y_test_full_40 = test_base['moisture_60cm']"
      ]
    },
    {
      "cell_type": "code",
      "source": [
        "xgb_40cm = XGBRegressor(random_state=42, n_estimators=100, objective='reg:squarederror')\n",
        "xgb_40cm.fit(X_train_40cm_only, y_train_40cm_only)\n",
        "y_train_pred_40cm = xgb_40cm.predict(X_train_40cm_only)\n",
        "y_test_pred_40cm = xgb_40cm.predict(X_test_40cm_only)\n",
        "\n",
        "print(\"XGBoost - moisture_40cm only\")\n",
        "print(\"Train R2:\", r2_score(y_train_40cm_only, y_train_pred_40cm))\n",
        "print(\"Test R2:\", r2_score(y_test_40cm_only, y_test_pred_40cm))\n",
        "print(\"Train RMSE:\", np.sqrt(mean_squared_error(y_train_40cm_only, y_train_pred_40cm)))\n",
        "print(\"Test RMSE:\", np.sqrt(mean_squared_error(y_test_40cm_only, y_test_pred_40cm)))\n",
        "\n",
        "xgb_full_40 = XGBRegressor(random_state=42, n_estimators=100, objective='reg:squarederror')\n",
        "xgb_full_40.fit(X_train_full_40, y_train_full_40)\n",
        "y_train_pred_full_40 = xgb_full_40.predict(X_train_full_40)\n",
        "y_test_pred_full_40 = xgb_full_40.predict(X_test_full_40)\n",
        "\n",
        "print(\"\\nXGBoost - moisture_40cm + meteorological features\")\n",
        "print(\"Train R2:\", r2_score(y_train_full_40, y_train_pred_full_40))\n",
        "print(\"Test R2:\", r2_score(y_test_full_40, y_test_pred_full_40))\n",
        "print(\"Train RMSE:\", np.sqrt(mean_squared_error(y_train_full_40, y_train_pred_full_40)))\n",
        "print(\"Test RMSE:\", np.sqrt(mean_squared_error(y_test_full_40, y_test_pred_full_40)))"
      ],
      "metadata": {
        "id": "Od7AHgK-ABum",
        "colab": {
          "base_uri": "https://localhost:8080/"
        },
        "outputId": "0a59a7a8-32dc-4ae8-8bb9-58add79d5905"
      },
      "execution_count": null,
      "outputs": [
        {
          "output_type": "stream",
          "name": "stdout",
          "text": [
            "XGBoost - moisture_40cm only\n",
            "Train R2: 0.6754427364155706\n",
            "Test R2: 0.6826390491405847\n",
            "Train RMSE: 0.006940378846398856\n",
            "Test RMSE: 0.006961716315915721\n",
            "\n",
            "XGBoost - moisture_40cm + meteorological features\n",
            "Train R2: 0.8849855398761146\n",
            "Test R2: 0.871616364786077\n",
            "Train RMSE: 0.004131556854653305\n",
            "Test RMSE: 0.004427865416530157\n"
          ]
        }
      ]
    },
    {
      "cell_type": "markdown",
      "metadata": {
        "id": "mWe-8g_3rlny"
      },
      "source": [
        "##from 50cm"
      ]
    },
    {
      "cell_type": "code",
      "execution_count": null,
      "metadata": {
        "id": "dPG-obctb1j_"
      },
      "outputs": [],
      "source": [
        "# ==== 1. Separate features and targets ====\n",
        "\n",
        "# Model using only moisture_50cm\n",
        "X_train_50cm_only = train_base[['moisture_50cm']]\n",
        "y_train_50cm_only = train_base['moisture_60cm']\n",
        "X_test_50cm_only = test_base[['moisture_50cm']]\n",
        "y_test_50cm_only = test_base['moisture_60cm']\n",
        "\n",
        "# Full model (moisture_50cm + meteorological features)\n",
        "features_to_exclude_60_from_50 = ['moisture_10cm', 'moisture_20cm', 'moisture_30cm', 'moisture_40cm', 'moisture_60cm', 'timestamp_device']\n",
        "X_train_full_50 = train_base.drop(columns=features_to_exclude_60_from_50)\n",
        "y_train_full_50 = train_base['moisture_60cm']\n",
        "X_test_full_50 = test_base.drop(columns=features_to_exclude_60_from_50)\n",
        "y_test_full_50 = test_base['moisture_60cm']"
      ]
    },
    {
      "cell_type": "code",
      "source": [
        "xgb_50cm = XGBRegressor(random_state=42, n_estimators=100, objective='reg:squarederror')\n",
        "xgb_50cm.fit(X_train_50cm_only, y_train_50cm_only)\n",
        "y_train_pred_50cm = xgb_50cm.predict(X_train_50cm_only)\n",
        "y_test_pred_50cm = xgb_50cm.predict(X_test_50cm_only)\n",
        "\n",
        "print(\"XGBoost - moisture_50cm only\")\n",
        "print(\"Train R2:\", r2_score(y_train_50cm_only, y_train_pred_50cm))\n",
        "print(\"Test R2:\", r2_score(y_test_50cm_only, y_test_pred_50cm))\n",
        "print(\"Train RMSE:\", np.sqrt(mean_squared_error(y_train_50cm_only, y_train_pred_50cm)))\n",
        "print(\"Test RMSE:\", np.sqrt(mean_squared_error(y_test_50cm_only, y_test_pred_50cm)))\n",
        "\n",
        "xgb_full_50 = XGBRegressor(random_state=42, n_estimators=100, objective='reg:squarederror')\n",
        "xgb_full_50.fit(X_train_full_50, y_train_full_50)\n",
        "y_train_pred_full_50 = xgb_full_50.predict(X_train_full_50)\n",
        "y_test_pred_full_50 = xgb_full_50.predict(X_test_full_50)\n",
        "\n",
        "print(\"\\nXGBoost - moisture_50cm + meteorological features\")\n",
        "print(\"Train R2:\", r2_score(y_train_full_50, y_train_pred_full_50))\n",
        "print(\"Test R2:\", r2_score(y_test_full_50, y_test_pred_full_50))\n",
        "print(\"Train RMSE:\", np.sqrt(mean_squared_error(y_train_full_50, y_train_pred_full_50)))\n",
        "print(\"Test RMSE:\", np.sqrt(mean_squared_error(y_test_full_50, y_test_pred_full_50)))"
      ],
      "metadata": {
        "id": "CNmpGNCXAVUQ",
        "colab": {
          "base_uri": "https://localhost:8080/"
        },
        "outputId": "8f43560b-a93f-4df9-8a4d-e9bfb878b250"
      },
      "execution_count": null,
      "outputs": [
        {
          "output_type": "stream",
          "name": "stdout",
          "text": [
            "XGBoost - moisture_50cm only\n",
            "Train R2: 0.8992255992379774\n",
            "Test R2: 0.9029779035462617\n",
            "Train RMSE: 0.0038673423866247927\n",
            "Test RMSE: 0.0038492392462945715\n",
            "\n",
            "XGBoost - moisture_50cm + meteorological features\n",
            "Train R2: 0.9695450224072157\n",
            "Test R2: 0.9672098752615821\n",
            "Train RMSE: 0.0021260166091066615\n",
            "Test RMSE: 0.0022377476629370694\n"
          ]
        }
      ]
    }
  ],
  "metadata": {
    "accelerator": "GPU",
    "colab": {
      "gpuType": "T4",
      "provenance": []
    },
    "kernelspec": {
      "display_name": "Python 3",
      "name": "python3"
    },
    "language_info": {
      "name": "python"
    }
  },
  "nbformat": 4,
  "nbformat_minor": 0
}