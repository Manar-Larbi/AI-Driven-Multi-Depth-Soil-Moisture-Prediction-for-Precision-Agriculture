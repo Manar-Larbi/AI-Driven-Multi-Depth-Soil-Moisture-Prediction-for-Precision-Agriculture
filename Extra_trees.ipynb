{
  "cells": [
    {
      "cell_type": "code",
      "execution_count": null,
      "metadata": {
        "id": "iWH-g1YcGPBg"
      },
      "outputs": [],
      "source": [
        "import pandas as pd\n",
        "import matplotlib.pyplot as plt\n",
        "import seaborn as sns\n",
        "import numpy as np\n",
        "from sklearn.metrics import r2_score, mean_squared_error, mean_absolute_error\n",
        "from sklearn.model_selection import train_test_split, cross_val_score\n",
        "from sklearn.ensemble import ExtraTreesRegressor"
      ]
    },
    {
      "cell_type": "code",
      "execution_count": null,
      "metadata": {
        "id": "DWGfu10SuUxu"
      },
      "outputs": [],
      "source": [
        "base_df_resampled = pd.read_csv(\"filtered_df.csv\")"
      ]
    },
    {
      "cell_type": "code",
      "execution_count": null,
      "metadata": {
        "id": "e9fDexzFe1uo"
      },
      "outputs": [],
      "source": [
        "#Train-test split\n",
        "train_base, test_base = train_test_split(base_df_resampled, test_size=0.2, random_state=123)\n",
        "train_base.reset_index(drop=True, inplace=True)\n",
        "test_base.reset_index(drop=True, inplace=True)"
      ]
    },
    {
      "cell_type": "markdown",
      "metadata": {
        "id": "XVgynui9hkpd"
      },
      "source": [
        "#The role of meteorological variables"
      ]
    },
    {
      "cell_type": "markdown",
      "metadata": {
        "id": "Zaufd7esnwVG"
      },
      "source": [
        "#Predicting moisture at 10 cm depth"
      ]
    },
    {
      "cell_type": "markdown",
      "metadata": {
        "id": "_6wUg4lpn1bp"
      },
      "source": [
        "##From 20cm"
      ]
    },
    {
      "cell_type": "code",
      "execution_count": null,
      "metadata": {
        "id": "llgUBvGYJGHk"
      },
      "outputs": [],
      "source": [
        "# ==== 1. Separate features and targets ====\n",
        "\n",
        "# Model using only moisture_20cm\n",
        "X_train_20cm_only = train_base[['moisture_20cm']]\n",
        "y_train_20cm_only = train_base['moisture_10cm']\n",
        "X_test_20cm_only = test_base[['moisture_20cm']]\n",
        "y_test_20cm_only = test_base['moisture_10cm']\n",
        "\n",
        "# Full model (with meteorological and moisture_20cm features)\n",
        "features_to_exclude = ['moisture_10cm', 'moisture_30cm', 'moisture_40cm', 'moisture_50cm', 'moisture_60cm', 'timestamp_device']\n",
        "X_train_full = train_base.drop(columns=features_to_exclude)\n",
        "y_train_full = train_base['moisture_10cm']\n",
        "X_test_full = test_base.drop(columns=features_to_exclude)\n",
        "y_test_full = test_base['moisture_10cm']\n",
        "\n",
        "# ==== 3. Baseline Extra Trees using moisture_20cm + meteorological features ====\n",
        "features_to_exclude_partial = ['moisture_10cm', 'moisture_30cm', 'moisture_40cm', 'moisture_50cm', 'moisture_60cm','timestamp_device']\n",
        "X_train_20cm_meteo = train_base.drop(columns=features_to_exclude_partial)\n",
        "X_test_20cm_meteo = test_base.drop(columns=features_to_exclude_partial)"
      ]
    },
    {
      "cell_type": "code",
      "source": [
        "# Model using moisture_20cm only\n",
        "et_20cm = ExtraTreesRegressor(random_state=42, n_estimators=100)\n",
        "et_20cm.fit(X_train_20cm_only, y_train_20cm_only)\n",
        "y_train_pred_20cm = et_20cm.predict(X_train_20cm_only)\n",
        "y_test_pred_20cm = et_20cm.predict(X_test_20cm_only)\n",
        "\n",
        "print(\"Extra Trees - moisture_20cm only\")\n",
        "print(\"Train R2:\", r2_score(y_train_20cm_only, y_train_pred_20cm))\n",
        "print(\"Test R2:\", r2_score(y_test_20cm_only, y_test_pred_20cm))\n",
        "print(\"Train RMSE:\", np.sqrt(mean_squared_error(y_train_20cm_only, y_train_pred_20cm)))\n",
        "print(\"Test RMSE:\", np.sqrt(mean_squared_error(y_test_20cm_only, y_test_pred_20cm)))\n",
        "\n",
        "# Model using moisture_20cm + meteorological features\n",
        "et_full = ExtraTreesRegressor(random_state=42, n_estimators=100)\n",
        "et_full.fit(X_train_full, y_train_full)\n",
        "y_train_pred_full = et_full.predict(X_train_full)\n",
        "y_test_pred_full = et_full.predict(X_test_full)\n",
        "\n",
        "print(\"\\nExtra Trees - moisture_20cm + meteorological features\")\n",
        "print(\"Train R2:\", r2_score(y_train_full, y_train_pred_full))\n",
        "print(\"Test R2:\", r2_score(y_test_full, y_test_pred_full))\n",
        "print(\"Train RMSE:\", np.sqrt(mean_squared_error(y_train_full, y_train_pred_full)))\n",
        "print(\"Test RMSE:\", np.sqrt(mean_squared_error(y_test_full, y_test_pred_full)))\n"
      ],
      "metadata": {
        "colab": {
          "base_uri": "https://localhost:8080/"
        },
        "id": "2-cZDdF3Xhmo",
        "outputId": "3f80464e-afb3-4072-e823-bb246a5588b8"
      },
      "execution_count": null,
      "outputs": [
        {
          "output_type": "stream",
          "name": "stdout",
          "text": [
            "Extra Trees - moisture_20cm only\n",
            "Train R2: 0.7485638805925896\n",
            "Test R2: 0.7475821019526077\n",
            "Train RMSE: 0.04327202080488243\n",
            "Test RMSE: 0.04330771927469991\n",
            "\n",
            "Extra Trees - moisture_20cm + meteorological features\n",
            "Train R2: 0.9999840742413926\n",
            "Test R2: 0.9553976852894436\n",
            "Train RMSE: 0.0003443843512136679\n",
            "Test RMSE: 0.01820471728669711\n"
          ]
        }
      ]
    },
    {
      "cell_type": "code",
      "source": [
        "# Regulated Extra Trees model\n",
        "et_reg = ExtraTreesRegressor(\n",
        "    random_state=42,\n",
        "    n_estimators=100,\n",
        "    max_depth=12)\n",
        "\n",
        "# Train\n",
        "et_reg.fit(X_train_full, y_train_full)\n",
        "\n",
        "# Predict\n",
        "y_train_pred_reg = et_reg.predict(X_train_full)\n",
        "y_test_pred_reg = et_reg.predict(X_test_full)\n",
        "\n",
        "# Evaluate\n",
        "print(\"\\nRegulated Extra Trees - moisture_20cm + meteorological features\")\n",
        "print(\"Train R2:\", r2_score(y_train_full, y_train_pred_reg))\n",
        "print(\"Test R2:\", r2_score(y_test_full, y_test_pred_reg))\n",
        "print(\"Train RMSE:\", np.sqrt(mean_squared_error(y_train_full, y_train_pred_reg)))\n",
        "print(\"Test RMSE:\", np.sqrt(mean_squared_error(y_test_full, y_test_pred_reg)))\n"
      ],
      "metadata": {
        "colab": {
          "base_uri": "https://localhost:8080/"
        },
        "id": "jF_50M2d8Y2h",
        "outputId": "7ce374fb-64ff-44ab-f7c9-6d4e5f9f1df5"
      },
      "execution_count": null,
      "outputs": [
        {
          "output_type": "stream",
          "name": "stdout",
          "text": [
            "\n",
            "Regulated Extra Trees - moisture_20cm + meteorological features\n",
            "Train R2: 0.8471808769007156\n",
            "Test R2: 0.8420665022431827\n",
            "Train RMSE: 0.03373511509969707\n",
            "Test RMSE: 0.03425645094187573\n"
          ]
        }
      ]
    },
    {
      "cell_type": "markdown",
      "metadata": {
        "id": "1ORqaOUBn3f2"
      },
      "source": [
        "##From 30cm"
      ]
    },
    {
      "cell_type": "code",
      "execution_count": null,
      "metadata": {
        "id": "-VGgU5rKOHBr"
      },
      "outputs": [],
      "source": [
        "# ==== 1. Separate features and targets ====\n",
        "\n",
        "# Model using only moisture_30cm\n",
        "X_train_30cm_only = train_base[['moisture_30cm']]\n",
        "y_train_30cm_only = train_base['moisture_10cm']\n",
        "X_test_30cm_only = test_base[['moisture_30cm']]\n",
        "y_test_30cm_only = test_base['moisture_10cm']\n",
        "\n",
        "# Full model (with meteorological and moisture_30cm features)\n",
        "features_to_exclude = ['moisture_10cm', 'moisture_20cm', 'moisture_40cm', 'moisture_50cm', 'moisture_60cm','timestamp_device']\n",
        "X_train_full = train_base.drop(columns=features_to_exclude)\n",
        "y_train_full = train_base['moisture_10cm']\n",
        "X_test_full = test_base.drop(columns=features_to_exclude)\n",
        "y_test_full = test_base['moisture_10cm']\n"
      ]
    },
    {
      "cell_type": "code",
      "source": [
        "# ==== 2. Train and evaluate baseline model ====\n",
        "et_30cm_only = ExtraTreesRegressor(\n",
        "    random_state=42,\n",
        "    n_estimators=100\n",
        ")\n",
        "et_30cm_only.fit(X_train_30cm_only, y_train_30cm_only)\n",
        "\n",
        "# ==== 3. Predict ====\n",
        "y_train_pred_30cm_only = et_30cm_only.predict(X_train_30cm_only)\n",
        "y_test_pred_30cm_only = et_30cm_only.predict(X_test_30cm_only)\n",
        "\n",
        "# ==== 4. Evaluate ====\n",
        "print(\"Extra Trees - using only moisture_30cm\")\n",
        "print(\"Train R2:\", r2_score(y_train_30cm_only, y_train_pred_30cm_only))\n",
        "print(\"Test R2:\", r2_score(y_test_30cm_only, y_test_pred_30cm_only))\n",
        "print(\"Train RMSE:\", np.sqrt(mean_squared_error(y_train_30cm_only, y_train_pred_30cm_only)))\n",
        "print(\"Test RMSE:\", np.sqrt(mean_squared_error(y_test_30cm_only, y_test_pred_30cm_only)))"
      ],
      "metadata": {
        "colab": {
          "base_uri": "https://localhost:8080/"
        },
        "id": "hVC3majG-aR-",
        "outputId": "75d86298-7c7c-4a6f-dae9-a20629cff403"
      },
      "execution_count": null,
      "outputs": [
        {
          "output_type": "stream",
          "name": "stdout",
          "text": [
            "Extra Trees - using only moisture_30cm\n",
            "Train R2: 0.5069343362602743\n",
            "Test R2: 0.5081510002313354\n",
            "Train RMSE: 0.06059624664375811\n",
            "Test RMSE: 0.06045345636853849\n"
          ]
        }
      ]
    },
    {
      "cell_type": "code",
      "source": [
        "# Regulated Extra Trees\n",
        "et_reg = ExtraTreesRegressor(\n",
        "    random_state=42,\n",
        "    n_estimators=100, max_depth = 12)\n",
        "\n",
        "# Fit regulated model\n",
        "et_reg.fit(X_train_full, y_train_full)\n",
        "\n",
        "# Predict\n",
        "y_train_pred_reg = et_reg.predict(X_train_full)\n",
        "y_test_pred_reg = et_reg.predict(X_test_full)\n",
        "\n",
        "# Evaluate\n",
        "print(\"Extra Trees - moisture_30cm + meteorological features\")\n",
        "print(\"Train R2:\", r2_score(y_train_full, y_train_pred_reg))\n",
        "print(\"Test R2:\", r2_score(y_test_full, y_test_pred_reg))\n",
        "print(\"Train RMSE:\", np.sqrt(mean_squared_error(y_train_full, y_train_pred_reg)))\n",
        "print(\"Test RMSE:\", np.sqrt(mean_squared_error(y_test_full, y_test_pred_reg)))"
      ],
      "metadata": {
        "colab": {
          "base_uri": "https://localhost:8080/"
        },
        "id": "eb9l7Oj7y_3_",
        "outputId": "20528909-e173-4ad8-ed86-bd8c3bdad1e9"
      },
      "execution_count": null,
      "outputs": [
        {
          "output_type": "stream",
          "name": "stdout",
          "text": [
            "Extra Trees - moisture_30cm + meteorological features\n",
            "Train R2: 0.6831182561837047\n",
            "Test R2: 0.679218763907139\n",
            "Train RMSE: 0.04857825992129111\n",
            "Test RMSE: 0.04882134258068874\n"
          ]
        }
      ]
    },
    {
      "cell_type": "markdown",
      "metadata": {
        "id": "g_lRfWnmoPti"
      },
      "source": [
        "##from 40"
      ]
    },
    {
      "cell_type": "code",
      "execution_count": null,
      "metadata": {
        "id": "I7osX21x7mIo"
      },
      "outputs": [],
      "source": [
        "# ==== 1. Separate features and targets ====\n",
        "\n",
        "# Model using only moisture_40cm\n",
        "X_train_40cm_only = train_base[['moisture_40cm']]\n",
        "y_train_40cm_only = train_base['moisture_10cm']\n",
        "X_test_40cm_only = test_base[['moisture_40cm']]\n",
        "y_test_40cm_only = test_base['moisture_10cm']\n",
        "\n",
        "# Full model (with meteorological and moisture_40cm features)\n",
        "features_to_exclude = ['moisture_10cm', 'moisture_20cm', 'moisture_30cm', 'moisture_50cm', 'moisture_60cm', 'timestamp_device']\n",
        "X_train_full = train_base.drop(columns=features_to_exclude)\n",
        "y_train_full = train_base['moisture_10cm']\n",
        "X_test_full = test_base.drop(columns=features_to_exclude)\n",
        "y_test_full = test_base['moisture_10cm']"
      ]
    },
    {
      "cell_type": "code",
      "source": [
        "# Model using moisture_40cm only\n",
        "et_40cm = ExtraTreesRegressor(random_state=42, n_estimators=100)\n",
        "et_40cm.fit(X_train_40cm_only, y_train_40cm_only)\n",
        "y_train_pred_40cm = et_40cm.predict(X_train_40cm_only)\n",
        "y_test_pred_40cm = et_40cm.predict(X_test_40cm_only)\n",
        "\n",
        "print(\"\\nExtra Trees - moisture_40cm only\")\n",
        "print(\"Train R2:\", r2_score(y_train_40cm_only, y_train_pred_40cm))\n",
        "print(\"Test R2:\", r2_score(y_test_40cm_only, y_test_pred_40cm))\n",
        "print(\"Train RMSE:\", np.sqrt(mean_squared_error(y_train_40cm_only, y_train_pred_40cm)))\n",
        "print(\"Test RMSE:\", np.sqrt(mean_squared_error(y_test_40cm_only, y_test_pred_40cm)))\n",
        "\n",
        "# Model using moisture_40cm + meteorological features\n",
        "et_full = ExtraTreesRegressor(random_state=42, n_estimators=100)\n",
        "et_full.fit(X_train_full, y_train_full)\n",
        "y_train_pred_full = et_full.predict(X_train_full)\n",
        "y_test_pred_full = et_full.predict(X_test_full)\n",
        "\n",
        "print(\"\\nExtra Trees - moisture_40cm + meteorological features\")\n",
        "print(\"Train R2:\", r2_score(y_train_full, y_train_pred_full))\n",
        "print(\"Test R2:\", r2_score(y_test_full, y_test_pred_full))\n",
        "print(\"Train RMSE:\", np.sqrt(mean_squared_error(y_train_full, y_train_pred_full)))\n",
        "print(\"Test RMSE:\", np.sqrt(mean_squared_error(y_test_full, y_test_pred_full)))"
      ],
      "metadata": {
        "colab": {
          "base_uri": "https://localhost:8080/"
        },
        "id": "gTIh1WQ_stw_",
        "outputId": "79230a62-fa90-44b5-b969-f93e353ef432"
      },
      "execution_count": null,
      "outputs": [
        {
          "output_type": "stream",
          "name": "stdout",
          "text": [
            "\n",
            "Extra Trees - moisture_40cm only\n",
            "Train R2: 0.44008561437898797\n",
            "Test R2: 0.4391921964187855\n",
            "Train RMSE: 0.0645734748561407\n",
            "Test RMSE: 0.06455238075303071\n",
            "\n",
            "Extra Trees - moisture_40cm + meteorological features\n",
            "Train R2: 0.9998687780321516\n",
            "Test R2: 0.9037832110048253\n",
            "Train RMSE: 0.0009885453959038552\n",
            "Test RMSE: 0.026738107784213472\n"
          ]
        }
      ]
    },
    {
      "cell_type": "code",
      "source": [
        "# ==== Regulated Extra Trees - moisture_40cm + meteorological features ====\n",
        "et_full_reg = ExtraTreesRegressor(\n",
        "    random_state=42,\n",
        "    n_estimators=150,\n",
        "    max_depth=12\n",
        ")\n",
        "et_full_reg.fit(X_train_full, y_train_full)\n",
        "y_train_pred_full_reg = et_full_reg.predict(X_train_full)\n",
        "y_test_pred_full_reg = et_full_reg.predict(X_test_full)\n",
        "\n",
        "print(\"\\n[Regulated] Extra Trees - moisture_40cm + meteorological features\")\n",
        "print(\"Train R2:\", r2_score(y_train_full, y_train_pred_full_reg))\n",
        "print(\"Test R2:\", r2_score(y_test_full, y_test_pred_full_reg))\n",
        "print(\"Train RMSE:\", np.sqrt(mean_squared_error(y_train_full, y_train_pred_full_reg)))\n",
        "print(\"Test RMSE:\", np.sqrt(mean_squared_error(y_test_full, y_test_pred_full_reg)))"
      ],
      "metadata": {
        "colab": {
          "base_uri": "https://localhost:8080/"
        },
        "id": "qv7cI8Um_MKD",
        "outputId": "3cc8b0c7-9712-4cb6-f74c-3ce180a24c35"
      },
      "execution_count": null,
      "outputs": [
        {
          "output_type": "stream",
          "name": "stdout",
          "text": [
            "\n",
            "[Regulated] Extra Trees - moisture_40cm + meteorological features\n",
            "Train R2: 0.6876328724691769\n",
            "Test R2: 0.6795846678650579\n",
            "Train RMSE: 0.048230971133398984\n",
            "Test RMSE: 0.04879349023527963\n"
          ]
        }
      ]
    },
    {
      "cell_type": "markdown",
      "metadata": {
        "id": "7DLMfJIFoR3c"
      },
      "source": [
        "##From 50"
      ]
    },
    {
      "cell_type": "code",
      "execution_count": null,
      "metadata": {
        "id": "nCW6T5bBD6HO"
      },
      "outputs": [],
      "source": [
        "# ==== 1. Separate features and targets ====\n",
        "\n",
        "# Model using only moisture_50cm\n",
        "X_train_50cm_only = train_base[['moisture_50cm']]\n",
        "y_train_50cm_only = train_base['moisture_10cm']\n",
        "X_test_50cm_only = test_base[['moisture_50cm']]\n",
        "y_test_50cm_only = test_base['moisture_10cm']\n",
        "\n",
        "# Full model (with meteorological and moisture_50cm features)\n",
        "features_to_exclude_50cm = ['moisture_10cm', 'moisture_20cm', 'moisture_30cm', 'moisture_40cm', 'moisture_60cm', 'timestamp_device']\n",
        "X_train_full_50cm = train_base.drop(columns=features_to_exclude_50cm)\n",
        "y_train_full_50cm = train_base['moisture_10cm']\n",
        "X_test_full_50cm = test_base.drop(columns=features_to_exclude_50cm)\n",
        "y_test_full_50cm = test_base['moisture_10cm']"
      ]
    },
    {
      "cell_type": "code",
      "source": [
        "# Model using moisture_50cm only\n",
        "et_50cm = ExtraTreesRegressor(random_state=42, n_estimators=100)\n",
        "et_50cm.fit(X_train_50cm_only, y_train_50cm_only)\n",
        "y_train_pred_50cm = et_50cm.predict(X_train_50cm_only)\n",
        "y_test_pred_50cm = et_50cm.predict(X_test_50cm_only)\n",
        "\n",
        "print(\"\\nExtra Trees - moisture_50cm only\")\n",
        "print(\"Train R2:\", r2_score(y_train_50cm_only, y_train_pred_50cm))\n",
        "print(\"Test R2:\", r2_score(y_test_50cm_only, y_test_pred_50cm))\n",
        "print(\"Train RMSE:\", np.sqrt(mean_squared_error(y_train_50cm_only, y_train_pred_50cm)))\n",
        "print(\"Test RMSE:\", np.sqrt(mean_squared_error(y_test_50cm_only, y_test_pred_50cm)))\n",
        "\n",
        "# Model using moisture_50cm + meteorological features\n",
        "et_full_50cm = ExtraTreesRegressor(random_state=42, n_estimators=100)\n",
        "et_full_50cm.fit(X_train_full_50cm, y_train_full_50cm)\n",
        "y_train_pred_full_50cm = et_full_50cm.predict(X_train_full_50cm)\n",
        "y_test_pred_full_50cm = et_full_50cm.predict(X_test_full_50cm)\n",
        "\n",
        "print(\"\\nExtra Trees - moisture_50cm + meteorological features\")\n",
        "print(\"Train R2:\", r2_score(y_train_full_50cm, y_train_pred_full_50cm))\n",
        "print(\"Test R2:\", r2_score(y_test_full_50cm, y_test_pred_full_50cm))\n",
        "print(\"Train RMSE:\", np.sqrt(mean_squared_error(y_train_full_50cm, y_train_pred_full_50cm)))\n",
        "print(\"Test RMSE:\", np.sqrt(mean_squared_error(y_test_full_50cm, y_test_pred_full_50cm)))"
      ],
      "metadata": {
        "colab": {
          "base_uri": "https://localhost:8080/"
        },
        "id": "cAZR7djhtOGN",
        "outputId": "80747c24-1cfe-4e85-d39d-3605dab1f94b"
      },
      "execution_count": null,
      "outputs": [
        {
          "output_type": "stream",
          "name": "stdout",
          "text": [
            "\n",
            "Extra Trees - moisture_50cm only\n",
            "Train R2: 0.3623913992523453\n",
            "Test R2: 0.36867224342636273\n",
            "Train RMSE: 0.0689081242170287\n",
            "Test RMSE: 0.06849086984379052\n",
            "\n",
            "Extra Trees - moisture_50cm + meteorological features\n",
            "Train R2: 0.999755121795677\n",
            "Test R2: 0.8667693950817099\n",
            "Train RMSE: 0.0013504185984114395\n",
            "Test RMSE: 0.031463515068613\n"
          ]
        }
      ]
    },
    {
      "cell_type": "code",
      "source": [
        "# Regulated Extra Trees\n",
        "et_full_50cm_reg = ExtraTreesRegressor(\n",
        "    random_state=42,\n",
        "    n_estimators=150,          # Slightly more trees for stability\n",
        "    max_depth=12,              # Limit tree depth to prevent overfitting\n",
        "    min_samples_split=12)\n",
        "\n",
        "# Fit the model\n",
        "et_full_50cm_reg.fit(X_train_full_50cm, y_train_full_50cm)\n",
        "\n",
        "# Predict\n",
        "y_train_pred_50cm_reg = et_full_50cm_reg.predict(X_train_full_50cm)\n",
        "y_test_pred_50cm_reg = et_full_50cm_reg.predict(X_test_full_50cm)\n",
        "\n",
        "# Evaluate\n",
        "print(\"\\nExtra Trees (Regulated) - moisture_50cm + meteorological features\")\n",
        "print(\"Train R2:\", r2_score(y_train_full_50cm, y_train_pred_50cm_reg))\n",
        "print(\"Test R2:\", r2_score(y_test_full_50cm, y_test_pred_50cm_reg))\n",
        "print(\"Train RMSE:\", np.sqrt(mean_squared_error(y_train_full_50cm, y_train_pred_50cm_reg)))\n",
        "print(\"Test RMSE:\", np.sqrt(mean_squared_error(y_test_full_50cm, y_test_pred_50cm_reg)))"
      ],
      "metadata": {
        "colab": {
          "base_uri": "https://localhost:8080/"
        },
        "id": "mIYTMj8hCzUX",
        "outputId": "657690aa-2f59-465b-ec04-bcd05ae1bcac"
      },
      "execution_count": null,
      "outputs": [
        {
          "output_type": "stream",
          "name": "stdout",
          "text": [
            "\n",
            "Extra Trees (Regulated) - moisture_50cm + meteorological features\n",
            "Train R2: 0.637567265226753\n",
            "Test R2: 0.6307393779776209\n",
            "Train RMSE: 0.051952571967056056\n",
            "Test RMSE: 0.052380753136810225\n"
          ]
        }
      ]
    },
    {
      "cell_type": "markdown",
      "metadata": {
        "id": "8r7kcrnYoT9Y"
      },
      "source": [
        "##from 60"
      ]
    },
    {
      "cell_type": "code",
      "execution_count": null,
      "metadata": {
        "id": "-RWBWvM0mycd"
      },
      "outputs": [],
      "source": [
        "# ==== 1. Separate features and targets ====\n",
        "\n",
        "# Model using only moisture_60cm\n",
        "X_train_60cm_only = train_base[['moisture_60cm']]\n",
        "y_train_60cm_only = train_base['moisture_10cm']\n",
        "X_test_60cm_only = test_base[['moisture_60cm']]\n",
        "y_test_60cm_only = test_base['moisture_10cm']\n",
        "\n",
        "# Full model (with meteorological and moisture_60cm features)\n",
        "features_to_exclude = ['moisture_10cm', 'moisture_20cm', 'moisture_30cm', 'moisture_40cm', 'moisture_50cm', 'timestamp_device']\n",
        "X_train_full_60 = train_base.drop(columns=features_to_exclude)\n",
        "y_train_full_60 = train_base['moisture_10cm']\n",
        "X_test_full_60 = test_base.drop(columns=features_to_exclude)\n",
        "y_test_full_60 = test_base['moisture_10cm']"
      ]
    },
    {
      "cell_type": "code",
      "source": [
        "# Model using moisture_60cm only\n",
        "et_60cm = ExtraTreesRegressor(random_state=42, n_estimators=100)\n",
        "et_60cm.fit(X_train_60cm_only, y_train_60cm_only)\n",
        "y_train_pred_60cm = et_60cm.predict(X_train_60cm_only)\n",
        "y_test_pred_60cm = et_60cm.predict(X_test_60cm_only)\n",
        "\n",
        "print(\"\\nExtra Trees - moisture_60cm only\")\n",
        "print(\"Train R2:\", r2_score(y_train_60cm_only, y_train_pred_60cm))\n",
        "print(\"Test R2:\", r2_score(y_test_60cm_only, y_test_pred_60cm))\n",
        "print(\"Train RMSE:\", np.sqrt(mean_squared_error(y_train_60cm_only, y_train_pred_60cm)))\n",
        "print(\"Test RMSE:\", np.sqrt(mean_squared_error(y_test_60cm_only, y_test_pred_60cm)))\n",
        "\n",
        "# Model using moisture_60cm + meteorological features\n",
        "et_full_60cm = ExtraTreesRegressor(random_state=42, n_estimators=100)\n",
        "et_full_60cm.fit(X_train_full_60, y_train_full_60)\n",
        "y_train_pred_full_60cm = et_full_60cm.predict(X_train_full_60)\n",
        "y_test_pred_full_60cm = et_full_60cm.predict(X_test_full_60)\n",
        "\n",
        "print(\"\\nExtra Trees - moisture_60cm + meteorological features\")\n",
        "print(\"Train R2:\", r2_score(y_train_full_60, y_train_pred_full_60cm))\n",
        "print(\"Test R2:\", r2_score(y_test_full_60, y_test_pred_full_60cm))\n",
        "print(\"Train RMSE:\", np.sqrt(mean_squared_error(y_train_full_60, y_train_pred_full_60cm)))\n",
        "print(\"Test RMSE:\", np.sqrt(mean_squared_error(y_test_full_60, y_test_pred_full_60cm)))"
      ],
      "metadata": {
        "colab": {
          "base_uri": "https://localhost:8080/"
        },
        "id": "Gza1Pj-Zt2jV",
        "outputId": "fb4745e3-8c17-4c6a-eb4c-58da6c5f2b4d"
      },
      "execution_count": null,
      "outputs": [
        {
          "output_type": "stream",
          "name": "stdout",
          "text": [
            "\n",
            "Extra Trees - moisture_60cm only\n",
            "Train R2: 0.39562751519014383\n",
            "Test R2: 0.39905403027217456\n",
            "Train RMSE: 0.06708813000095479\n",
            "Test RMSE: 0.0668225359723185\n",
            "\n",
            "Extra Trees - moisture_60cm + meteorological features\n",
            "Train R2: 0.999881981206948\n",
            "Test R2: 0.8861033198753994\n",
            "Train RMSE: 0.0009374949328529688\n",
            "Test RMSE: 0.02909114216656217\n"
          ]
        }
      ]
    },
    {
      "cell_type": "code",
      "source": [
        "# Regulated Extra Trees Regressor\n",
        "et_full_60cm_reg = ExtraTreesRegressor(\n",
        "    random_state=42,\n",
        "    n_estimators=150,          # Slightly more trees for stability\n",
        "    max_depth=12\n",
        ")\n",
        "\n",
        "# Fit model\n",
        "et_full_60cm_reg.fit(X_train_full_60, y_train_full_60)\n",
        "\n",
        "# Predict\n",
        "y_train_pred_full_60cm_reg = et_full_60cm_reg.predict(X_train_full_60)\n",
        "y_test_pred_full_60cm_reg = et_full_60cm_reg.predict(X_test_full_60)\n",
        "\n",
        "# Evaluate\n",
        "print(\"\\nExtra Trees (Regulated) - moisture_60cm + meteorological features\")\n",
        "print(\"Train R2:\", r2_score(y_train_full_60, y_train_pred_full_60cm_reg))\n",
        "print(\"Test R2:\", r2_score(y_test_full_60, y_test_pred_full_60cm_reg))\n",
        "print(\"Train RMSE:\", np.sqrt(mean_squared_error(y_train_full_60, y_train_pred_full_60cm_reg)))\n",
        "print(\"Test RMSE:\", np.sqrt(mean_squared_error(y_test_full_60, y_test_pred_full_60cm_reg)))"
      ],
      "metadata": {
        "id": "95d1nvSbDTVa",
        "colab": {
          "base_uri": "https://localhost:8080/"
        },
        "outputId": "5702152c-ed5c-4d48-9518-ed4de59be906"
      },
      "execution_count": null,
      "outputs": [
        {
          "output_type": "stream",
          "name": "stdout",
          "text": [
            "\n",
            "Extra Trees (Regulated) - moisture_60cm + meteorological features\n",
            "Train R2: 0.6718821493182013\n",
            "Test R2: 0.6642291471776653\n",
            "Train RMSE: 0.049432010405944936\n",
            "Test RMSE: 0.04994899298317372\n"
          ]
        }
      ]
    },
    {
      "cell_type": "markdown",
      "metadata": {
        "id": "6phHPmaime6M"
      },
      "source": [
        "#Predicitng Moisture at 20cm"
      ]
    },
    {
      "cell_type": "markdown",
      "metadata": {
        "id": "D3Sz92zCmiF8"
      },
      "source": [
        "##From 10cm depth"
      ]
    },
    {
      "cell_type": "code",
      "execution_count": null,
      "metadata": {
        "id": "Mu5YhUZVnPpi"
      },
      "outputs": [],
      "source": [
        "# Model using only moisture_10cm\n",
        "X_train_10cm_only = train_base[['moisture_10cm']]\n",
        "y_train_10cm_only = train_base['moisture_20cm']\n",
        "X_test_10cm_only = test_base[['moisture_10cm']]\n",
        "y_test_10cm_only = test_base['moisture_20cm']\n",
        "\n",
        "# Full model (with meteorological and moisture_10cm features)\n",
        "features_to_exclude_20 = ['moisture_20cm', 'moisture_30cm', 'moisture_40cm', 'moisture_50cm', 'moisture_60cm', 'timestamp_device']\n",
        "X_train_full_10 = train_base.drop(columns=features_to_exclude_20)\n",
        "y_train_full_10 = train_base['moisture_20cm']\n",
        "X_test_full_10 = test_base.drop(columns=features_to_exclude_20)\n",
        "y_test_full_10 = test_base['moisture_20cm']\n"
      ]
    },
    {
      "cell_type": "code",
      "source": [
        "# Model using moisture_10cm only\n",
        "et_10cm = ExtraTreesRegressor(random_state=42, n_estimators=100)\n",
        "et_10cm.fit(X_train_10cm_only, y_train_10cm_only)\n",
        "y_train_pred_10cm = et_10cm.predict(X_train_10cm_only)\n",
        "y_test_pred_10cm = et_10cm.predict(X_test_10cm_only)\n",
        "\n",
        "print(\"\\nExtra Trees - moisture_10cm only\")\n",
        "print(\"Train R2:\", r2_score(y_train_10cm_only, y_train_pred_10cm))\n",
        "print(\"Test R2:\", r2_score(y_test_10cm_only, y_test_pred_10cm))\n",
        "print(\"Train RMSE:\", np.sqrt(mean_squared_error(y_train_10cm_only, y_train_pred_10cm)))\n",
        "print(\"Test RMSE:\", np.sqrt(mean_squared_error(y_test_10cm_only, y_test_pred_10cm)))\n",
        "\n",
        "# Model using moisture_10cm + meteorological features\n",
        "et_full_10cm = ExtraTreesRegressor(random_state=42, n_estimators=100)\n",
        "et_full_10cm.fit(X_train_full_10, y_train_full_10)\n",
        "y_train_pred_full_10cm = et_full_10cm.predict(X_train_full_10)\n",
        "y_test_pred_full_10cm = et_full_10cm.predict(X_test_full_10)\n",
        "\n",
        "print(\"\\nExtra Trees - moisture_10cm + meteorological features\")\n",
        "print(\"Train R2:\", r2_score(y_train_full_10, y_train_pred_full_10cm))\n",
        "print(\"Test R2:\", r2_score(y_test_full_10, y_test_pred_full_10cm))\n",
        "print(\"Train RMSE:\", np.sqrt(mean_squared_error(y_train_full_10, y_train_pred_full_10cm)))\n",
        "print(\"Test RMSE:\", np.sqrt(mean_squared_error(y_test_full_10, y_test_pred_full_10cm)))"
      ],
      "metadata": {
        "colab": {
          "base_uri": "https://localhost:8080/"
        },
        "id": "OGUgfl6puT7N",
        "outputId": "10f9bf18-0c70-4fd6-869f-06b79752b7bb"
      },
      "execution_count": null,
      "outputs": [
        {
          "output_type": "stream",
          "name": "stdout",
          "text": [
            "\n",
            "Extra Trees - moisture_10cm only\n",
            "Train R2: 0.7999740190979374\n",
            "Test R2: 0.7964980852160346\n",
            "Train RMSE: 0.028191474708287208\n",
            "Test RMSE: 0.028558026514832104\n",
            "\n",
            "Extra Trees - moisture_10cm + meteorological features\n",
            "Train R2: 0.9999679855569004\n",
            "Test R2: 0.9689041698957475\n",
            "Train RMSE: 0.00035665438336357323\n",
            "Test RMSE: 0.011163362305015375\n"
          ]
        }
      ]
    },
    {
      "cell_type": "code",
      "source": [
        "# Regulated Extra Trees Model\n",
        "et_full_10cm_reg = ExtraTreesRegressor(\n",
        "    random_state=42,\n",
        "    n_estimators=150,          # Slightly more trees for better averaging\n",
        "    max_depth=12\n",
        ")\n",
        "\n",
        "# Fit the model\n",
        "et_full_10cm_reg.fit(X_train_full_10, y_train_full_10)\n",
        "\n",
        "# Predictions\n",
        "y_train_pred_full_10cm_reg = et_full_10cm_reg.predict(X_train_full_10)\n",
        "y_test_pred_full_10cm_reg = et_full_10cm_reg.predict(X_test_full_10)\n",
        "\n",
        "# Evaluation\n",
        "print(\"\\nExtra Trees (Regulated) - moisture_10cm + meteorological features\")\n",
        "print(\"Train R2:\", r2_score(y_train_full_10, y_train_pred_full_10cm_reg))\n",
        "print(\"Test R2:\", r2_score(y_test_full_10, y_test_pred_full_10cm_reg))\n",
        "print(\"Train RMSE:\", np.sqrt(mean_squared_error(y_train_full_10, y_train_pred_full_10cm_reg)))\n",
        "print(\"Test RMSE:\", np.sqrt(mean_squared_error(y_test_full_10, y_test_pred_full_10cm_reg)))"
      ],
      "metadata": {
        "id": "ebFxS2eTDepw",
        "colab": {
          "base_uri": "https://localhost:8080/"
        },
        "outputId": "910df9f9-0280-4acb-f94d-ab9726c5ad16"
      },
      "execution_count": null,
      "outputs": [
        {
          "output_type": "stream",
          "name": "stdout",
          "text": [
            "\n",
            "Extra Trees (Regulated) - moisture_10cm + meteorological features\n",
            "Train R2: 0.8787829024748693\n",
            "Test R2: 0.8744791320480519\n",
            "Train RMSE: 0.021946058403581527\n",
            "Test RMSE: 0.022428586764054424\n"
          ]
        }
      ]
    },
    {
      "cell_type": "markdown",
      "metadata": {
        "id": "YW6UGuwUm5b5"
      },
      "source": [
        "##From 30cm depth"
      ]
    },
    {
      "cell_type": "code",
      "execution_count": null,
      "metadata": {
        "id": "iidxcHzoOp4T"
      },
      "outputs": [],
      "source": [
        "# ==== 1. Separate features and targets ====\n",
        "\n",
        "# Model using only moisture_30cm\n",
        "X_train_30cm_only = train_base[['moisture_30cm']]\n",
        "y_train_30cm_only = train_base['moisture_20cm']\n",
        "X_test_30cm_only = test_base[['moisture_30cm']]\n",
        "y_test_30cm_only = test_base['moisture_20cm']\n",
        "\n",
        "# Full model (moisture_30cm + meteorological features)\n",
        "features_to_exclude_20_from_30 = ['moisture_10cm', 'moisture_20cm', 'moisture_40cm', 'moisture_50cm', 'moisture_60cm', 'timestamp_device']\n",
        "X_train_full_30 = train_base.drop(columns=features_to_exclude_20_from_30)\n",
        "y_train_full_30 = train_base['moisture_20cm']\n",
        "X_test_full_30 = test_base.drop(columns=features_to_exclude_20_from_30)\n",
        "y_test_full_30 = test_base['moisture_20cm']\n"
      ]
    },
    {
      "cell_type": "code",
      "source": [
        "# Model using moisture_30cm only\n",
        "et_30cm = ExtraTreesRegressor(random_state=42, n_estimators=100)\n",
        "et_30cm.fit(X_train_30cm_only, y_train_30cm_only)\n",
        "y_train_pred_30cm = et_30cm.predict(X_train_30cm_only)\n",
        "y_test_pred_30cm = et_30cm.predict(X_test_30cm_only)\n",
        "\n",
        "print(\"\\nExtra Trees - moisture_30cm only\")\n",
        "print(\"Train R2:\", r2_score(y_train_30cm_only, y_train_pred_30cm))\n",
        "print(\"Test R2:\", r2_score(y_test_30cm_only, y_test_pred_30cm))\n",
        "print(\"Train RMSE:\", np.sqrt(mean_squared_error(y_train_30cm_only, y_train_pred_30cm)))\n",
        "print(\"Test RMSE:\", np.sqrt(mean_squared_error(y_test_30cm_only, y_test_pred_30cm)))\n",
        "\n",
        "# Model using moisture_30cm + meteorological features\n",
        "et_full_30cm = ExtraTreesRegressor(random_state=42, n_estimators=100)\n",
        "et_full_30cm.fit(X_train_full_30, y_train_full_30)\n",
        "y_train_pred_full_30cm = et_full_30cm.predict(X_train_full_30)\n",
        "y_test_pred_full_30cm = et_full_30cm.predict(X_test_full_30)\n",
        "\n",
        "print(\"\\nExtra Trees - moisture_30cm + meteorological features\")\n",
        "print(\"Train R2:\", r2_score(y_train_full_30, y_train_pred_full_30cm))\n",
        "print(\"Test R2:\", r2_score(y_test_full_30, y_test_pred_full_30cm))\n",
        "print(\"Train RMSE:\", np.sqrt(mean_squared_error(y_train_full_30, y_train_pred_full_30cm)))\n",
        "print(\"Test RMSE:\", np.sqrt(mean_squared_error(y_test_full_30, y_test_pred_full_30cm)))"
      ],
      "metadata": {
        "id": "Vr25OWa3uwSZ",
        "colab": {
          "base_uri": "https://localhost:8080/"
        },
        "outputId": "1f983d78-72c6-42bf-a873-0abe72828d21"
      },
      "execution_count": null,
      "outputs": [
        {
          "output_type": "stream",
          "name": "stdout",
          "text": [
            "\n",
            "Extra Trees - moisture_30cm only\n",
            "Train R2: 0.7551107893281641\n",
            "Test R2: 0.7569383331796649\n",
            "Train RMSE: 0.031193163090367553\n",
            "Test RMSE: 0.03121060436149733\n",
            "\n",
            "Extra Trees - moisture_30cm + meteorological features\n",
            "Train R2: 0.9999389926471678\n",
            "Test R2: 0.9665022326935357\n",
            "Train RMSE: 0.0004923406341082033\n",
            "Test RMSE: 0.011586489521870996\n"
          ]
        }
      ]
    },
    {
      "cell_type": "code",
      "source": [
        "# Regulated Extra Trees model\n",
        "et_full_30cm_reg = ExtraTreesRegressor(\n",
        "    random_state=42,\n",
        "    n_estimators=150,\n",
        "    max_depth=12\n",
        ")\n",
        "\n",
        "# Fit the model\n",
        "et_full_30cm_reg.fit(X_train_full_30, y_train_full_30)\n",
        "\n",
        "# Predict\n",
        "y_train_pred_full_30cm_reg = et_full_30cm_reg.predict(X_train_full_30)\n",
        "y_test_pred_full_30cm_reg = et_full_30cm_reg.predict(X_test_full_30)\n",
        "\n",
        "# Evaluate\n",
        "print(\"\\nExtra Trees (Regulated) - moisture_30cm + meteorological features\")\n",
        "print(\"Train R2:\", r2_score(y_train_full_30, y_train_pred_full_30cm_reg))\n",
        "print(\"Test R2:\", r2_score(y_test_full_30, y_test_pred_full_30cm_reg))\n",
        "print(\"Train RMSE:\", np.sqrt(mean_squared_error(y_train_full_30, y_train_pred_full_30cm_reg)))\n",
        "print(\"Test RMSE:\", np.sqrt(mean_squared_error(y_test_full_30, y_test_pred_full_30cm_reg)))"
      ],
      "metadata": {
        "colab": {
          "base_uri": "https://localhost:8080/"
        },
        "id": "OaoZAxMcDpB8",
        "outputId": "5b41cffe-af03-4ec9-ada1-adc4fec1b858"
      },
      "execution_count": null,
      "outputs": [
        {
          "output_type": "stream",
          "name": "stdout",
          "text": [
            "\n",
            "Extra Trees (Regulated) - moisture_30cm + meteorological features\n",
            "Train R2: 0.885347639482344\n",
            "Test R2: 0.8824918518782079\n",
            "Train RMSE: 0.0213435222173853\n",
            "Test RMSE: 0.02170090938613984\n"
          ]
        }
      ]
    },
    {
      "cell_type": "markdown",
      "metadata": {
        "id": "jx2N1n8vnCKE"
      },
      "source": [
        "##from 40cm depth"
      ]
    },
    {
      "cell_type": "code",
      "execution_count": null,
      "metadata": {
        "id": "HZ3RkZT6P8ba"
      },
      "outputs": [],
      "source": [
        "# ==== 1. Separate features and targets ====\n",
        "\n",
        "# Model using only moisture_40cm\n",
        "X_train_40cm_only = train_base[['moisture_40cm']]\n",
        "y_train_40cm_only = train_base['moisture_20cm']\n",
        "X_test_40cm_only = test_base[['moisture_40cm']]\n",
        "y_test_40cm_only = test_base['moisture_20cm']\n",
        "\n",
        "# Full model (moisture_40cm + meteorological features)\n",
        "features_to_exclude_20_from_40 = ['moisture_10cm', 'moisture_20cm', 'moisture_30cm', 'moisture_50cm', 'moisture_60cm', 'timestamp_device']\n",
        "X_train_full_40 = train_base.drop(columns=features_to_exclude_20_from_40)\n",
        "y_train_full_40 = train_base['moisture_20cm']\n",
        "X_test_full_40 = test_base.drop(columns=features_to_exclude_20_from_40)\n",
        "y_test_full_40 = test_base['moisture_20cm']\n"
      ]
    },
    {
      "cell_type": "code",
      "source": [
        "# Model using moisture_40cm only\n",
        "et_40cm = ExtraTreesRegressor(random_state=42, n_estimators=100)\n",
        "et_40cm.fit(X_train_40cm_only, y_train_40cm_only)\n",
        "y_train_pred_40cm = et_40cm.predict(X_train_40cm_only)\n",
        "y_test_pred_40cm = et_40cm.predict(X_test_40cm_only)\n",
        "\n",
        "print(\"\\nExtra Trees - moisture_40cm only\")\n",
        "print(\"Train R2:\", r2_score(y_train_40cm_only, y_train_pred_40cm))\n",
        "print(\"Test R2:\", r2_score(y_test_40cm_only, y_test_pred_40cm))\n",
        "print(\"Train RMSE:\", np.sqrt(mean_squared_error(y_train_40cm_only, y_train_pred_40cm)))\n",
        "print(\"Test RMSE:\", np.sqrt(mean_squared_error(y_test_40cm_only, y_test_pred_40cm)))\n",
        "\n",
        "# Model using moisture_40cm + meteorological features\n",
        "et_full_40cm = ExtraTreesRegressor(random_state=42, n_estimators=100)\n",
        "et_full_40cm.fit(X_train_full_40, y_train_full_40)\n",
        "y_train_pred_full_40cm = et_full_40cm.predict(X_train_full_40)\n",
        "y_test_pred_full_40cm = et_full_40cm.predict(X_test_full_40)\n",
        "\n",
        "print(\"\\nExtra Trees - moisture_40cm + meteorological features\")\n",
        "print(\"Train R2:\", r2_score(y_train_full_40, y_train_pred_full_40cm))\n",
        "print(\"Test R2:\", r2_score(y_test_full_40, y_test_pred_full_40cm))\n",
        "print(\"Train RMSE:\", np.sqrt(mean_squared_error(y_train_full_40, y_train_pred_full_40cm)))\n",
        "print(\"Test RMSE:\", np.sqrt(mean_squared_error(y_test_full_40, y_test_pred_full_40cm)))"
      ],
      "metadata": {
        "id": "T--XqY2rvkUk",
        "colab": {
          "base_uri": "https://localhost:8080/"
        },
        "outputId": "773b583b-a996-4f01-9065-01b1684b7aa2"
      },
      "execution_count": null,
      "outputs": [
        {
          "output_type": "stream",
          "name": "stdout",
          "text": [
            "\n",
            "Extra Trees - moisture_40cm only\n",
            "Train R2: 0.6971895534699853\n",
            "Test R2: 0.7022056750156898\n",
            "Train RMSE: 0.03468646301464208\n",
            "Test RMSE: 0.03454634860354316\n",
            "\n",
            "Extra Trees - moisture_40cm + meteorological features\n",
            "Train R2: 0.9999590875237251\n",
            "Test R2: 0.9542567676200698\n",
            "Train RMSE: 0.0004031832426771406\n",
            "Test RMSE: 0.01353964780561778\n"
          ]
        }
      ]
    },
    {
      "cell_type": "code",
      "source": [
        "# Regulated Extra Trees model\n",
        "et_full_40cm_reg = ExtraTreesRegressor(\n",
        "    random_state=42,\n",
        "    n_estimators=150,           # More trees for better stability\n",
        "    max_depth=12\n",
        ")\n",
        "\n",
        "# Fit the model\n",
        "et_full_40cm_reg.fit(X_train_full_40, y_train_full_40)\n",
        "\n",
        "# Predict\n",
        "y_train_pred_full_40cm_reg = et_full_40cm_reg.predict(X_train_full_40)\n",
        "y_test_pred_full_40cm_reg = et_full_40cm_reg.predict(X_test_full_40)\n",
        "\n",
        "# Evaluate\n",
        "print(\"\\nExtra Trees (Regulated) - moisture_40cm + meteorological features\")\n",
        "print(\"Train R2:\", r2_score(y_train_full_40, y_train_pred_full_40cm_reg))\n",
        "print(\"Test R2:\", r2_score(y_test_full_40, y_test_pred_full_40cm_reg))\n",
        "print(\"Train RMSE:\", np.sqrt(mean_squared_error(y_train_full_40, y_train_pred_full_40cm_reg)))\n",
        "print(\"Test RMSE:\", np.sqrt(mean_squared_error(y_test_full_40, y_test_pred_full_40cm_reg)))"
      ],
      "metadata": {
        "id": "VwRmb9PaD5Ss",
        "colab": {
          "base_uri": "https://localhost:8080/"
        },
        "outputId": "33778cb2-16ba-4c4e-e70e-9ea57003c207"
      },
      "execution_count": null,
      "outputs": [
        {
          "output_type": "stream",
          "name": "stdout",
          "text": [
            "\n",
            "Extra Trees (Regulated) - moisture_40cm + meteorological features\n",
            "Train R2: 0.8509856097161024\n",
            "Test R2: 0.8486528281747615\n",
            "Train RMSE: 0.024332609994916845\n",
            "Test RMSE: 0.024628110724089918\n"
          ]
        }
      ]
    },
    {
      "cell_type": "markdown",
      "metadata": {
        "id": "5_ETFjjhnENS"
      },
      "source": [
        "##from 50cm depth"
      ]
    },
    {
      "cell_type": "code",
      "execution_count": null,
      "metadata": {
        "id": "vCA-5NtAQX6c"
      },
      "outputs": [],
      "source": [
        "# ==== 1. Separate features and targets ====\n",
        "\n",
        "# Model using only moisture_50cm\n",
        "X_train_50cm_only = train_base[['moisture_50cm']]\n",
        "y_train_50cm_only = train_base['moisture_20cm']\n",
        "X_test_50cm_only = test_base[['moisture_50cm']]\n",
        "y_test_50cm_only = test_base['moisture_20cm']\n",
        "\n",
        "# Full model (moisture_50cm + meteorological features)\n",
        "features_to_exclude_20_from_50 = ['moisture_10cm', 'moisture_20cm', 'moisture_30cm', 'moisture_40cm', 'moisture_60cm', 'timestamp_device']\n",
        "X_train_full_50 = train_base.drop(columns=features_to_exclude_20_from_50)\n",
        "y_train_full_50 = train_base['moisture_20cm']\n",
        "X_test_full_50 = test_base.drop(columns=features_to_exclude_20_from_50)\n",
        "y_test_full_50 = test_base['moisture_20cm']"
      ]
    },
    {
      "cell_type": "code",
      "source": [
        "# Model using moisture_50cm only\n",
        "et_50cm = ExtraTreesRegressor(random_state=42, n_estimators=100)\n",
        "et_50cm.fit(X_train_50cm_only, y_train_50cm_only)\n",
        "y_train_pred_50cm = et_50cm.predict(X_train_50cm_only)\n",
        "y_test_pred_50cm = et_50cm.predict(X_test_50cm_only)\n",
        "\n",
        "print(\"\\nExtra Trees - moisture_50cm only\")\n",
        "print(\"Train R2:\", r2_score(y_train_50cm_only, y_train_pred_50cm))\n",
        "print(\"Test R2:\", r2_score(y_test_50cm_only, y_test_pred_50cm))\n",
        "print(\"Train RMSE:\", np.sqrt(mean_squared_error(y_train_50cm_only, y_train_pred_50cm)))\n",
        "print(\"Test RMSE:\", np.sqrt(mean_squared_error(y_test_50cm_only, y_test_pred_50cm)))\n",
        "\n",
        "# Model using moisture_50cm + meteorological features\n",
        "et_full_50cm = ExtraTreesRegressor(random_state=42, n_estimators=100)\n",
        "et_full_50cm.fit(X_train_full_50, y_train_full_50)\n",
        "y_train_pred_full_50cm = et_full_50cm.predict(X_train_full_50)\n",
        "y_test_pred_full_50cm = et_full_50cm.predict(X_test_full_50)\n",
        "\n",
        "print(\"\\nExtra Trees - moisture_50cm + meteorological features\")\n",
        "print(\"Train R2:\", r2_score(y_train_full_50, y_train_pred_full_50cm))\n",
        "print(\"Test R2:\", r2_score(y_test_full_50, y_test_pred_full_50cm))\n",
        "print(\"Train RMSE:\", np.sqrt(mean_squared_error(y_train_full_50, y_train_pred_full_50cm)))\n",
        "print(\"Test RMSE:\", np.sqrt(mean_squared_error(y_test_full_50, y_test_pred_full_50cm)))"
      ],
      "metadata": {
        "colab": {
          "base_uri": "https://localhost:8080/"
        },
        "id": "JBGTK0eGwm6w",
        "outputId": "b4ec49ac-d8d1-4ea1-8ca5-e1c81381019f"
      },
      "execution_count": null,
      "outputs": [
        {
          "output_type": "stream",
          "name": "stdout",
          "text": [
            "\n",
            "Extra Trees - moisture_50cm only\n",
            "Train R2: 0.6361680053928853\n",
            "Test R2: 0.6407826105109663\n",
            "Train RMSE: 0.03802113120547627\n",
            "Test RMSE: 0.037942209591114454\n",
            "\n",
            "Extra Trees - moisture_50cm + meteorological features\n",
            "Train R2: 0.9998864901222537\n",
            "Test R2: 0.9383188293736991\n",
            "Train RMSE: 0.0006715702022886403\n",
            "Test RMSE: 0.01572245086773362\n"
          ]
        }
      ]
    },
    {
      "cell_type": "code",
      "source": [
        "et_full_50cm_reg = ExtraTreesRegressor(\n",
        "    random_state=42,\n",
        "    n_estimators=150,\n",
        "    max_depth=12\n",
        ")\n",
        "\n",
        "et_full_50cm_reg.fit(X_train_full_50, y_train_full_50)\n",
        "y_train_pred_full_50cm = et_full_50cm_reg.predict(X_train_full_50)\n",
        "y_test_pred_full_50cm = et_full_50cm_reg.predict(X_test_full_50)\n",
        "\n",
        "print(\"\\nExtra Trees (Regulated) - moisture_50cm + meteorological features\")\n",
        "print(\"Train R2:\", r2_score(y_train_full_50, y_train_pred_full_50cm))\n",
        "print(\"Test R2:\", r2_score(y_test_full_50, y_test_pred_full_50cm))\n",
        "print(\"Train RMSE:\", np.sqrt(mean_squared_error(y_train_full_50, y_train_pred_full_50cm)))\n",
        "print(\"Test RMSE:\", np.sqrt(mean_squared_error(y_test_full_50, y_test_pred_full_50cm)))\n"
      ],
      "metadata": {
        "id": "HbFPr6ZMEAUv",
        "colab": {
          "base_uri": "https://localhost:8080/"
        },
        "outputId": "ddb6c54b-c0c8-413a-cfbe-945b07c2438d"
      },
      "execution_count": null,
      "outputs": [
        {
          "output_type": "stream",
          "name": "stdout",
          "text": [
            "\n",
            "Extra Trees (Regulated) - moisture_50cm + meteorological features\n",
            "Train R2: 0.8339829660615562\n",
            "Test R2: 0.8293862231009566\n",
            "Train RMSE: 0.025683305367008396\n",
            "Test RMSE: 0.026148753500634777\n"
          ]
        }
      ]
    },
    {
      "cell_type": "markdown",
      "metadata": {
        "id": "rAKsOlvmnGJV"
      },
      "source": [
        "##from 60cm depth"
      ]
    },
    {
      "cell_type": "code",
      "execution_count": null,
      "metadata": {
        "id": "rp4kLLAJRLv-"
      },
      "outputs": [],
      "source": [
        "# ==== 1. Separate features and targets ====\n",
        "\n",
        "# Model using only moisture_60cm\n",
        "X_train_60cm_only = train_base[['moisture_60cm']]\n",
        "y_train_60cm_only = train_base['moisture_20cm']\n",
        "X_test_60cm_only = test_base[['moisture_60cm']]\n",
        "y_test_60cm_only = test_base['moisture_20cm']\n",
        "\n",
        "# Full model (moisture_60cm + meteorological features)\n",
        "features_to_exclude_20_from_60 = ['moisture_10cm', 'moisture_20cm', 'moisture_30cm', 'moisture_40cm', 'moisture_50cm', 'timestamp_device']\n",
        "X_train_full_60 = train_base.drop(columns=features_to_exclude_20_from_60)\n",
        "y_train_full_60 = train_base['moisture_20cm']\n",
        "X_test_full_60 = test_base.drop(columns=features_to_exclude_20_from_60)\n",
        "y_test_full_60 = test_base['moisture_20cm']"
      ]
    },
    {
      "cell_type": "code",
      "source": [
        "# Model using moisture_60cm only\n",
        "et_60cm = ExtraTreesRegressor(random_state=42, n_estimators=100)\n",
        "et_60cm.fit(X_train_60cm_only, y_train_60cm_only)\n",
        "y_train_pred_60cm = et_60cm.predict(X_train_60cm_only)\n",
        "y_test_pred_60cm = et_60cm.predict(X_test_60cm_only)\n",
        "\n",
        "print(\"\\nExtra Trees - moisture_60cm only\")\n",
        "print(\"Train R2:\", r2_score(y_train_60cm_only, y_train_pred_60cm))\n",
        "print(\"Test R2:\", r2_score(y_test_60cm_only, y_test_pred_60cm))\n",
        "print(\"Train RMSE:\", np.sqrt(mean_squared_error(y_train_60cm_only, y_train_pred_60cm)))\n",
        "print(\"Test RMSE:\", np.sqrt(mean_squared_error(y_test_60cm_only, y_test_pred_60cm)))\n",
        "\n",
        "# Model using moisture_60cm + meteorological features\n",
        "et_full_60cm = ExtraTreesRegressor(random_state=42, n_estimators=100)\n",
        "et_full_60cm.fit(X_train_full_60, y_train_full_60)\n",
        "y_train_pred_full_60cm = et_full_60cm.predict(X_train_full_60)\n",
        "y_test_pred_full_60cm = et_full_60cm.predict(X_test_full_60)\n",
        "\n",
        "print(\"\\nExtra Trees - moisture_60cm + meteorological features\")\n",
        "print(\"Train R2:\", r2_score(y_train_full_60, y_train_pred_full_60cm))\n",
        "print(\"Test R2:\", r2_score(y_test_full_60, y_test_pred_full_60cm))\n",
        "print(\"Train RMSE:\", np.sqrt(mean_squared_error(y_train_full_60, y_train_pred_full_60cm)))\n",
        "print(\"Test RMSE:\", np.sqrt(mean_squared_error(y_test_full_60, y_test_pred_full_60cm)))"
      ],
      "metadata": {
        "colab": {
          "base_uri": "https://localhost:8080/"
        },
        "id": "l9WvAqH7xB5i",
        "outputId": "477a849c-8a6f-4569-bd86-f25b62417fce"
      },
      "execution_count": null,
      "outputs": [
        {
          "output_type": "stream",
          "name": "stdout",
          "text": [
            "\n",
            "Extra Trees - moisture_60cm only\n",
            "Train R2: 0.6227662107011787\n",
            "Test R2: 0.6235738497468035\n",
            "Train RMSE: 0.03871505523803735\n",
            "Test RMSE: 0.03884041267560795\n",
            "\n",
            "Extra Trees - moisture_60cm + meteorological features\n",
            "Train R2: 0.9999385467190461\n",
            "Test R2: 0.9383749392818077\n",
            "Train RMSE: 0.0004941367192575566\n",
            "Test RMSE: 0.01571529806906293\n"
          ]
        }
      ]
    },
    {
      "cell_type": "code",
      "source": [
        "et_full_60cm_reg = ExtraTreesRegressor(\n",
        "    random_state=42,\n",
        "    n_estimators=150,\n",
        "    max_depth=12\n",
        ")\n",
        "\n",
        "et_full_60cm_reg.fit(X_train_full_60, y_train_full_60)\n",
        "y_train_pred_full_60cm = et_full_60cm_reg.predict(X_train_full_60)\n",
        "y_test_pred_full_60cm = et_full_60cm_reg.predict(X_test_full_60)\n",
        "\n",
        "print(\"\\nExtra Trees (Regulated) - moisture_60cm + meteorological features\")\n",
        "print(\"Train R2:\", r2_score(y_train_full_60, y_train_pred_full_60cm))\n",
        "print(\"Test R2:\", r2_score(y_test_full_60, y_test_pred_full_60cm))\n",
        "print(\"Train RMSE:\", np.sqrt(mean_squared_error(y_train_full_60, y_train_pred_full_60cm)))\n",
        "print(\"Test RMSE:\", np.sqrt(mean_squared_error(y_test_full_60, y_test_pred_full_60cm)))\n"
      ],
      "metadata": {
        "id": "RSp_zbrvENJ0",
        "colab": {
          "base_uri": "https://localhost:8080/"
        },
        "outputId": "184bd053-aed1-42fb-b137-d7cdff3faa47"
      },
      "execution_count": null,
      "outputs": [
        {
          "output_type": "stream",
          "name": "stdout",
          "text": [
            "\n",
            "Extra Trees (Regulated) - moisture_60cm + meteorological features\n",
            "Train R2: 0.8183667097631481\n",
            "Test R2: 0.8124911533457926\n",
            "Train RMSE: 0.02686410122662278\n",
            "Test RMSE: 0.027412890025019274\n"
          ]
        }
      ]
    },
    {
      "cell_type": "markdown",
      "metadata": {
        "id": "XKF5H_GLpAOY"
      },
      "source": [
        "#Predicitng moisture at 30cm depth"
      ]
    },
    {
      "cell_type": "markdown",
      "metadata": {
        "id": "pi7NmLexpDTm"
      },
      "source": [
        "##from 10cm"
      ]
    },
    {
      "cell_type": "code",
      "execution_count": null,
      "metadata": {
        "id": "IHNnnfZPRlkS"
      },
      "outputs": [],
      "source": [
        "# ==== 1. Separate features and targets ====\n",
        "\n",
        "# Model using only moisture_10cm\n",
        "X_train_10cm_only = train_base[['moisture_10cm']]\n",
        "y_train_10cm_only = train_base['moisture_30cm']\n",
        "X_test_10cm_only = test_base[['moisture_10cm']]\n",
        "y_test_10cm_only = test_base['moisture_30cm']\n",
        "\n",
        "# Full model (moisture_10cm + meteorological features)\n",
        "features_to_exclude_30_from_10 = ['moisture_20cm', 'moisture_30cm', 'moisture_40cm', 'moisture_50cm', 'moisture_60cm', 'timestamp_device']\n",
        "X_train_full_10 = train_base.drop(columns=features_to_exclude_30_from_10)\n",
        "y_train_full_10 = train_base['moisture_30cm']\n",
        "X_test_full_10 = test_base.drop(columns=features_to_exclude_30_from_10)\n",
        "y_test_full_10 = test_base['moisture_30cm']\n"
      ]
    },
    {
      "cell_type": "code",
      "source": [
        "# Model using moisture_10cm only\n",
        "et_10cm = ExtraTreesRegressor(random_state=42, n_estimators=100)\n",
        "et_10cm.fit(X_train_10cm_only, y_train_10cm_only)\n",
        "y_train_pred_10cm = et_10cm.predict(X_train_10cm_only)\n",
        "y_test_pred_10cm = et_10cm.predict(X_test_10cm_only)\n",
        "\n",
        "print(\"\\nExtra Trees - moisture_10cm only\")\n",
        "print(\"Train R2:\", r2_score(y_train_10cm_only, y_train_pred_10cm))\n",
        "print(\"Test R2:\", r2_score(y_test_10cm_only, y_test_pred_10cm))\n",
        "print(\"Train RMSE:\", np.sqrt(mean_squared_error(y_train_10cm_only, y_train_pred_10cm)))\n",
        "print(\"Test RMSE:\", np.sqrt(mean_squared_error(y_test_10cm_only, y_test_pred_10cm)))\n",
        "\n",
        "# Model using moisture_10cm + meteorological features\n",
        "et_full_10cm = ExtraTreesRegressor(random_state=42, n_estimators=100)\n",
        "et_full_10cm.fit(X_train_full_10, y_train_full_10)\n",
        "y_train_pred_full_10cm = et_full_10cm.predict(X_train_full_10)\n",
        "y_test_pred_full_10cm = et_full_10cm.predict(X_test_full_10)\n",
        "\n",
        "print(\"\\nExtra Trees - moisture_10cm + meteorological features\")\n",
        "print(\"Train R2:\", r2_score(y_train_full_10, y_train_pred_full_10cm))\n",
        "print(\"Test R2:\", r2_score(y_test_full_10, y_test_pred_full_10cm))\n",
        "print(\"Train RMSE:\", np.sqrt(mean_squared_error(y_train_full_10, y_train_pred_full_10cm)))\n",
        "print(\"Test RMSE:\", np.sqrt(mean_squared_error(y_test_full_10, y_test_pred_full_10cm)))"
      ],
      "metadata": {
        "colab": {
          "base_uri": "https://localhost:8080/"
        },
        "id": "d5JKMwRi0iLr",
        "outputId": "b0ea7ef5-ecdb-4d23-99ee-6e102c15236c"
      },
      "execution_count": null,
      "outputs": [
        {
          "output_type": "stream",
          "name": "stdout",
          "text": [
            "\n",
            "Extra Trees - moisture_10cm only\n",
            "Train R2: 0.6546657276722694\n",
            "Test R2: 0.6499254579861689\n",
            "Train RMSE: 0.027258618620886636\n",
            "Test RMSE: 0.0276442632788375\n",
            "\n",
            "Extra Trees - moisture_10cm + meteorological features\n",
            "Train R2: 0.9999846102411517\n",
            "Test R2: 0.9572778453964594\n",
            "Train RMSE: 0.00018197004812904854\n",
            "Test RMSE: 0.009657202306976236\n"
          ]
        }
      ]
    },
    {
      "cell_type": "code",
      "source": [
        "et_full_10cm_reg = ExtraTreesRegressor(\n",
        "    random_state=42,\n",
        "    n_estimators=150,\n",
        "    max_depth=12\n",
        ")\n",
        "\n",
        "et_full_10cm_reg.fit(X_train_full_10, y_train_full_10)\n",
        "y_train_pred_full_10cm = et_full_10cm_reg.predict(X_train_full_10)\n",
        "y_test_pred_full_10cm = et_full_10cm_reg.predict(X_test_full_10)\n",
        "\n",
        "print(\"\\nExtra Trees (Regulated) - moisture_10cm + meteorological features\")\n",
        "print(\"Train R2:\", r2_score(y_train_full_10, y_train_pred_full_10cm))\n",
        "print(\"Test R2:\", r2_score(y_test_full_10, y_test_pred_full_10cm))\n",
        "print(\"Train RMSE:\", np.sqrt(mean_squared_error(y_train_full_10, y_train_pred_full_10cm)))\n",
        "print(\"Test RMSE:\", np.sqrt(mean_squared_error(y_test_full_10, y_test_pred_full_10cm)))\n"
      ],
      "metadata": {
        "colab": {
          "base_uri": "https://localhost:8080/"
        },
        "id": "vBCRuZpmEWPo",
        "outputId": "a62efb01-0c95-45df-98d3-e3a1b8eaf280"
      },
      "execution_count": null,
      "outputs": [
        {
          "output_type": "stream",
          "name": "stdout",
          "text": [
            "\n",
            "Extra Trees (Regulated) - moisture_10cm + meteorological features\n",
            "Train R2: 0.8127126803241542\n",
            "Test R2: 0.8045533488217579\n",
            "Train RMSE: 0.02007419736914141\n",
            "Test RMSE: 0.020655650308934945\n"
          ]
        }
      ]
    },
    {
      "cell_type": "markdown",
      "metadata": {
        "id": "qe_s2-UVpE9J"
      },
      "source": [
        "##From 20cm"
      ]
    },
    {
      "cell_type": "code",
      "execution_count": null,
      "metadata": {
        "id": "mhFio2QyRwjB"
      },
      "outputs": [],
      "source": [
        "# ==== 1. Separate features and targets ====\n",
        "\n",
        "# Model using only moisture_20cm\n",
        "X_train_20cm_only = train_base[['moisture_20cm']]\n",
        "y_train_20cm_only = train_base['moisture_30cm']\n",
        "X_test_20cm_only = test_base[['moisture_20cm']]\n",
        "y_test_20cm_only = test_base['moisture_30cm']\n",
        "\n",
        "# Full model (moisture_20cm + meteorological features)\n",
        "features_to_exclude_30_from_20 = ['moisture_10cm', 'moisture_30cm', 'moisture_40cm', 'moisture_50cm', 'moisture_60cm', 'timestamp_device']\n",
        "X_train_full_20 = train_base.drop(columns=features_to_exclude_30_from_20)\n",
        "y_train_full_20 = train_base['moisture_30cm']\n",
        "X_test_full_20 = test_base.drop(columns=features_to_exclude_30_from_20)\n",
        "y_test_full_20 = test_base['moisture_30cm']\n"
      ]
    },
    {
      "cell_type": "code",
      "source": [
        "# Model using moisture_20cm only\n",
        "et_20cm = ExtraTreesRegressor(random_state=42, n_estimators=100)\n",
        "et_20cm.fit(X_train_20cm_only, y_train_20cm_only)\n",
        "y_train_pred_20cm = et_20cm.predict(X_train_20cm_only)\n",
        "y_test_pred_20cm = et_20cm.predict(X_test_20cm_only)\n",
        "\n",
        "print(\"\\nExtra Trees - moisture_20cm only\")\n",
        "print(\"Train R2:\", r2_score(y_train_20cm_only, y_train_pred_20cm))\n",
        "print(\"Test R2:\", r2_score(y_test_20cm_only, y_test_pred_20cm))\n",
        "print(\"Train RMSE:\", np.sqrt(mean_squared_error(y_train_20cm_only, y_train_pred_20cm)))\n",
        "print(\"Test RMSE:\", np.sqrt(mean_squared_error(y_test_20cm_only, y_test_pred_20cm)))\n",
        "\n",
        "# Model using moisture_20cm + meteorological features\n",
        "et_full_20cm = ExtraTreesRegressor(random_state=42, n_estimators=100)\n",
        "et_full_20cm.fit(X_train_full_20, y_train_full_20)\n",
        "y_train_pred_full_20cm = et_full_20cm.predict(X_train_full_20)\n",
        "y_test_pred_full_20cm = et_full_20cm.predict(X_test_full_20)\n",
        "\n",
        "print(\"\\nExtra Trees - moisture_20cm + meteorological features\")\n",
        "print(\"Train R2:\", r2_score(y_train_full_20, y_train_pred_full_20cm))\n",
        "print(\"Test R2:\", r2_score(y_test_full_20, y_test_pred_full_20cm))\n",
        "print(\"Train RMSE:\", np.sqrt(mean_squared_error(y_train_full_20, y_train_pred_full_20cm)))\n",
        "print(\"Test RMSE:\", np.sqrt(mean_squared_error(y_test_full_20, y_test_pred_full_20cm)))"
      ],
      "metadata": {
        "colab": {
          "base_uri": "https://localhost:8080/"
        },
        "id": "8gqjZABj1Pnx",
        "outputId": "646c1195-b1b8-450a-d17b-6929fdf813e5"
      },
      "execution_count": null,
      "outputs": [
        {
          "output_type": "stream",
          "name": "stdout",
          "text": [
            "\n",
            "Extra Trees - moisture_20cm only\n",
            "Train R2: 0.8248410695010863\n",
            "Test R2: 0.8255076780675902\n",
            "Train RMSE: 0.01941333482734624\n",
            "Test RMSE: 0.01951699346354022\n",
            "\n",
            "Extra Trees - moisture_20cm + meteorological features\n",
            "Train R2: 0.9999972230885249\n",
            "Test R2: 0.9851784187059689\n",
            "Train RMSE: 7.729742386632724e-05\n",
            "Test RMSE: 0.005688162907690484\n"
          ]
        }
      ]
    },
    {
      "cell_type": "code",
      "source": [
        "et_full_20cm_reg = ExtraTreesRegressor(\n",
        "    random_state=42,\n",
        "    n_estimators=150,\n",
        "    max_depth=12\n",
        ")\n",
        "\n",
        "et_full_20cm_reg.fit(X_train_full_20, y_train_full_20)\n",
        "y_train_pred_full_20cm = et_full_20cm_reg.predict(X_train_full_20)\n",
        "y_test_pred_full_20cm = et_full_20cm_reg.predict(X_test_full_20)\n",
        "\n",
        "print(\"\\nExtra Trees (Regulated) - moisture_20cm + meteorological features\")\n",
        "print(\"Train R2:\", r2_score(y_train_full_20, y_train_pred_full_20cm))\n",
        "print(\"Test R2:\", r2_score(y_test_full_20, y_test_pred_full_20cm))\n",
        "print(\"Train RMSE:\", np.sqrt(mean_squared_error(y_train_full_20, y_train_pred_full_20cm)))\n",
        "print(\"Test RMSE:\", np.sqrt(mean_squared_error(y_test_full_20, y_test_pred_full_20cm)))\n"
      ],
      "metadata": {
        "colab": {
          "base_uri": "https://localhost:8080/"
        },
        "id": "SztzMDFzEjJH",
        "outputId": "9e5f1421-844c-4cef-de7d-a72e808d2f07"
      },
      "execution_count": null,
      "outputs": [
        {
          "output_type": "stream",
          "name": "stdout",
          "text": [
            "\n",
            "Extra Trees (Regulated) - moisture_20cm + meteorological features\n",
            "Train R2: 0.9264640140410942\n",
            "Test R2: 0.9253553348796492\n",
            "Train RMSE: 0.01257864795560779\n",
            "Test RMSE: 0.012765097690920092\n"
          ]
        }
      ]
    },
    {
      "cell_type": "markdown",
      "metadata": {
        "id": "7F2PZDjtpMat"
      },
      "source": [
        "##from 40cm"
      ]
    },
    {
      "cell_type": "code",
      "execution_count": null,
      "metadata": {
        "id": "4eFtIpu_SjjJ"
      },
      "outputs": [],
      "source": [
        "# ==== 1. Separate features and targets ====\n",
        "\n",
        "# Model using only moisture_40cm\n",
        "X_train_40cm_only = train_base[['moisture_40cm']]\n",
        "y_train_40cm_only = train_base['moisture_30cm']\n",
        "X_test_40cm_only = test_base[['moisture_40cm']]\n",
        "y_test_40cm_only = test_base['moisture_30cm']\n",
        "\n",
        "# Full model (moisture_40cm + meteorological features)\n",
        "features_to_exclude_30_from_40 = ['moisture_10cm', 'moisture_20cm', 'moisture_30cm', 'moisture_50cm', 'moisture_60cm', 'timestamp_device']\n",
        "X_train_full_40 = train_base.drop(columns=features_to_exclude_30_from_40)\n",
        "y_train_full_40 = train_base['moisture_30cm']\n",
        "X_test_full_40 = test_base.drop(columns=features_to_exclude_30_from_40)\n",
        "y_test_full_40 = test_base['moisture_30cm']"
      ]
    },
    {
      "cell_type": "code",
      "source": [
        "# Model using moisture_40cm only\n",
        "et_40cm = ExtraTreesRegressor(random_state=42, n_estimators=100)\n",
        "et_40cm.fit(X_train_40cm_only, y_train_40cm_only)\n",
        "y_train_pred_40cm = et_40cm.predict(X_train_40cm_only)\n",
        "y_test_pred_40cm = et_40cm.predict(X_test_40cm_only)\n",
        "\n",
        "print(\"\\nExtra Trees - moisture_40cm only\")\n",
        "print(\"Train R2:\", r2_score(y_train_40cm_only, y_train_pred_40cm))\n",
        "print(\"Test R2:\", r2_score(y_test_40cm_only, y_test_pred_40cm))\n",
        "print(\"Train RMSE:\", np.sqrt(mean_squared_error(y_train_40cm_only, y_train_pred_40cm)))\n",
        "print(\"Test RMSE:\", np.sqrt(mean_squared_error(y_test_40cm_only, y_test_pred_40cm)))\n",
        "\n",
        "# Model using moisture_40cm + meteorological features\n",
        "et_full_40 = ExtraTreesRegressor(random_state=42, n_estimators=100)\n",
        "et_full_40.fit(X_train_full_40, y_train_full_40)\n",
        "y_train_pred_full_40 = et_full_40.predict(X_train_full_40)\n",
        "y_test_pred_full_40 = et_full_40.predict(X_test_full_40)\n",
        "\n",
        "print(\"\\nExtra Trees - moisture_40cm + meteorological features\")\n",
        "print(\"Train R2:\", r2_score(y_train_full_40, y_train_pred_full_40))\n",
        "print(\"Test R2:\", r2_score(y_test_full_40, y_test_pred_full_40))\n",
        "print(\"Train RMSE:\", np.sqrt(mean_squared_error(y_train_full_40, y_train_pred_full_40)))\n",
        "print(\"Test RMSE:\", np.sqrt(mean_squared_error(y_test_full_40, y_test_pred_full_40)))"
      ],
      "metadata": {
        "colab": {
          "base_uri": "https://localhost:8080/"
        },
        "id": "5XOH19WQ1dWX",
        "outputId": "ca6b2199-da69-4701-f6c1-557a7dadbd07"
      },
      "execution_count": null,
      "outputs": [
        {
          "output_type": "stream",
          "name": "stdout",
          "text": [
            "\n",
            "Extra Trees - moisture_40cm only\n",
            "Train R2: 0.7427129479088999\n",
            "Test R2: 0.7429090126664543\n",
            "Train RMSE: 0.01890278816402051\n",
            "Test RMSE: 0.018841582431613223\n",
            "\n",
            "Extra Trees - moisture_40cm + meteorological features\n",
            "Train R2: 0.9999719345020304\n",
            "Test R2: 0.9658106895115129\n",
            "Train RMSE: 0.00019742551432044776\n",
            "Test RMSE: 0.006870986887925795\n"
          ]
        }
      ]
    },
    {
      "cell_type": "code",
      "source": [
        "et_full_40_reg = ExtraTreesRegressor(\n",
        "    random_state=42,\n",
        "    n_estimators=150,\n",
        "    max_depth=12\n",
        ")\n",
        "\n",
        "et_full_40_reg.fit(X_train_full_40, y_train_full_40)\n",
        "y_train_pred_full_40 = et_full_40_reg.predict(X_train_full_40)\n",
        "y_test_pred_full_40 = et_full_40_reg.predict(X_test_full_40)\n",
        "\n",
        "print(\"\\nExtra Trees (Regulated) - moisture_40cm + meteorological features\")\n",
        "print(\"Train R2:\", r2_score(y_train_full_40, y_train_pred_full_40))\n",
        "print(\"Test R2:\", r2_score(y_test_full_40, y_test_pred_full_40))\n",
        "print(\"Train RMSE:\", np.sqrt(mean_squared_error(y_train_full_40, y_train_pred_full_40)))\n",
        "print(\"Test RMSE:\", np.sqrt(mean_squared_error(y_test_full_40, y_test_pred_full_40)))"
      ],
      "metadata": {
        "colab": {
          "base_uri": "https://localhost:8080/"
        },
        "id": "ntLX0qEPEonD",
        "outputId": "bd2363e3-8c97-4bd7-f21f-8a8c877b84b2"
      },
      "execution_count": null,
      "outputs": [
        {
          "output_type": "stream",
          "name": "stdout",
          "text": [
            "\n",
            "Extra Trees (Regulated) - moisture_40cm + meteorological features\n",
            "Train R2: 0.9613044577459486\n",
            "Test R2: 0.9604089990667221\n",
            "Train RMSE: 0.009124613361523237\n",
            "Test RMSE: 0.009296575413460687\n"
          ]
        }
      ]
    },
    {
      "cell_type": "markdown",
      "metadata": {
        "id": "OENcztHWpPIb"
      },
      "source": [
        "##From 50cm"
      ]
    },
    {
      "cell_type": "code",
      "execution_count": null,
      "metadata": {
        "id": "78Ltrk4STvyf"
      },
      "outputs": [],
      "source": [
        "# ==== 1. Separate features and targets ====\n",
        "\n",
        "# Model using only moisture_50cm\n",
        "X_train_50cm_only = train_base[['moisture_50cm']]\n",
        "y_train_50cm_only = train_base['moisture_30cm']\n",
        "X_test_50cm_only = test_base[['moisture_50cm']]\n",
        "y_test_50cm_only = test_base['moisture_30cm']\n",
        "\n",
        "# Full model (moisture_50cm + meteorological features)\n",
        "features_to_exclude_30_from_50 = ['moisture_10cm', 'moisture_20cm', 'moisture_30cm', 'moisture_40cm', 'moisture_60cm', 'timestamp_device']\n",
        "X_train_full_50 = train_base.drop(columns=features_to_exclude_30_from_50)\n",
        "y_train_full_50 = train_base['moisture_30cm']\n",
        "X_test_full_50 = test_base.drop(columns=features_to_exclude_30_from_50)\n",
        "y_test_full_50 = test_base['moisture_30cm']"
      ]
    },
    {
      "cell_type": "code",
      "source": [
        "# Model using moisture_50cm only\n",
        "et_50cm = ExtraTreesRegressor(random_state=42, n_estimators=100)\n",
        "et_50cm.fit(X_train_50cm_only, y_train_50cm_only)\n",
        "y_train_pred_50cm = et_50cm.predict(X_train_50cm_only)\n",
        "y_test_pred_50cm = et_50cm.predict(X_test_50cm_only)\n",
        "\n",
        "print(\"\\nExtra Trees - moisture_50cm only\")\n",
        "print(\"Train R2:\", r2_score(y_train_50cm_only, y_train_pred_50cm))\n",
        "print(\"Test R2:\", r2_score(y_test_50cm_only, y_test_pred_50cm))\n",
        "print(\"Train RMSE:\", np.sqrt(mean_squared_error(y_train_50cm_only, y_train_pred_50cm)))\n",
        "print(\"Test RMSE:\", np.sqrt(mean_squared_error(y_test_50cm_only, y_test_pred_50cm)))\n",
        "\n",
        "# Model using moisture_50cm + meteorological features\n",
        "et_full_50 = ExtraTreesRegressor(random_state=42, n_estimators=100)\n",
        "et_full_50.fit(X_train_full_50, y_train_full_50)\n",
        "y_train_pred_full_50 = et_full_50.predict(X_train_full_50)\n",
        "y_test_pred_full_50 = et_full_50.predict(X_test_full_50)\n",
        "\n",
        "print(\"\\nExtra Trees - moisture_50cm + meteorological features\")\n",
        "print(\"Train R2:\", r2_score(y_train_full_50, y_train_pred_full_50))\n",
        "print(\"Test R2:\", r2_score(y_test_full_50, y_test_pred_full_50))\n",
        "print(\"Train RMSE:\", np.sqrt(mean_squared_error(y_train_full_50, y_train_pred_full_50)))\n",
        "print(\"Test RMSE:\", np.sqrt(mean_squared_error(y_test_full_50, y_test_pred_full_50)))"
      ],
      "metadata": {
        "colab": {
          "base_uri": "https://localhost:8080/"
        },
        "id": "nrBs7rTa15xS",
        "outputId": "a3da76bc-ae2e-4f80-9e16-9b2dabe83fbe"
      },
      "execution_count": null,
      "outputs": [
        {
          "output_type": "stream",
          "name": "stdout",
          "text": [
            "\n",
            "Extra Trees - moisture_50cm only\n",
            "Train R2: 0.7653293672393644\n",
            "Test R2: 0.7621181802778315\n",
            "Train RMSE: 0.018052870802309193\n",
            "Test RMSE: 0.01812402174885098\n",
            "\n",
            "Extra Trees - moisture_50cm + meteorological features\n",
            "Train R2: 0.9998783437620671\n",
            "Test R2: 0.9549632570222923\n",
            "Train RMSE: 0.0004110400058094687\n",
            "Test RMSE: 0.007886012047325537\n"
          ]
        }
      ]
    },
    {
      "cell_type": "code",
      "source": [
        "# Regulated Extra Trees model\n",
        "et_full_50_reg = ExtraTreesRegressor(\n",
        "    random_state=42,\n",
        "    n_estimators=150,\n",
        "    max_depth=12\n",
        ")\n",
        "\n",
        "# Train and predict\n",
        "et_full_50_reg.fit(X_train_full_50, y_train_full_50)\n",
        "y_train_pred_full_50 = et_full_50_reg.predict(X_train_full_50)\n",
        "y_test_pred_full_50 = et_full_50_reg.predict(X_test_full_50)\n",
        "\n",
        "# Evaluation\n",
        "print(\"\\nExtra Trees (Regulated) - moisture_50cm + meteorological features\")\n",
        "print(\"Train R2:\", r2_score(y_train_full_50, y_train_pred_full_50))\n",
        "print(\"Test R2:\", r2_score(y_test_full_50, y_test_pred_full_50))\n",
        "print(\"Train RMSE:\", np.sqrt(mean_squared_error(y_train_full_50, y_train_pred_full_50)))\n",
        "print(\"Test RMSE:\", np.sqrt(mean_squared_error(y_test_full_50, y_test_pred_full_50)))\n"
      ],
      "metadata": {
        "colab": {
          "base_uri": "https://localhost:8080/"
        },
        "id": "BeW0YD-JE0bM",
        "outputId": "7c6f4f5a-c4b3-4ba1-e802-e06f7b4a3b81"
      },
      "execution_count": null,
      "outputs": [
        {
          "output_type": "stream",
          "name": "stdout",
          "text": [
            "\n",
            "Extra Trees (Regulated) - moisture_50cm + meteorological features\n",
            "Train R2: 0.9290561255815332\n",
            "Test R2: 0.9294135392946806\n",
            "Train RMSE: 0.01235496313703177\n",
            "Test RMSE: 0.012413248768427984\n"
          ]
        }
      ]
    },
    {
      "cell_type": "markdown",
      "metadata": {
        "id": "J6A9gJGKpQrJ"
      },
      "source": [
        "##FRom 60cm"
      ]
    },
    {
      "cell_type": "code",
      "execution_count": null,
      "metadata": {
        "id": "oq__hqqGValJ"
      },
      "outputs": [],
      "source": [
        "# ==== 1. Separate features and targets for predicting 30 from 60 ====\n",
        "\n",
        "# Model using only moisture_60cm\n",
        "X_train_60cm_only = train_base[['moisture_60cm']]\n",
        "y_train_60cm_only = train_base['moisture_30cm']\n",
        "X_test_60cm_only = test_base[['moisture_60cm']]\n",
        "y_test_60cm_only = test_base['moisture_30cm']\n",
        "\n",
        "# Full model (moisture_60cm + meteorological features)\n",
        "features_to_exclude_30_from_60 = ['moisture_10cm', 'moisture_20cm', 'moisture_30cm', 'moisture_40cm', 'moisture_50cm', 'timestamp_device']\n",
        "X_train_full_60 = train_base.drop(columns=features_to_exclude_30_from_60)\n",
        "y_train_full_60 = train_base['moisture_30cm']\n",
        "X_test_full_60 = test_base.drop(columns=features_to_exclude_30_from_60)\n",
        "y_test_full_60 = test_base['moisture_30cm']\n"
      ]
    },
    {
      "cell_type": "code",
      "source": [
        "# Model using only moisture_60cm\n",
        "et_60cm = ExtraTreesRegressor(random_state=42, n_estimators=100)\n",
        "et_60cm.fit(X_train_60cm_only, y_train_60cm_only)\n",
        "y_train_pred_60cm = et_60cm.predict(X_train_60cm_only)\n",
        "y_test_pred_60cm = et_60cm.predict(X_test_60cm_only)\n",
        "\n",
        "print(\"\\nExtra Trees - moisture_60cm only\")\n",
        "print(\"Train R2:\", r2_score(y_train_60cm_only, y_train_pred_60cm))\n",
        "print(\"Test R2:\", r2_score(y_test_60cm_only, y_test_pred_60cm))\n",
        "print(\"Train RMSE:\", np.sqrt(mean_squared_error(y_train_60cm_only, y_train_pred_60cm)))\n",
        "print(\"Test RMSE:\", np.sqrt(mean_squared_error(y_test_60cm_only, y_test_pred_60cm)))\n",
        "\n",
        "# Model using moisture_60cm + meteorological features\n",
        "et_full_60 = ExtraTreesRegressor(random_state=42, n_estimators=100)\n",
        "et_full_60.fit(X_train_full_60, y_train_full_60)\n",
        "y_train_pred_full_60 = et_full_60.predict(X_train_full_60)\n",
        "y_test_pred_full_60 = et_full_60.predict(X_test_full_60)\n",
        "\n",
        "print(\"\\nExtra Trees - moisture_60cm + meteorological features\")\n",
        "print(\"Train R2:\", r2_score(y_train_full_60, y_train_pred_full_60))\n",
        "print(\"Test R2:\", r2_score(y_test_full_60, y_test_pred_full_60))\n",
        "print(\"Train RMSE:\", np.sqrt(mean_squared_error(y_train_full_60, y_train_pred_full_60)))\n",
        "print(\"Test RMSE:\", np.sqrt(mean_squared_error(y_test_full_60, y_test_pred_full_60)))"
      ],
      "metadata": {
        "colab": {
          "base_uri": "https://localhost:8080/"
        },
        "id": "JaEXQOEV2Ejy",
        "outputId": "a9245b00-dc87-46b0-b400-8c09521bb2d7"
      },
      "execution_count": null,
      "outputs": [
        {
          "output_type": "stream",
          "name": "stdout",
          "text": [
            "\n",
            "Extra Trees - moisture_60cm only\n",
            "Train R2: 0.6532266046468012\n",
            "Test R2: 0.6493361686717392\n",
            "Train RMSE: 0.02194521233429505\n",
            "Test RMSE: 0.022004901831087248\n",
            "\n",
            "Extra Trees - moisture_60cm + meteorological features\n",
            "Train R2: 0.9998320183128369\n",
            "Test R2: 0.9391084991557853\n",
            "Train RMSE: 0.0004830008236472831\n",
            "Test RMSE: 0.009169640049204652\n"
          ]
        }
      ]
    },
    {
      "cell_type": "code",
      "source": [
        "# Regulated Extra Trees model\n",
        "et_full_60_reg = ExtraTreesRegressor(\n",
        "    random_state=42,\n",
        "    n_estimators=150,\n",
        "    max_depth=12\n",
        ")\n",
        "\n",
        "# Fit the model\n",
        "et_full_60_reg.fit(X_train_full_60, y_train_full_60)\n",
        "\n",
        "# Predictions\n",
        "y_train_pred_full_60 = et_full_60_reg.predict(X_train_full_60)\n",
        "y_test_pred_full_60 = et_full_60_reg.predict(X_test_full_60)\n",
        "\n",
        "# Performance metrics\n",
        "print(\"\\nExtra Trees (Regulated) - moisture_60cm + meteorological features\")\n",
        "print(\"Train R2:\", r2_score(y_train_full_60, y_train_pred_full_60))\n",
        "print(\"Test R2:\", r2_score(y_test_full_60, y_test_pred_full_60))\n",
        "print(\"Train RMSE:\", np.sqrt(mean_squared_error(y_train_full_60, y_train_pred_full_60)))\n",
        "print(\"Test RMSE:\", np.sqrt(mean_squared_error(y_test_full_60, y_test_pred_full_60)))"
      ],
      "metadata": {
        "colab": {
          "base_uri": "https://localhost:8080/"
        },
        "id": "KqBAP0T-FA6v",
        "outputId": "e40a19c9-d027-42d4-d41e-056f7dd9ef45"
      },
      "execution_count": null,
      "outputs": [
        {
          "output_type": "stream",
          "name": "stdout",
          "text": [
            "\n",
            "Extra Trees (Regulated) - moisture_60cm + meteorological features\n",
            "Train R2: 0.8868385203011128\n",
            "Test R2: 0.8868705570444121\n",
            "Train RMSE: 0.015603905498709991\n",
            "Test RMSE: 0.015714934678255743\n"
          ]
        }
      ]
    },
    {
      "cell_type": "markdown",
      "metadata": {
        "id": "M7AWsD28q0Ko"
      },
      "source": [
        "##Predicting moisture at 40cm depth"
      ]
    },
    {
      "cell_type": "markdown",
      "metadata": {
        "id": "aHB23pp7rD6n"
      },
      "source": [
        "##from 10cm"
      ]
    },
    {
      "cell_type": "code",
      "execution_count": null,
      "metadata": {
        "id": "WvuSksuAaprk"
      },
      "outputs": [],
      "source": [
        "# ==== 1. Separate features and targets ====\n",
        "\n",
        "# Model using only moisture_10cm\n",
        "X_train_10cm_only = train_base[['moisture_10cm']]\n",
        "y_train_10cm_only = train_base['moisture_40cm']\n",
        "X_test_10cm_only = test_base[['moisture_10cm']]\n",
        "y_test_10cm_only = test_base['moisture_40cm']\n",
        "\n",
        "# Full model (moisture_10cm + meteorological features)\n",
        "features_to_exclude_40_from_10 = ['moisture_20cm', 'moisture_30cm', 'moisture_40cm', 'moisture_50cm', 'moisture_60cm', 'timestamp_device']\n",
        "X_train_full_10 = train_base.drop(columns=features_to_exclude_40_from_10)\n",
        "y_train_full_10 = train_base['moisture_40cm']\n",
        "X_test_full_10 = test_base.drop(columns=features_to_exclude_40_from_10)\n",
        "y_test_full_10 = test_base['moisture_40cm']"
      ]
    },
    {
      "cell_type": "code",
      "source": [
        "# Model using only moisture_10cm\n",
        "et_10cm = ExtraTreesRegressor(random_state=42, n_estimators=100)\n",
        "et_10cm.fit(X_train_10cm_only, y_train_10cm_only)\n",
        "y_train_pred_10cm = et_10cm.predict(X_train_10cm_only)\n",
        "y_test_pred_10cm = et_10cm.predict(X_test_10cm_only)\n",
        "\n",
        "print(\"\\nExtra Trees - moisture_10cm only\")\n",
        "print(\"Train R2:\", r2_score(y_train_10cm_only, y_train_pred_10cm))\n",
        "print(\"Test R2:\", r2_score(y_test_10cm_only, y_test_pred_10cm))\n",
        "print(\"Train RMSE:\", np.sqrt(mean_squared_error(y_train_10cm_only, y_train_pred_10cm)))\n",
        "print(\"Test RMSE:\", np.sqrt(mean_squared_error(y_test_10cm_only, y_test_pred_10cm)))\n",
        "\n",
        "# Model using moisture_10cm + meteorological features\n",
        "et_full_10 = ExtraTreesRegressor(random_state=42, n_estimators=100)\n",
        "et_full_10.fit(X_train_full_10, y_train_full_10)\n",
        "y_train_pred_full_10 = et_full_10.predict(X_train_full_10)\n",
        "y_test_pred_full_10 = et_full_10.predict(X_test_full_10)\n",
        "\n",
        "print(\"\\nExtra Trees - moisture_10cm + meteorological features\")\n",
        "print(\"Train R2:\", r2_score(y_train_full_10, y_train_pred_full_10))\n",
        "print(\"Test R2:\", r2_score(y_test_full_10, y_test_pred_full_10))\n",
        "print(\"Train RMSE:\", np.sqrt(mean_squared_error(y_train_full_10, y_train_pred_full_10)))\n",
        "print(\"Test RMSE:\", np.sqrt(mean_squared_error(y_test_full_10, y_test_pred_full_10)))"
      ],
      "metadata": {
        "colab": {
          "base_uri": "https://localhost:8080/"
        },
        "id": "nR2d9Wsd23uR",
        "outputId": "19ed5ac5-1c48-4ac1-9d26-c5d69147ccb6"
      },
      "execution_count": null,
      "outputs": [
        {
          "output_type": "stream",
          "name": "stdout",
          "text": [
            "\n",
            "Extra Trees - moisture_10cm only\n",
            "Train R2: 0.45318703638430735\n",
            "Test R2: 0.4488221465751936\n",
            "Train RMSE: 0.02539793676544404\n",
            "Test RMSE: 0.02572304071878654\n",
            "\n",
            "Extra Trees - moisture_10cm + meteorological features\n",
            "Train R2: 0.9999679821454907\n",
            "Test R2: 0.932203230284361\n",
            "Train RMSE: 0.00019434579570324655\n",
            "Test RMSE: 0.009021545140456212\n"
          ]
        }
      ]
    },
    {
      "cell_type": "code",
      "source": [
        "# Regulated Extra Trees model\n",
        "et_full_10_reg = ExtraTreesRegressor(\n",
        "    random_state=42,\n",
        "    n_estimators=150,\n",
        "    max_depth=12\n",
        ")\n",
        "\n",
        "# Fit the model\n",
        "et_full_10_reg.fit(X_train_full_10, y_train_full_10)\n",
        "\n",
        "# Predict\n",
        "y_train_pred_full_10 = et_full_10_reg.predict(X_train_full_10)\n",
        "y_test_pred_full_10 = et_full_10_reg.predict(X_test_full_10)\n",
        "\n",
        "# Metrics\n",
        "print(\"\\nExtra Trees (Regulated) - moisture_10cm + meteorological features\")\n",
        "print(\"Train R2:\", r2_score(y_train_full_10, y_train_pred_full_10))\n",
        "print(\"Test R2:\", r2_score(y_test_full_10, y_test_pred_full_10))\n",
        "print(\"Train RMSE:\", np.sqrt(mean_squared_error(y_train_full_10, y_train_pred_full_10)))\n",
        "print(\"Test RMSE:\", np.sqrt(mean_squared_error(y_test_full_10, y_test_pred_full_10)))"
      ],
      "metadata": {
        "colab": {
          "base_uri": "https://localhost:8080/"
        },
        "id": "7j_8dCHIFKDR",
        "outputId": "6009386f-de18-46e9-bd12-e7366934310b"
      },
      "execution_count": null,
      "outputs": [
        {
          "output_type": "stream",
          "name": "stdout",
          "text": [
            "\n",
            "Extra Trees (Regulated) - moisture_10cm + meteorological features\n",
            "Train R2: 0.7275210208671671\n",
            "Test R2: 0.7183664480698397\n",
            "Train RMSE: 0.017928565338388013\n",
            "Test RMSE: 0.018387327942760538\n"
          ]
        }
      ]
    },
    {
      "cell_type": "markdown",
      "metadata": {
        "id": "9I4gPxfDrKz9"
      },
      "source": [
        "##from 20cm"
      ]
    },
    {
      "cell_type": "code",
      "execution_count": null,
      "metadata": {
        "id": "MX4qLPFBcZ-y"
      },
      "outputs": [],
      "source": [
        "# ==== 1. Separate features and targets ====\n",
        "\n",
        "# Model using only moisture_20cm\n",
        "X_train_20cm_only = train_base[['moisture_20cm']]\n",
        "y_train_20cm_only = train_base['moisture_40cm']\n",
        "X_test_20cm_only = test_base[['moisture_20cm']]\n",
        "y_test_20cm_only = test_base['moisture_40cm']\n",
        "\n",
        "# Full model (moisture_20cm + meteorological features)\n",
        "features_to_exclude_40_from_20 = ['moisture_10cm', 'moisture_40cm', 'moisture_30cm', 'moisture_50cm', 'moisture_60cm', 'timestamp_device']\n",
        "X_train_full_20 = train_base.drop(columns=features_to_exclude_40_from_20)\n",
        "y_train_full_20 = train_base['moisture_40cm']\n",
        "X_test_full_20 = test_base.drop(columns=features_to_exclude_40_from_20)\n",
        "y_test_full_20 = test_base['moisture_40cm']"
      ]
    },
    {
      "cell_type": "code",
      "source": [
        "# Model using only moisture_20cm\n",
        "et_20cm = ExtraTreesRegressor(random_state=42, n_estimators=100)\n",
        "et_20cm.fit(X_train_20cm_only, y_train_20cm_only)\n",
        "y_train_pred_20cm = et_20cm.predict(X_train_20cm_only)\n",
        "y_test_pred_20cm = et_20cm.predict(X_test_20cm_only)\n",
        "\n",
        "print(\"\\nExtra Trees - moisture_20cm only\")\n",
        "print(\"Train R2:\", r2_score(y_train_20cm_only, y_train_pred_20cm))\n",
        "print(\"Test R2:\", r2_score(y_test_20cm_only, y_test_pred_20cm))\n",
        "print(\"Train RMSE:\", np.sqrt(mean_squared_error(y_train_20cm_only, y_train_pred_20cm)))\n",
        "print(\"Test RMSE:\", np.sqrt(mean_squared_error(y_test_20cm_only, y_test_pred_20cm)))\n",
        "\n",
        "# Model using moisture_20cm + meteorological features\n",
        "et_full_20 = ExtraTreesRegressor(random_state=42, n_estimators=100)\n",
        "et_full_20.fit(X_train_full_20, y_train_full_20)\n",
        "y_train_pred_full_20 = et_full_20.predict(X_train_full_20)\n",
        "y_test_pred_full_20 = et_full_20.predict(X_test_full_20)\n",
        "\n",
        "print(\"\\nExtra Trees - moisture_20cm + meteorological features\")\n",
        "print(\"Train R2:\", r2_score(y_train_full_20, y_train_pred_full_20))\n",
        "print(\"Test R2:\", r2_score(y_test_full_20, y_test_pred_full_20))\n",
        "print(\"Train RMSE:\", np.sqrt(mean_squared_error(y_train_full_20, y_train_pred_full_20)))\n",
        "print(\"Test RMSE:\", np.sqrt(mean_squared_error(y_test_full_20, y_test_pred_full_20)))"
      ],
      "metadata": {
        "colab": {
          "base_uri": "https://localhost:8080/"
        },
        "id": "WR8j-fKH3I2_",
        "outputId": "8c6a3f43-b003-404a-9d1a-ed66e3ff0da8"
      },
      "execution_count": null,
      "outputs": [
        {
          "output_type": "stream",
          "name": "stdout",
          "text": [
            "\n",
            "Extra Trees - moisture_20cm only\n",
            "Train R2: 0.6657515991251386\n",
            "Test R2: 0.6710290181169696\n",
            "Train RMSE: 0.019857003191626556\n",
            "Test RMSE: 0.019872624258123847\n",
            "\n",
            "Extra Trees - moisture_20cm + meteorological features\n",
            "Train R2: 0.9999845833673809\n",
            "Test R2: 0.9612681212089871\n",
            "Train RMSE: 0.0001348570943702969\n",
            "Test RMSE: 0.006818843259429237\n"
          ]
        }
      ]
    },
    {
      "cell_type": "code",
      "source": [
        "# Regulated Extra Trees model\n",
        "et_full_20_reg = ExtraTreesRegressor(\n",
        "    random_state=42,\n",
        "    n_estimators=150,\n",
        "    max_depth=12\n",
        ")\n",
        "\n",
        "# Fit the model\n",
        "et_full_20_reg.fit(X_train_full_20, y_train_full_20)\n",
        "\n",
        "# Predict\n",
        "y_train_pred_full_20 = et_full_20_reg.predict(X_train_full_20)\n",
        "y_test_pred_full_20 = et_full_20_reg.predict(X_test_full_20)\n",
        "\n",
        "# Metrics\n",
        "print(\"\\nExtra Trees (Regulated) - moisture_20cm + meteorological features\")\n",
        "print(\"Train R2:\", r2_score(y_train_full_20, y_train_pred_full_20))\n",
        "print(\"Test R2:\", r2_score(y_test_full_20, y_test_pred_full_20))\n",
        "print(\"Train RMSE:\", np.sqrt(mean_squared_error(y_train_full_20, y_train_pred_full_20)))\n",
        "print(\"Test RMSE:\", np.sqrt(mean_squared_error(y_test_full_20, y_test_pred_full_20)))"
      ],
      "metadata": {
        "colab": {
          "base_uri": "https://localhost:8080/"
        },
        "id": "YS3o-yyZFSkF",
        "outputId": "a85f0e3c-aee0-4d99-b361-5822c5bace33"
      },
      "execution_count": null,
      "outputs": [
        {
          "output_type": "stream",
          "name": "stdout",
          "text": [
            "\n",
            "Extra Trees (Regulated) - moisture_20cm + meteorological features\n",
            "Train R2: 0.8360333723068805\n",
            "Test R2: 0.8341687569036963\n",
            "Train RMSE: 0.01390774658790287\n",
            "Test RMSE: 0.014109434371009161\n"
          ]
        }
      ]
    },
    {
      "cell_type": "markdown",
      "metadata": {
        "id": "xZn4w9sbrLAH"
      },
      "source": [
        "##from 30cm"
      ]
    },
    {
      "cell_type": "code",
      "execution_count": null,
      "metadata": {
        "id": "zo_HwDi9dM83"
      },
      "outputs": [],
      "source": [
        "# ==== 1. Separate features and targets ====\n",
        "\n",
        "# Model using only moisture_30cm\n",
        "X_train_30cm_only = train_base[['moisture_30cm']]\n",
        "y_train_30cm_only = train_base['moisture_40cm']\n",
        "X_test_30cm_only = test_base[['moisture_30cm']]\n",
        "y_test_30cm_only = test_base['moisture_40cm']\n",
        "\n",
        "# Full model (moisture_30cm + meteorological features)\n",
        "features_to_exclude_40_from_30 = ['moisture_10cm', 'moisture_20cm', 'moisture_40cm', 'moisture_50cm', 'moisture_60cm', 'timestamp_device']\n",
        "X_train_full_30 = train_base.drop(columns=features_to_exclude_40_from_30)\n",
        "y_train_full_30 = train_base['moisture_40cm']\n",
        "X_test_full_30 = test_base.drop(columns=features_to_exclude_40_from_30)\n",
        "y_test_full_30 = test_base['moisture_40cm']\n"
      ]
    },
    {
      "cell_type": "code",
      "source": [
        "# Model using only moisture_30cm\n",
        "et_30cm = ExtraTreesRegressor(random_state=42, n_estimators=100)\n",
        "et_30cm.fit(X_train_30cm_only, y_train_30cm_only)\n",
        "y_train_pred_30cm = et_30cm.predict(X_train_30cm_only)\n",
        "y_test_pred_30cm = et_30cm.predict(X_test_30cm_only)\n",
        "\n",
        "print(\"\\nExtra Trees - moisture_30cm only\")\n",
        "print(\"Train R2:\", r2_score(y_train_30cm_only, y_train_pred_30cm))\n",
        "print(\"Test R2:\", r2_score(y_test_30cm_only, y_test_pred_30cm))\n",
        "print(\"Train RMSE:\", np.sqrt(mean_squared_error(y_train_30cm_only, y_train_pred_30cm)))\n",
        "print(\"Test RMSE:\", np.sqrt(mean_squared_error(y_test_30cm_only, y_test_pred_30cm)))\n",
        "\n",
        "# Model using moisture_30cm + meteorological features\n",
        "et_full_30 = ExtraTreesRegressor(random_state=42, n_estimators=100)\n",
        "et_full_30.fit(X_train_full_30, y_train_full_30)\n",
        "y_train_pred_full_30 = et_full_30.predict(X_train_full_30)\n",
        "y_test_pred_full_30 = et_full_30.predict(X_test_full_30)\n",
        "\n",
        "print(\"\\nExtra Trees - moisture_30cm + meteorological features\")\n",
        "print(\"Train R2:\", r2_score(y_train_full_30, y_train_pred_full_30))\n",
        "print(\"Test R2:\", r2_score(y_test_full_30, y_test_pred_full_30))\n",
        "print(\"Train RMSE:\", np.sqrt(mean_squared_error(y_train_full_30, y_train_pred_full_30)))\n",
        "print(\"Test RMSE:\", np.sqrt(mean_squared_error(y_test_full_30, y_test_pred_full_30)))"
      ],
      "metadata": {
        "colab": {
          "base_uri": "https://localhost:8080/"
        },
        "id": "6KT-KI404mhQ",
        "outputId": "b55d7789-2625-4aaa-a033-f32436dd5f01"
      },
      "execution_count": null,
      "outputs": [
        {
          "output_type": "stream",
          "name": "stdout",
          "text": [
            "\n",
            "Extra Trees - moisture_30cm only\n",
            "Train R2: 0.9019411320289267\n",
            "Test R2: 0.9030746867895451\n",
            "Train RMSE: 0.010755298647848872\n",
            "Test RMSE: 0.010786859752392783\n",
            "\n",
            "Extra Trees - moisture_30cm + meteorological features\n",
            "Train R2: 0.9999776436669012\n",
            "Test R2: 0.9851362750508259\n",
            "Train RMSE: 0.0001623974936911563\n",
            "Test RMSE: 0.00422415898825016\n"
          ]
        }
      ]
    },
    {
      "cell_type": "code",
      "source": [
        "# Regulated Extra Trees model\n",
        "et_full_30_reg = ExtraTreesRegressor(\n",
        "    random_state=42,\n",
        "    n_estimators=150,\n",
        "    max_depth=12\n",
        ")\n",
        "\n",
        "# Train the model\n",
        "et_full_30_reg.fit(X_train_full_30, y_train_full_30)\n",
        "\n",
        "# Predictions\n",
        "y_train_pred_full_30 = et_full_30_reg.predict(X_train_full_30)\n",
        "y_test_pred_full_30 = et_full_30_reg.predict(X_test_full_30)\n",
        "\n",
        "# Evaluation\n",
        "print(\"\\nExtra Trees (Regulated) - moisture_30cm + meteorological features\")\n",
        "print(\"Train R2:\", r2_score(y_train_full_30, y_train_pred_full_30))\n",
        "print(\"Test R2:\", r2_score(y_test_full_30, y_test_pred_full_30))\n",
        "print(\"Train RMSE:\", np.sqrt(mean_squared_error(y_train_full_30, y_train_pred_full_30)))\n",
        "print(\"Test RMSE:\", np.sqrt(mean_squared_error(y_test_full_30, y_test_pred_full_30)))"
      ],
      "metadata": {
        "colab": {
          "base_uri": "https://localhost:8080/"
        },
        "id": "Bv-RFLMKFjlO",
        "outputId": "1ad7ff1d-1094-44e3-eee7-dab9632974e3"
      },
      "execution_count": null,
      "outputs": [
        {
          "output_type": "stream",
          "name": "stdout",
          "text": [
            "\n",
            "Extra Trees (Regulated) - moisture_30cm + meteorological features\n",
            "Train R2: 0.9565925705976374\n",
            "Test R2: 0.9542196980577994\n",
            "Train RMSE: 0.007155847395878144\n",
            "Test RMSE: 0.007413371293748791\n"
          ]
        }
      ]
    },
    {
      "cell_type": "markdown",
      "metadata": {
        "id": "eu-Bn2ERrSvE"
      },
      "source": [
        "##from 50cm"
      ]
    },
    {
      "cell_type": "code",
      "execution_count": null,
      "metadata": {
        "id": "lrHN7KL5d6To"
      },
      "outputs": [],
      "source": [
        "# ==== 1. Separate features and targets ====\n",
        "\n",
        "# Model using only moisture_50cm\n",
        "X_train_50cm_only = train_base[['moisture_50cm']]\n",
        "y_train_50cm_only = train_base['moisture_40cm']\n",
        "X_test_50cm_only = test_base[['moisture_50cm']]\n",
        "y_test_50cm_only = test_base['moisture_40cm']\n",
        "\n",
        "# Full model (moisture_50cm + meteorological features)\n",
        "features_to_exclude_40_from_50 = ['moisture_10cm', 'moisture_20cm', 'moisture_30cm', 'moisture_40cm', 'moisture_60cm', 'timestamp_device']\n",
        "X_train_full_50 = train_base.drop(columns=features_to_exclude_40_from_50)\n",
        "y_train_full_50 = train_base['moisture_40cm']\n",
        "X_test_full_50 = test_base.drop(columns=features_to_exclude_40_from_50)\n",
        "y_test_full_50 = test_base['moisture_40cm']\n"
      ]
    },
    {
      "cell_type": "code",
      "source": [
        "# Model using only moisture_50cm\n",
        "et_50cm = ExtraTreesRegressor(random_state=42, n_estimators=100)\n",
        "et_50cm.fit(X_train_50cm_only, y_train_50cm_only)\n",
        "y_train_pred_50cm = et_50cm.predict(X_train_50cm_only)\n",
        "y_test_pred_50cm = et_50cm.predict(X_test_50cm_only)\n",
        "\n",
        "print(\"\\nExtra Trees - moisture_50cm only\")\n",
        "print(\"Train R2:\", r2_score(y_train_50cm_only, y_train_pred_50cm))\n",
        "print(\"Test R2:\", r2_score(y_test_50cm_only, y_test_pred_50cm))\n",
        "print(\"Train RMSE:\", np.sqrt(mean_squared_error(y_train_50cm_only, y_train_pred_50cm)))\n",
        "print(\"Test RMSE:\", np.sqrt(mean_squared_error(y_test_50cm_only, y_test_pred_50cm)))\n",
        "\n",
        "# Model using moisture_50cm + meteorological features\n",
        "et_full_50 = ExtraTreesRegressor(random_state=42, n_estimators=100)\n",
        "et_full_50.fit(X_train_full_50, y_train_full_50)\n",
        "y_train_pred_full_50 = et_full_50.predict(X_train_full_50)\n",
        "y_test_pred_full_50 = et_full_50.predict(X_test_full_50)\n",
        "\n",
        "print(\"\\nExtra Trees - moisture_50cm + meteorological features\")\n",
        "print(\"Train R2:\", r2_score(y_train_full_50, y_train_pred_full_50))\n",
        "print(\"Test R2:\", r2_score(y_test_full_50, y_test_pred_full_50))\n",
        "print(\"Train RMSE:\", np.sqrt(mean_squared_error(y_train_full_50, y_train_pred_full_50)))\n",
        "print(\"Test RMSE:\", np.sqrt(mean_squared_error(y_test_full_50, y_test_pred_full_50)))\n"
      ],
      "metadata": {
        "colab": {
          "base_uri": "https://localhost:8080/"
        },
        "id": "AZQECc5u53-Z",
        "outputId": "f4601de7-bff2-4968-b00c-f2576f674c53"
      },
      "execution_count": null,
      "outputs": [
        {
          "output_type": "stream",
          "name": "stdout",
          "text": [
            "\n",
            "Extra Trees - moisture_50cm only\n",
            "Train R2: 0.8768940179424155\n",
            "Test R2: 0.8815573682972084\n",
            "Train RMSE: 0.012050875925618869\n",
            "Test RMSE: 0.011924232899350828\n",
            "\n",
            "Extra Trees - moisture_50cm + meteorological features\n",
            "Train R2: 0.9999747745187693\n",
            "Test R2: 0.9769413778566464\n",
            "Train RMSE: 0.00017250383980189018\n",
            "Test RMSE: 0.005261300435705153\n"
          ]
        }
      ]
    },
    {
      "cell_type": "code",
      "source": [
        "# Regulated Extra Trees model\n",
        "et_full_50_reg = ExtraTreesRegressor(\n",
        "    random_state=42,\n",
        "    n_estimators=150,\n",
        "    max_depth=12\n",
        ")\n",
        "\n",
        "# Train the model\n",
        "et_full_50_reg.fit(X_train_full_50, y_train_full_50)\n",
        "\n",
        "# Predictions\n",
        "y_train_pred_full_50 = et_full_50_reg.predict(X_train_full_50)\n",
        "y_test_pred_full_50 = et_full_50_reg.predict(X_test_full_50)\n",
        "\n",
        "# Evaluation\n",
        "print(\"\\nExtra Trees (Regulated) - moisture_50cm + meteorological features\")\n",
        "print(\"Train R2:\", r2_score(y_train_full_50, y_train_pred_full_50))\n",
        "print(\"Test R2:\", r2_score(y_test_full_50, y_test_pred_full_50))\n",
        "print(\"Train RMSE:\", np.sqrt(mean_squared_error(y_train_full_50, y_train_pred_full_50)))\n",
        "print(\"Test RMSE:\", np.sqrt(mean_squared_error(y_test_full_50, y_test_pred_full_50)))"
      ],
      "metadata": {
        "colab": {
          "base_uri": "https://localhost:8080/"
        },
        "id": "ykSH2dKaFoa1",
        "outputId": "a998fda9-8578-4d7e-ab10-d95382f4dda9"
      },
      "execution_count": null,
      "outputs": [
        {
          "output_type": "stream",
          "name": "stdout",
          "text": [
            "\n",
            "Extra Trees (Regulated) - moisture_50cm + meteorological features\n",
            "Train R2: 0.9401140545867588\n",
            "Test R2: 0.9399791282577149\n",
            "Train RMSE: 0.008405073035643916\n",
            "Test RMSE: 0.008488433977046104\n"
          ]
        }
      ]
    },
    {
      "cell_type": "markdown",
      "metadata": {
        "id": "hs4FXQsIrXGZ"
      },
      "source": [
        "##from 60cm"
      ]
    },
    {
      "cell_type": "code",
      "execution_count": null,
      "metadata": {
        "id": "w4RVBSVtfGk-"
      },
      "outputs": [],
      "source": [
        "# ==== 1. Separate features and targets ====\n",
        "\n",
        "# Model using only moisture_60cm\n",
        "X_train_60cm_only = train_base[['moisture_60cm']]\n",
        "y_train_60cm_only = train_base['moisture_40cm']\n",
        "X_test_60cm_only = test_base[['moisture_60cm']]\n",
        "y_test_60cm_only = test_base['moisture_40cm']\n",
        "\n",
        "# Full model (moisture_60cm + meteorological features)\n",
        "features_to_exclude_40_from_60 = ['moisture_10cm', 'moisture_20cm', 'moisture_30cm', 'moisture_40cm', 'moisture_50cm', 'timestamp_device']\n",
        "X_train_full_60 = train_base.drop(columns=features_to_exclude_40_from_60)\n",
        "y_train_full_60 = train_base['moisture_40cm']\n",
        "X_test_full_60 = test_base.drop(columns=features_to_exclude_40_from_60)\n",
        "y_test_full_60 = test_base['moisture_40cm']"
      ]
    },
    {
      "cell_type": "code",
      "source": [
        "# Model using only moisture_60cm\n",
        "et_60cm = ExtraTreesRegressor(random_state=42, n_estimators=100)\n",
        "et_60cm.fit(X_train_60cm_only, y_train_60cm_only)\n",
        "y_train_pred_60cm = et_60cm.predict(X_train_60cm_only)\n",
        "y_test_pred_60cm = et_60cm.predict(X_test_60cm_only)\n",
        "\n",
        "print(\"\\nExtra Trees - moisture_60cm only\")\n",
        "print(\"Train R2:\", r2_score(y_train_60cm_only, y_train_pred_60cm))\n",
        "print(\"Test R2:\", r2_score(y_test_60cm_only, y_test_pred_60cm))\n",
        "print(\"Train RMSE:\", np.sqrt(mean_squared_error(y_train_60cm_only, y_train_pred_60cm)))\n",
        "print(\"Test RMSE:\", np.sqrt(mean_squared_error(y_test_60cm_only, y_test_pred_60cm)))\n",
        "\n",
        "# Model using moisture_60cm + meteorological features\n",
        "et_full_60 = ExtraTreesRegressor(random_state=42, n_estimators=100)\n",
        "et_full_60.fit(X_train_full_60, y_train_full_60)\n",
        "y_train_pred_full_60 = et_full_60.predict(X_train_full_60)\n",
        "y_test_pred_full_60 = et_full_60.predict(X_test_full_60)\n",
        "\n",
        "print(\"\\nExtra Trees - moisture_60cm + meteorological features\")\n",
        "print(\"Train R2:\", r2_score(y_train_full_60, y_train_pred_full_60))\n",
        "print(\"Test R2:\", r2_score(y_test_full_60, y_test_pred_full_60))\n",
        "print(\"Train RMSE:\", np.sqrt(mean_squared_error(y_train_full_60, y_train_pred_full_60)))\n",
        "print(\"Test RMSE:\", np.sqrt(mean_squared_error(y_test_full_60, y_test_pred_full_60)))\n"
      ],
      "metadata": {
        "colab": {
          "base_uri": "https://localhost:8080/"
        },
        "id": "xDgs8es06KZC",
        "outputId": "e7853864-3679-49c4-8955-28126aa5b228"
      },
      "execution_count": null,
      "outputs": [
        {
          "output_type": "stream",
          "name": "stdout",
          "text": [
            "\n",
            "Extra Trees - moisture_60cm only\n",
            "Train R2: 0.6737222867781687\n",
            "Test R2: 0.6827974890670199\n",
            "Train RMSE: 0.019618813622467236\n",
            "Test RMSE: 0.01951392960144133\n",
            "\n",
            "Extra Trees - moisture_60cm + meteorological features\n",
            "Train R2: 0.9999373796535803\n",
            "Test R2: 0.948744013770667\n",
            "Train RMSE: 0.0002717920625832644\n",
            "Test RMSE: 0.007844201167914424\n"
          ]
        }
      ]
    },
    {
      "cell_type": "code",
      "source": [
        "# Regulated Extra Trees model\n",
        "et_full_60_reg = ExtraTreesRegressor(\n",
        "    random_state=42,\n",
        "    n_estimators=150,           # More trees for better ensemble performance\n",
        "    max_depth=12                 # Utilize all CPU cores\n",
        ")\n",
        "\n",
        "# Fit the model\n",
        "et_full_60_reg.fit(X_train_full_60, y_train_full_60)\n",
        "\n",
        "# Predictions\n",
        "y_train_pred_full_60 = et_full_60_reg.predict(X_train_full_60)\n",
        "y_test_pred_full_60 = et_full_60_reg.predict(X_test_full_60)\n",
        "\n",
        "# Evaluation\n",
        "print(\"\\nExtra Trees (Regulated) - moisture_60cm + meteorological features\")\n",
        "print(\"Train R2:\", r2_score(y_train_full_60, y_train_pred_full_60))\n",
        "print(\"Test R2:\", r2_score(y_test_full_60, y_test_pred_full_60))\n",
        "print(\"Train RMSE:\", np.sqrt(mean_squared_error(y_train_full_60, y_train_pred_full_60)))\n",
        "print(\"Test RMSE:\", np.sqrt(mean_squared_error(y_test_full_60, y_test_pred_full_60)))"
      ],
      "metadata": {
        "colab": {
          "base_uri": "https://localhost:8080/"
        },
        "id": "8t2xLfZ9F04x",
        "outputId": "3f16c9df-e102-4954-d6c4-2b8da4e94e4e"
      },
      "execution_count": null,
      "outputs": [
        {
          "output_type": "stream",
          "name": "stdout",
          "text": [
            "\n",
            "Extra Trees (Regulated) - moisture_60cm + meteorological features\n",
            "Train R2: 0.8589952578289766\n",
            "Test R2: 0.8588908015818598\n",
            "Train RMSE: 0.012897213699809972\n",
            "Test RMSE: 0.013015297156202345\n"
          ]
        }
      ]
    },
    {
      "cell_type": "markdown",
      "metadata": {
        "id": "qPjahAK6q_kE"
      },
      "source": [
        "##Predicting moisture at 50cm depth"
      ]
    },
    {
      "cell_type": "markdown",
      "metadata": {
        "id": "OqGSJS69rKgK"
      },
      "source": [
        "##from 10cm"
      ]
    },
    {
      "cell_type": "code",
      "execution_count": null,
      "metadata": {
        "id": "lU3_4lipgLYO"
      },
      "outputs": [],
      "source": [
        "# ==== 1. Separate features and targets ====\n",
        "\n",
        "# Model using only moisture_10cm\n",
        "X_train_10cm_only = train_base[['moisture_10cm']]\n",
        "y_train_10cm_only = train_base['moisture_50cm']\n",
        "X_test_10cm_only = test_base[['moisture_10cm']]\n",
        "y_test_10cm_only = test_base['moisture_50cm']\n",
        "\n",
        "# Full model (moisture_10cm + meteorological features)\n",
        "features_to_exclude_50_from_10 = ['moisture_20cm', 'moisture_30cm', 'moisture_40cm', 'moisture_50cm', 'moisture_60cm', 'timestamp_device']\n",
        "X_train_full_10 = train_base.drop(columns=features_to_exclude_50_from_10)\n",
        "y_train_full_10 = train_base['moisture_50cm']\n",
        "X_test_full_10 = test_base.drop(columns=features_to_exclude_50_from_10)\n",
        "y_test_full_10 = test_base['moisture_50cm']"
      ]
    },
    {
      "cell_type": "code",
      "source": [
        "# Model using only moisture_10cm\n",
        "et_10cm = ExtraTreesRegressor(random_state=42, n_estimators=100)\n",
        "et_10cm.fit(X_train_10cm_only, y_train_10cm_only)\n",
        "y_train_pred_10cm = et_10cm.predict(X_train_10cm_only)\n",
        "y_test_pred_10cm = et_10cm.predict(X_test_10cm_only)\n",
        "\n",
        "print(\"\\nExtra Trees - moisture_10cm only\")\n",
        "print(\"Train R2:\", r2_score(y_train_10cm_only, y_train_pred_10cm))\n",
        "print(\"Test R2:\", r2_score(y_test_10cm_only, y_test_pred_10cm))\n",
        "print(\"Train RMSE:\", np.sqrt(mean_squared_error(y_train_10cm_only, y_train_pred_10cm)))\n",
        "print(\"Test RMSE:\", np.sqrt(mean_squared_error(y_test_10cm_only, y_test_pred_10cm)))\n",
        "\n",
        "# Model using moisture_10cm + meteorological features\n",
        "et_full_10 = ExtraTreesRegressor(random_state=42, n_estimators=100)\n",
        "et_full_10.fit(X_train_full_10, y_train_full_10)\n",
        "y_train_pred_full_10 = et_full_10.predict(X_train_full_10)\n",
        "y_test_pred_full_10 = et_full_10.predict(X_test_full_10)\n",
        "\n",
        "print(\"\\nExtra Trees - moisture_10cm + meteorological features\")\n",
        "print(\"Train R2:\", r2_score(y_train_full_10, y_train_pred_full_10))\n",
        "print(\"Test R2:\", r2_score(y_test_full_10, y_test_pred_full_10))\n",
        "print(\"Train RMSE:\", np.sqrt(mean_squared_error(y_train_full_10, y_train_pred_full_10)))\n",
        "print(\"Test RMSE:\", np.sqrt(mean_squared_error(y_test_full_10, y_test_pred_full_10)))\n"
      ],
      "metadata": {
        "id": "YjP2rtXt6vSV",
        "colab": {
          "base_uri": "https://localhost:8080/"
        },
        "outputId": "7246ea8f-6de4-40e1-9458-751ddef4d188"
      },
      "execution_count": null,
      "outputs": [
        {
          "output_type": "stream",
          "name": "stdout",
          "text": [
            "\n",
            "Extra Trees - moisture_10cm only\n",
            "Train R2: 0.4611237001811356\n",
            "Test R2: 0.4537916476768551\n",
            "Train RMSE: 0.010353805203452153\n",
            "Test RMSE: 0.010557099138643972\n",
            "\n",
            "Extra Trees - moisture_10cm + meteorological features\n",
            "Train R2: 0.9999501655195508\n",
            "Test R2: 0.9273957907641875\n",
            "Train RMSE: 9.956814489207793e-05\n",
            "Test RMSE: 0.0038489859991071174\n"
          ]
        }
      ]
    },
    {
      "cell_type": "code",
      "source": [
        "# Regulated Extra Trees model\n",
        "et_full_10_reg = ExtraTreesRegressor(\n",
        "    random_state=42,\n",
        "    n_estimators=150,           # Increased number of trees for stability\n",
        "    max_depth=12                 # Uses all processors for faster computation\n",
        ")\n",
        "\n",
        "# Train the model\n",
        "et_full_10_reg.fit(X_train_full_10, y_train_full_10)\n",
        "\n",
        "# Predict on train and test sets\n",
        "y_train_pred_full_10 = et_full_10_reg.predict(X_train_full_10)\n",
        "y_test_pred_full_10 = et_full_10_reg.predict(X_test_full_10)\n",
        "\n",
        "# Evaluation\n",
        "print(\"\\nExtra Trees (Regulated) - moisture_10cm + meteorological features\")\n",
        "print(\"Train R2:\", r2_score(y_train_full_10, y_train_pred_full_10))\n",
        "print(\"Test R2:\", r2_score(y_test_full_10, y_test_pred_full_10))\n",
        "print(\"Train RMSE:\", np.sqrt(mean_squared_error(y_train_full_10, y_train_pred_full_10)))\n",
        "print(\"Test RMSE:\", np.sqrt(mean_squared_error(y_test_full_10, y_test_pred_full_10)))"
      ],
      "metadata": {
        "colab": {
          "base_uri": "https://localhost:8080/"
        },
        "id": "L0mkqrWhGEQs",
        "outputId": "76d4cf41-356b-46b3-cb9a-368947d9d9c4"
      },
      "execution_count": null,
      "outputs": [
        {
          "output_type": "stream",
          "name": "stdout",
          "text": [
            "\n",
            "Extra Trees (Regulated) - moisture_10cm + meteorological features\n",
            "Train R2: 0.7117287058404002\n",
            "Test R2: 0.6992648559058406\n",
            "Train RMSE: 0.007572794071065157\n",
            "Test RMSE: 0.007833530216377496\n"
          ]
        }
      ]
    },
    {
      "cell_type": "markdown",
      "metadata": {
        "id": "-M4nnqu0raPL"
      },
      "source": [
        "##from 20cm"
      ]
    },
    {
      "cell_type": "code",
      "execution_count": null,
      "metadata": {
        "id": "_QJM8h94hDxJ"
      },
      "outputs": [],
      "source": [
        "# ==== 1. Separate features and targets ====\n",
        "\n",
        "# Model using only moisture_20cm\n",
        "X_train_20cm_only = train_base[['moisture_20cm']]\n",
        "y_train_20cm_only = train_base['moisture_50cm']\n",
        "X_test_20cm_only = test_base[['moisture_20cm']]\n",
        "y_test_20cm_only = test_base['moisture_50cm']\n",
        "\n",
        "# Full model (moisture_20cm + meteorological features)\n",
        "features_to_exclude_50_from_20 = ['moisture_10cm', 'moisture_30cm', 'moisture_40cm', 'moisture_50cm', 'moisture_60cm', 'timestamp_device']\n",
        "X_train_full_20 = train_base.drop(columns=features_to_exclude_50_from_20)\n",
        "y_train_full_20 = train_base['moisture_50cm']\n",
        "X_test_full_20 = test_base.drop(columns=features_to_exclude_50_from_20)\n",
        "y_test_full_20 = test_base['moisture_50cm']"
      ]
    },
    {
      "cell_type": "code",
      "source": [
        "# Model using only moisture_20cm\n",
        "et_20cm = ExtraTreesRegressor(random_state=42, n_estimators=100)\n",
        "et_20cm.fit(X_train_20cm_only, y_train_20cm_only)\n",
        "y_train_pred_20cm = et_20cm.predict(X_train_20cm_only)\n",
        "y_test_pred_20cm = et_20cm.predict(X_test_20cm_only)\n",
        "\n",
        "print(\"\\nExtra Trees - moisture_20cm only\")\n",
        "print(\"Train R2:\", r2_score(y_train_20cm_only, y_train_pred_20cm))\n",
        "print(\"Test R2:\", r2_score(y_test_20cm_only, y_test_pred_20cm))\n",
        "print(\"Train RMSE:\", np.sqrt(mean_squared_error(y_train_20cm_only, y_train_pred_20cm)))\n",
        "print(\"Test RMSE:\", np.sqrt(mean_squared_error(y_test_20cm_only, y_test_pred_20cm)))\n",
        "\n",
        "# Model using moisture_20cm + meteorological features\n",
        "et_full_20 = ExtraTreesRegressor(random_state=42, n_estimators=100)\n",
        "et_full_20.fit(X_train_full_20, y_train_full_20)\n",
        "y_train_pred_full_20 = et_full_20.predict(X_train_full_20)\n",
        "y_test_pred_full_20 = et_full_20.predict(X_test_full_20)\n",
        "\n",
        "print(\"\\nExtra Trees - moisture_20cm + meteorological features\")\n",
        "print(\"Train R2:\", r2_score(y_train_full_20, y_train_pred_full_20))\n",
        "print(\"Test R2:\", r2_score(y_test_full_20, y_test_pred_full_20))\n",
        "print(\"Train RMSE:\", np.sqrt(mean_squared_error(y_train_full_20, y_train_pred_full_20)))\n",
        "print(\"Test RMSE:\", np.sqrt(mean_squared_error(y_test_full_20, y_test_pred_full_20)))\n"
      ],
      "metadata": {
        "id": "iHDchGGF7FHQ",
        "colab": {
          "base_uri": "https://localhost:8080/"
        },
        "outputId": "35288d16-5694-42ce-dc48-d62fbd7ea93e"
      },
      "execution_count": null,
      "outputs": [
        {
          "output_type": "stream",
          "name": "stdout",
          "text": [
            "\n",
            "Extra Trees - moisture_20cm only\n",
            "Train R2: 0.6770211112566744\n",
            "Test R2: 0.6788120181220254\n",
            "Train RMSE: 0.008015719591656154\n",
            "Test RMSE: 0.008095526053253628\n",
            "\n",
            "Extra Trees - moisture_20cm + meteorological features\n",
            "Train R2: 0.9999800508318412\n",
            "Test R2: 0.9622199283427078\n",
            "Train RMSE: 6.299670633608555e-05\n",
            "Test RMSE: 0.0027764945168011904\n"
          ]
        }
      ]
    },
    {
      "cell_type": "code",
      "source": [
        "# Regulated Extra Trees model\n",
        "et_full_20_reg = ExtraTreesRegressor(\n",
        "    random_state=42,\n",
        "    n_estimators=150,           # More trees for better stability\n",
        "    max_depth=12                 # Parallel computation\n",
        ")\n",
        "\n",
        "# Train the model\n",
        "et_full_20_reg.fit(X_train_full_20, y_train_full_20)\n",
        "\n",
        "# Predictions\n",
        "y_train_pred_full_20 = et_full_20_reg.predict(X_train_full_20)\n",
        "y_test_pred_full_20 = et_full_20_reg.predict(X_test_full_20)\n",
        "\n",
        "# Evaluation\n",
        "print(\"\\nExtra Trees (Regulated) - moisture_20cm + meteorological features\")\n",
        "print(\"Train R2:\", r2_score(y_train_full_20, y_train_pred_full_20))\n",
        "print(\"Test R2:\", r2_score(y_test_full_20, y_test_pred_full_20))\n",
        "print(\"Train RMSE:\", np.sqrt(mean_squared_error(y_train_full_20, y_train_pred_full_20)))\n",
        "print(\"Test RMSE:\", np.sqrt(mean_squared_error(y_test_full_20, y_test_pred_full_20)))"
      ],
      "metadata": {
        "colab": {
          "base_uri": "https://localhost:8080/"
        },
        "id": "CTvgLdO3GNcb",
        "outputId": "21938366-3227-480d-f8dd-91165c5f9eee"
      },
      "execution_count": null,
      "outputs": [
        {
          "output_type": "stream",
          "name": "stdout",
          "text": [
            "\n",
            "Extra Trees (Regulated) - moisture_20cm + meteorological features\n",
            "Train R2: 0.8581007638279685\n",
            "Test R2: 0.8569410863017279\n",
            "Train RMSE: 0.0053130692567181816\n",
            "Test RMSE: 0.005402849783836585\n"
          ]
        }
      ]
    },
    {
      "cell_type": "markdown",
      "metadata": {
        "id": "PSKT8ZNsrhHf"
      },
      "source": [
        "##from 30cm"
      ]
    },
    {
      "cell_type": "code",
      "execution_count": null,
      "metadata": {
        "id": "TsPQEJ6DhxT2"
      },
      "outputs": [],
      "source": [
        "# ==== 1. Separate features and targets ====\n",
        "\n",
        "# Model using only moisture_30cm\n",
        "X_train_30cm_only = train_base[['moisture_30cm']]\n",
        "y_train_30cm_only = train_base['moisture_50cm']\n",
        "X_test_30cm_only = test_base[['moisture_30cm']]\n",
        "y_test_30cm_only = test_base['moisture_50cm']\n",
        "\n",
        "# Full model (moisture_30cm + meteorological features)\n",
        "features_to_exclude_50_from_30 = ['moisture_10cm', 'moisture_20cm', 'moisture_40cm', 'moisture_50cm', 'moisture_60cm', 'timestamp_device']\n",
        "X_train_full_30 = train_base.drop(columns=features_to_exclude_50_from_30)\n",
        "y_train_full_30 = train_base['moisture_50cm']\n",
        "X_test_full_30 = test_base.drop(columns=features_to_exclude_50_from_30)\n",
        "y_test_full_30 = test_base['moisture_50cm']"
      ]
    },
    {
      "cell_type": "code",
      "source": [
        "# Model using only moisture_30cm\n",
        "et_30cm = ExtraTreesRegressor(random_state=42, n_estimators=100)\n",
        "et_30cm.fit(X_train_30cm_only, y_train_30cm_only)\n",
        "y_train_pred_30cm = et_30cm.predict(X_train_30cm_only)\n",
        "y_test_pred_30cm = et_30cm.predict(X_test_30cm_only)\n",
        "\n",
        "print(\"\\nExtra Trees - moisture_30cm only\")\n",
        "print(\"Train R2:\", r2_score(y_train_30cm_only, y_train_pred_30cm))\n",
        "print(\"Test R2:\", r2_score(y_test_30cm_only, y_test_pred_30cm))\n",
        "print(\"Train RMSE:\", np.sqrt(mean_squared_error(y_train_30cm_only, y_train_pred_30cm)))\n",
        "print(\"Test RMSE:\", np.sqrt(mean_squared_error(y_test_30cm_only, y_test_pred_30cm)))\n",
        "\n",
        "# Model using moisture_30cm + meteorological features\n",
        "et_full_30 = ExtraTreesRegressor(random_state=42, n_estimators=100)\n",
        "et_full_30.fit(X_train_full_30, y_train_full_30)\n",
        "y_train_pred_full_30 = et_full_30.predict(X_train_full_30)\n",
        "y_test_pred_full_30 = et_full_30.predict(X_test_full_30)\n",
        "\n",
        "print(\"\\nExtra Trees - moisture_30cm + meteorological features\")\n",
        "print(\"Train R2:\", r2_score(y_train_full_30, y_train_pred_full_30))\n",
        "print(\"Test R2:\", r2_score(y_test_full_30, y_test_pred_full_30))\n",
        "print(\"Train RMSE:\", np.sqrt(mean_squared_error(y_train_full_30, y_train_pred_full_30)))\n",
        "print(\"Test RMSE:\", np.sqrt(mean_squared_error(y_test_full_30, y_test_pred_full_30)))\n"
      ],
      "metadata": {
        "id": "UlbqODbq9Nvc",
        "colab": {
          "base_uri": "https://localhost:8080/"
        },
        "outputId": "931aeab8-2a2e-417b-f215-30533c8c5c72"
      },
      "execution_count": null,
      "outputs": [
        {
          "output_type": "stream",
          "name": "stdout",
          "text": [
            "\n",
            "Extra Trees - moisture_30cm only\n",
            "Train R2: 0.8155139636730089\n",
            "Test R2: 0.8179432513714772\n",
            "Train RMSE: 0.006058110607012413\n",
            "Test RMSE: 0.006094931410805464\n",
            "\n",
            "Extra Trees - moisture_30cm + meteorological features\n",
            "Train R2: 0.9999640877698039\n",
            "Test R2: 0.9661583024245571\n",
            "Train RMSE: 8.452333729958192e-05\n",
            "Test RMSE: 0.0026277951184614295\n"
          ]
        }
      ]
    },
    {
      "cell_type": "code",
      "source": [
        "# Regulated Extra Trees model\n",
        "et_full_30_reg = ExtraTreesRegressor(\n",
        "    random_state=42,\n",
        "    n_estimators=150,           # More trees for stability\n",
        "    max_depth=12               # Use all cores\n",
        ")\n",
        "\n",
        "# Train the model\n",
        "et_full_30_reg.fit(X_train_full_30, y_train_full_30)\n",
        "\n",
        "# Predict\n",
        "y_train_pred_full_30 = et_full_30_reg.predict(X_train_full_30)\n",
        "y_test_pred_full_30 = et_full_30_reg.predict(X_test_full_30)\n",
        "\n",
        "# Evaluation\n",
        "print(\"\\nExtra Trees (Regulated) - moisture_30cm + meteorological features\")\n",
        "print(\"Train R2:\", r2_score(y_train_full_30, y_train_pred_full_30))\n",
        "print(\"Test R2:\", r2_score(y_test_full_30, y_test_pred_full_30))\n",
        "print(\"Train RMSE:\", np.sqrt(mean_squared_error(y_train_full_30, y_train_pred_full_30)))\n",
        "print(\"Test RMSE:\", np.sqrt(mean_squared_error(y_test_full_30, y_test_pred_full_30)))"
      ],
      "metadata": {
        "id": "PkeQnS7KGYn7",
        "colab": {
          "base_uri": "https://localhost:8080/"
        },
        "outputId": "df730e21-3f2a-476e-8425-c6fbb02a18fe"
      },
      "execution_count": null,
      "outputs": [
        {
          "output_type": "stream",
          "name": "stdout",
          "text": [
            "\n",
            "Extra Trees (Regulated) - moisture_30cm + meteorological features\n",
            "Train R2: 0.9091028586814016\n",
            "Test R2: 0.9075857377020661\n",
            "Train RMSE: 0.0042523652523460895\n",
            "Test RMSE: 0.004342451054326144\n"
          ]
        }
      ]
    },
    {
      "cell_type": "markdown",
      "metadata": {
        "id": "Sztz5tXDrq5N"
      },
      "source": [
        "##from 40cm"
      ]
    },
    {
      "cell_type": "code",
      "execution_count": null,
      "metadata": {
        "id": "VDUCt5R3i7kX"
      },
      "outputs": [],
      "source": [
        "# ==== 1. Separate features and targets ====\n",
        "\n",
        "# Model using only moisture_40cm\n",
        "X_train_40cm_only = train_base[['moisture_40cm']]\n",
        "y_train_40cm_only = train_base['moisture_50cm']\n",
        "X_test_40cm_only = test_base[['moisture_40cm']]\n",
        "y_test_40cm_only = test_base['moisture_50cm']\n",
        "\n",
        "# Full model (moisture_40cm + meteorological features)\n",
        "features_to_exclude_50_from_40 = ['moisture_10cm', 'moisture_20cm', 'moisture_30cm', 'moisture_50cm', 'moisture_60cm', 'timestamp_device']\n",
        "X_train_full_40 = train_base.drop(columns=features_to_exclude_50_from_40)\n",
        "y_train_full_40 = train_base['moisture_50cm']\n",
        "X_test_full_40 = test_base.drop(columns=features_to_exclude_50_from_40)\n",
        "y_test_full_40 = test_base['moisture_50cm']"
      ]
    },
    {
      "cell_type": "code",
      "source": [
        "# Model using only moisture_40cm\n",
        "et_40cm = ExtraTreesRegressor(random_state=42, n_estimators=100)\n",
        "et_40cm.fit(X_train_40cm_only, y_train_40cm_only)\n",
        "y_train_pred_40cm = et_40cm.predict(X_train_40cm_only)\n",
        "y_test_pred_40cm = et_40cm.predict(X_test_40cm_only)\n",
        "\n",
        "print(\"\\nExtra Trees - moisture_40cm only\")\n",
        "print(\"Train R2:\", r2_score(y_train_40cm_only, y_train_pred_40cm))\n",
        "print(\"Test R2:\", r2_score(y_test_40cm_only, y_test_pred_40cm))\n",
        "print(\"Train RMSE:\", np.sqrt(mean_squared_error(y_train_40cm_only, y_train_pred_40cm)))\n",
        "print(\"Test RMSE:\", np.sqrt(mean_squared_error(y_test_40cm_only, y_test_pred_40cm)))\n",
        "\n",
        "# Model using moisture_40cm + meteorological features\n",
        "et_full_40 = ExtraTreesRegressor(random_state=42, n_estimators=100)\n",
        "et_full_40.fit(X_train_full_40, y_train_full_40)\n",
        "y_train_pred_full_40 = et_full_40.predict(X_train_full_40)\n",
        "y_test_pred_full_40 = et_full_40.predict(X_test_full_40)\n",
        "\n",
        "print(\"\\nExtra Trees - moisture_40cm + meteorological features\")\n",
        "print(\"Train R2:\", r2_score(y_train_full_40, y_train_pred_full_40))\n",
        "print(\"Test R2:\", r2_score(y_test_full_40, y_test_pred_full_40))\n",
        "print(\"Train RMSE:\", np.sqrt(mean_squared_error(y_train_full_40, y_train_pred_full_40)))\n",
        "print(\"Test RMSE:\", np.sqrt(mean_squared_error(y_test_full_40, y_test_pred_full_40)))\n"
      ],
      "metadata": {
        "id": "4FY1FVnP9tQQ",
        "colab": {
          "base_uri": "https://localhost:8080/"
        },
        "outputId": "35bcda72-6293-4cf3-94e9-cfae52949f0e"
      },
      "execution_count": null,
      "outputs": [
        {
          "output_type": "stream",
          "name": "stdout",
          "text": [
            "\n",
            "Extra Trees - moisture_40cm only\n",
            "Train R2: 0.8854410762813598\n",
            "Test R2: 0.8883193607361667\n",
            "Train RMSE: 0.004773862550311442\n",
            "Test RMSE: 0.004773691805607433\n",
            "\n",
            "Extra Trees - moisture_40cm + meteorological features\n",
            "Train R2: 0.9999926964098823\n",
            "Test R2: 0.979513873074121\n",
            "Train RMSE: 3.8117432890455633e-05\n",
            "Test RMSE: 0.002044538820304147\n"
          ]
        }
      ]
    },
    {
      "cell_type": "code",
      "source": [
        "# Regulated Extra Trees model for 40cm depth\n",
        "et_full_40_reg = ExtraTreesRegressor(\n",
        "    random_state=42,\n",
        "    n_estimators=150,           # More trees for better generalization\n",
        "    max_depth=12                   # Parallel computation\n",
        ")\n",
        "\n",
        "# Fit the model\n",
        "et_full_40_reg.fit(X_train_full_40, y_train_full_40)\n",
        "\n",
        "# Predict on train and test data\n",
        "y_train_pred_full_40 = et_full_40_reg.predict(X_train_full_40)\n",
        "y_test_pred_full_40 = et_full_40_reg.predict(X_test_full_40)\n",
        "\n",
        "# Evaluation\n",
        "print(\"\\nExtra Trees (Regulated) - moisture_40cm + meteorological features\")\n",
        "print(\"Train R2:\", r2_score(y_train_full_40, y_train_pred_full_40))\n",
        "print(\"Test R2:\", r2_score(y_test_full_40, y_test_pred_full_40))\n",
        "print(\"Train RMSE:\", np.sqrt(mean_squared_error(y_train_full_40, y_train_pred_full_40)))\n",
        "print(\"Test RMSE:\", np.sqrt(mean_squared_error(y_test_full_40, y_test_pred_full_40)))"
      ],
      "metadata": {
        "id": "hH-gxvBWGmcw",
        "colab": {
          "base_uri": "https://localhost:8080/"
        },
        "outputId": "5a18bddb-36d8-418f-8768-73be1820bbad"
      },
      "execution_count": null,
      "outputs": [
        {
          "output_type": "stream",
          "name": "stdout",
          "text": [
            "\n",
            "Extra Trees (Regulated) - moisture_40cm + meteorological features\n",
            "Train R2: 0.9417231689423226\n",
            "Test R2: 0.9414677803343352\n",
            "Train RMSE: 0.0034048925575113883\n",
            "Test RMSE: 0.003455914014337709\n"
          ]
        }
      ]
    },
    {
      "cell_type": "markdown",
      "metadata": {
        "id": "quHMr_BQrn_3"
      },
      "source": [
        "##from 60cm"
      ]
    },
    {
      "cell_type": "code",
      "execution_count": null,
      "metadata": {
        "id": "iFQZNpBOjhLA"
      },
      "outputs": [],
      "source": [
        "# ==== 1. Separate features and targets ====\n",
        "\n",
        "# Model using only moisture_60cm\n",
        "X_train_60cm_only = train_base[['moisture_60cm']]\n",
        "y_train_60cm_only = train_base['moisture_50cm']\n",
        "X_test_60cm_only = test_base[['moisture_60cm']]\n",
        "y_test_60cm_only = test_base['moisture_50cm']\n",
        "\n",
        "# Full model (moisture_60cm + meteorological features)\n",
        "features_to_exclude_50_from_60 = ['moisture_10cm', 'moisture_20cm', 'moisture_30cm', 'moisture_40cm', 'moisture_50cm', 'timestamp_device']\n",
        "X_train_full_60 = train_base.drop(columns=features_to_exclude_50_from_60)\n",
        "y_train_full_60 = train_base['moisture_50cm']\n",
        "X_test_full_60 = test_base.drop(columns=features_to_exclude_50_from_60)\n",
        "y_test_full_60 = test_base['moisture_50cm']"
      ]
    },
    {
      "cell_type": "code",
      "source": [
        "# Model using only moisture_60cm\n",
        "et_60cm = ExtraTreesRegressor(random_state=42, n_estimators=100)\n",
        "et_60cm.fit(X_train_60cm_only, y_train_60cm_only)\n",
        "y_train_pred_60cm = et_60cm.predict(X_train_60cm_only)\n",
        "y_test_pred_60cm = et_60cm.predict(X_test_60cm_only)\n",
        "\n",
        "print(\"\\nExtra Trees - moisture_60cm only\")\n",
        "print(\"Train R2:\", r2_score(y_train_60cm_only, y_train_pred_60cm))\n",
        "print(\"Test R2:\", r2_score(y_test_60cm_only, y_test_pred_60cm))\n",
        "print(\"Train RMSE:\", np.sqrt(mean_squared_error(y_train_60cm_only, y_train_pred_60cm)))\n",
        "print(\"Test RMSE:\", np.sqrt(mean_squared_error(y_test_60cm_only, y_test_pred_60cm)))\n",
        "\n",
        "# Model using moisture_60cm + meteorological features\n",
        "et_full_60 = ExtraTreesRegressor(random_state=42, n_estimators=100)\n",
        "et_full_60.fit(X_train_full_60, y_train_full_60)\n",
        "y_train_pred_full_60 = et_full_60.predict(X_train_full_60)\n",
        "y_test_pred_full_60 = et_full_60.predict(X_test_full_60)\n",
        "\n",
        "print(\"\\nExtra Trees - moisture_60cm + meteorological features\")\n",
        "print(\"Train R2:\", r2_score(y_train_full_60, y_train_pred_full_60))\n",
        "print(\"Test R2:\", r2_score(y_test_full_60, y_test_pred_full_60))\n",
        "print(\"Train RMSE:\", np.sqrt(mean_squared_error(y_train_full_60, y_train_pred_full_60)))\n",
        "print(\"Test RMSE:\", np.sqrt(mean_squared_error(y_test_full_60, y_test_pred_full_60)))\n"
      ],
      "metadata": {
        "id": "Gg4-nPGh-Cxk",
        "colab": {
          "base_uri": "https://localhost:8080/"
        },
        "outputId": "6c310aa6-b560-4997-e29b-d7e7a65bf0dc"
      },
      "execution_count": null,
      "outputs": [
        {
          "output_type": "stream",
          "name": "stdout",
          "text": [
            "\n",
            "Extra Trees - moisture_60cm only\n",
            "Train R2: 0.8941742133316004\n",
            "Test R2: 0.89795040860385\n",
            "Train RMSE: 0.004588293608494997\n",
            "Test RMSE: 0.00456321641979064\n",
            "\n",
            "Extra Trees - moisture_60cm + meteorological features\n",
            "Train R2: 0.9999689894455959\n",
            "Test R2: 0.985061626074424\n",
            "Train RMSE: 7.85434933802659e-05\n",
            "Test RMSE: 0.001745890872760278\n"
          ]
        }
      ]
    },
    {
      "cell_type": "code",
      "source": [
        "# Regulated Extra Trees model for 60cm depth\n",
        "et_full_60_reg = ExtraTreesRegressor(\n",
        "    random_state=42,\n",
        "    n_estimators=150,          # More trees improve stability\n",
        "    max_depth=12                  # Use all processors\n",
        ")\n",
        "\n",
        "# Fit the model\n",
        "et_full_60_reg.fit(X_train_full_60, y_train_full_60)\n",
        "\n",
        "# Predictions\n",
        "y_train_pred_full_60 = et_full_60_reg.predict(X_train_full_60)\n",
        "y_test_pred_full_60 = et_full_60_reg.predict(X_test_full_60)\n",
        "\n",
        "# Evaluation\n",
        "print(\"\\nExtra Trees (Regulated) - moisture_60cm + meteorological features\")\n",
        "print(\"Train R2:\", r2_score(y_train_full_60, y_train_pred_full_60))\n",
        "print(\"Test R2:\", r2_score(y_test_full_60, y_test_pred_full_60))\n",
        "print(\"Train RMSE:\", np.sqrt(mean_squared_error(y_train_full_60, y_train_pred_full_60)))\n",
        "print(\"Test RMSE:\", np.sqrt(mean_squared_error(y_test_full_60, y_test_pred_full_60)))\n"
      ],
      "metadata": {
        "id": "bViG5iElG2TK",
        "colab": {
          "base_uri": "https://localhost:8080/"
        },
        "outputId": "6f409bc0-2939-4af1-f2b4-397ffc87cdc9"
      },
      "execution_count": null,
      "outputs": [
        {
          "output_type": "stream",
          "name": "stdout",
          "text": [
            "\n",
            "Extra Trees (Regulated) - moisture_60cm + meteorological features\n",
            "Train R2: 0.9592159886110925\n",
            "Test R2: 0.9594977668999797\n",
            "Train RMSE: 0.0028483963323630884\n",
            "Test RMSE: 0.0028747819930921566\n"
          ]
        }
      ]
    },
    {
      "cell_type": "markdown",
      "metadata": {
        "id": "R2N6UOhsq_76"
      },
      "source": [
        "##Predicting moisture at 60cm depth"
      ]
    },
    {
      "cell_type": "markdown",
      "metadata": {
        "id": "PmCiS2oyrLkg"
      },
      "source": [
        "##from 10cm"
      ]
    },
    {
      "cell_type": "code",
      "execution_count": null,
      "metadata": {
        "id": "gx81l5d1kJ1D"
      },
      "outputs": [],
      "source": [
        "# ==== 1. Separate features and targets ====\n",
        "\n",
        "# Model using only moisture_10cm\n",
        "X_train_10cm_only = train_base[['moisture_10cm']]\n",
        "y_train_10cm_only = train_base['moisture_60cm']\n",
        "X_test_10cm_only = test_base[['moisture_10cm']]\n",
        "y_test_10cm_only = test_base['moisture_60cm']\n",
        "\n",
        "# Full model (moisture_10cm + meteorological features)\n",
        "features_to_exclude_60_from_10 = ['moisture_20cm', 'moisture_30cm', 'moisture_40cm', 'moisture_50cm', 'moisture_60cm', 'timestamp_device']\n",
        "X_train_full_10 = train_base.drop(columns=features_to_exclude_60_from_10)\n",
        "y_train_full_10 = train_base['moisture_60cm']\n",
        "X_test_full_10 = test_base.drop(columns=features_to_exclude_60_from_10)\n",
        "y_test_full_10 = test_base['moisture_60cm']"
      ]
    },
    {
      "cell_type": "code",
      "source": [
        "et_10cm = ExtraTreesRegressor(random_state=42, n_estimators=100)\n",
        "et_10cm.fit(X_train_10cm_only, y_train_10cm_only)\n",
        "y_train_pred_10cm = et_10cm.predict(X_train_10cm_only)\n",
        "y_test_pred_10cm = et_10cm.predict(X_test_10cm_only)\n",
        "\n",
        "print(\"\\nExtra Trees - moisture_10cm only\")\n",
        "print(\"Train R2:\", r2_score(y_train_10cm_only, y_train_pred_10cm))\n",
        "print(\"Test R2:\", r2_score(y_test_10cm_only, y_test_pred_10cm))\n",
        "print(\"Train RMSE:\", np.sqrt(mean_squared_error(y_train_10cm_only, y_train_pred_10cm)))\n",
        "print(\"Test RMSE:\", np.sqrt(mean_squared_error(y_test_10cm_only, y_test_pred_10cm)))\n",
        "\n",
        "et_full_10 = ExtraTreesRegressor(random_state=42, n_estimators=100)\n",
        "et_full_10.fit(X_train_full_10, y_train_full_10)\n",
        "y_train_pred_full_10 = et_full_10.predict(X_train_full_10)\n",
        "y_test_pred_full_10 = et_full_10.predict(X_test_full_10)\n",
        "\n",
        "print(\"\\nExtra Trees - moisture_10cm + meteorological features\")\n",
        "print(\"Train R2:\", r2_score(y_train_full_10, y_train_pred_full_10))\n",
        "print(\"Test R2:\", r2_score(y_test_full_10, y_test_pred_full_10))\n",
        "print(\"Train RMSE:\", np.sqrt(mean_squared_error(y_train_full_10, y_train_pred_full_10)))\n",
        "print(\"Test RMSE:\", np.sqrt(mean_squared_error(y_test_full_10, y_test_pred_full_10)))\n"
      ],
      "metadata": {
        "id": "x7cnipDi-i2f",
        "colab": {
          "base_uri": "https://localhost:8080/"
        },
        "outputId": "ac49ff22-c47c-4f40-9928-79d110d0b90d"
      },
      "execution_count": null,
      "outputs": [
        {
          "output_type": "stream",
          "name": "stdout",
          "text": [
            "\n",
            "Extra Trees - moisture_10cm only\n",
            "Train R2: 0.4043409099108375\n",
            "Test R2: 0.3932352317244199\n",
            "Train RMSE: 0.009402349656072052\n",
            "Test RMSE: 0.009626086404722494\n",
            "\n",
            "Extra Trees - moisture_10cm + meteorological features\n",
            "Train R2: 0.9999269586726164\n",
            "Test R2: 0.9129406364657291\n",
            "Train RMSE: 0.00010411704637697742\n",
            "Test RMSE: 0.0036462573851354977\n"
          ]
        }
      ]
    },
    {
      "cell_type": "code",
      "source": [
        "# Regulated Extra Trees model for 10cm depth\n",
        "et_full_10_reg = ExtraTreesRegressor(\n",
        "    random_state=42,\n",
        "    n_estimators=150,          # Increased number of trees for better performance\n",
        "    max_depth=12               # Utilize all CPU cores\n",
        ")\n",
        "\n",
        "# Fit the model\n",
        "et_full_10_reg.fit(X_train_full_10, y_train_full_10)\n",
        "\n",
        "# Predict\n",
        "y_train_pred_full_10 = et_full_10_reg.predict(X_train_full_10)\n",
        "y_test_pred_full_10 = et_full_10_reg.predict(X_test_full_10)\n",
        "\n",
        "# Evaluate\n",
        "print(\"\\nExtra Trees (Regulated) - moisture_10cm + meteorological features\")\n",
        "print(\"Train R2:\", r2_score(y_train_full_10, y_train_pred_full_10))\n",
        "print(\"Test R2:\", r2_score(y_test_full_10, y_test_pred_full_10))\n",
        "print(\"Train RMSE:\", np.sqrt(mean_squared_error(y_train_full_10, y_train_pred_full_10)))\n",
        "print(\"Test RMSE:\", np.sqrt(mean_squared_error(y_test_full_10, y_test_pred_full_10)))"
      ],
      "metadata": {
        "id": "zvlsd7SmG8Wo",
        "colab": {
          "base_uri": "https://localhost:8080/"
        },
        "outputId": "113ed25c-2bdd-4dd8-8786-1d29892cf5a5"
      },
      "execution_count": null,
      "outputs": [
        {
          "output_type": "stream",
          "name": "stdout",
          "text": [
            "\n",
            "Extra Trees (Regulated) - moisture_10cm + meteorological features\n",
            "Train R2: 0.6202640694482378\n",
            "Test R2: 0.6056546454209968\n",
            "Train RMSE: 0.0075072064091378735\n",
            "Test RMSE: 0.00776028984609143\n"
          ]
        }
      ]
    },
    {
      "cell_type": "markdown",
      "metadata": {
        "id": "UTbaMXc4reJi"
      },
      "source": [
        "##from 20cm"
      ]
    },
    {
      "cell_type": "code",
      "execution_count": null,
      "metadata": {
        "id": "8ShCDIBskukW"
      },
      "outputs": [],
      "source": [
        "# ==== 1. Separate features and targets ====\n",
        "\n",
        "# Model using only moisture_20cm\n",
        "X_train_20cm_only = train_base[['moisture_20cm']]\n",
        "y_train_20cm_only = train_base['moisture_60cm']\n",
        "X_test_20cm_only = test_base[['moisture_20cm']]\n",
        "y_test_20cm_only = test_base['moisture_60cm']\n",
        "\n",
        "# Full model (moisture_20cm + meteorological features)\n",
        "features_to_exclude_60_from_20 = ['moisture_10cm', 'moisture_30cm', 'moisture_40cm', 'moisture_50cm', 'moisture_60cm', 'timestamp_device']\n",
        "X_train_full_20 = train_base.drop(columns=features_to_exclude_60_from_20)\n",
        "y_train_full_20 = train_base['moisture_60cm']\n",
        "X_test_full_20 = test_base.drop(columns=features_to_exclude_60_from_20)\n",
        "y_test_full_20 = test_base['moisture_60cm']\n"
      ]
    },
    {
      "cell_type": "code",
      "source": [
        "et_20cm = ExtraTreesRegressor(random_state=42, n_estimators=100)\n",
        "et_20cm.fit(X_train_20cm_only, y_train_20cm_only)\n",
        "y_train_pred_20cm = et_20cm.predict(X_train_20cm_only)\n",
        "y_test_pred_20cm = et_20cm.predict(X_test_20cm_only)\n",
        "\n",
        "print(\"\\nExtra Trees - moisture_20cm only\")\n",
        "print(\"Train R2:\", r2_score(y_train_20cm_only, y_train_pred_20cm))\n",
        "print(\"Test R2:\", r2_score(y_test_20cm_only, y_test_pred_20cm))\n",
        "print(\"Train RMSE:\", np.sqrt(mean_squared_error(y_train_20cm_only, y_train_pred_20cm)))\n",
        "print(\"Test RMSE:\", np.sqrt(mean_squared_error(y_test_20cm_only, y_test_pred_20cm)))\n",
        "\n",
        "et_full_20 = ExtraTreesRegressor(random_state=42, n_estimators=100)\n",
        "et_full_20.fit(X_train_full_20, y_train_full_20)\n",
        "y_train_pred_full_20 = et_full_20.predict(X_train_full_20)\n",
        "y_test_pred_full_20 = et_full_20.predict(X_test_full_20)\n",
        "\n",
        "print(\"\\nExtra Trees - moisture_20cm + meteorological features\")\n",
        "print(\"Train R2:\", r2_score(y_train_full_20, y_train_pred_full_20))\n",
        "print(\"Test R2:\", r2_score(y_test_full_20, y_test_pred_full_20))\n",
        "print(\"Train RMSE:\", np.sqrt(mean_squared_error(y_train_full_20, y_train_pred_full_20)))\n",
        "print(\"Test RMSE:\", np.sqrt(mean_squared_error(y_test_full_20, y_test_pred_full_20)))\n"
      ],
      "metadata": {
        "id": "A-gWwEZ2-542",
        "colab": {
          "base_uri": "https://localhost:8080/"
        },
        "outputId": "36162968-2aff-41eb-cb76-90b203ab5552"
      },
      "execution_count": null,
      "outputs": [
        {
          "output_type": "stream",
          "name": "stdout",
          "text": [
            "\n",
            "Extra Trees - moisture_20cm only\n",
            "Train R2: 0.5919017555386243\n",
            "Test R2: 0.5937396621267004\n",
            "Train RMSE: 0.0077825133469408255\n",
            "Test RMSE: 0.007876654399150463\n",
            "\n",
            "Extra Trees - moisture_20cm + meteorological features\n",
            "Train R2: 0.9999814690834212\n",
            "Test R2: 0.9454485225392841\n",
            "Train RMSE: 5.2442810881208016e-05\n",
            "Test RMSE: 0.0028863090862228003\n"
          ]
        }
      ]
    },
    {
      "cell_type": "code",
      "source": [
        "# Regulated Extra Trees model for 20cm depth\n",
        "et_full_20_reg = ExtraTreesRegressor(\n",
        "    random_state=42,\n",
        "    n_estimators=150,          # More trees for stability\n",
        "    max_depth=12                 # Use all processors\n",
        ")\n",
        "\n",
        "# Train the model\n",
        "et_full_20_reg.fit(X_train_full_20, y_train_full_20)\n",
        "\n",
        "# Predictions\n",
        "y_train_pred_full_20 = et_full_20_reg.predict(X_train_full_20)\n",
        "y_test_pred_full_20 = et_full_20_reg.predict(X_test_full_20)\n",
        "\n",
        "# Evaluation\n",
        "print(\"\\nExtra Trees (Regulated) - moisture_20cm + meteorological features\")\n",
        "print(\"Train R2:\", r2_score(y_train_full_20, y_train_pred_full_20))\n",
        "print(\"Test R2:\", r2_score(y_test_full_20, y_test_pred_full_20))\n",
        "print(\"Train RMSE:\", np.sqrt(mean_squared_error(y_train_full_20, y_train_pred_full_20)))\n",
        "print(\"Test RMSE:\", np.sqrt(mean_squared_error(y_test_full_20, y_test_pred_full_20)))"
      ],
      "metadata": {
        "id": "clBLoIWdHGcl",
        "colab": {
          "base_uri": "https://localhost:8080/"
        },
        "outputId": "07892bd6-1ac7-47d6-a01c-8923fba867c1"
      },
      "execution_count": null,
      "outputs": [
        {
          "output_type": "stream",
          "name": "stdout",
          "text": [
            "\n",
            "Extra Trees (Regulated) - moisture_20cm + meteorological features\n",
            "Train R2: 0.7987563532383684\n",
            "Test R2: 0.7980462318706147\n",
            "Train RMSE: 0.005465106130355739\n",
            "Test RMSE: 0.005553484425440124\n"
          ]
        }
      ]
    },
    {
      "cell_type": "markdown",
      "metadata": {
        "id": "OCPSR0p9rh6_"
      },
      "source": [
        "##from 30cm"
      ]
    },
    {
      "cell_type": "code",
      "execution_count": null,
      "metadata": {
        "id": "rN6BSriDlNfd"
      },
      "outputs": [],
      "source": [
        "# ==== 1. Separate features and targets ====\n",
        "\n",
        "# Model using only moisture_30cm\n",
        "X_train_30cm_only = train_base[['moisture_30cm']]\n",
        "y_train_30cm_only = train_base['moisture_60cm']\n",
        "X_test_30cm_only = test_base[['moisture_30cm']]\n",
        "y_test_30cm_only = test_base['moisture_60cm']\n",
        "\n",
        "# Full model (moisture_30cm + meteorological features)\n",
        "features_to_exclude_60_from_30 = ['moisture_10cm', 'moisture_20cm', 'moisture_40cm', 'moisture_50cm', 'moisture_60cm', 'timestamp_device']\n",
        "X_train_full_30 = train_base.drop(columns=features_to_exclude_60_from_30)\n",
        "y_train_full_30 = train_base['moisture_60cm']\n",
        "X_test_full_30 = test_base.drop(columns=features_to_exclude_60_from_30)\n",
        "y_test_full_30 = test_base['moisture_60cm']\n"
      ]
    },
    {
      "cell_type": "code",
      "source": [
        "et_30cm = ExtraTreesRegressor(random_state=42, n_estimators=100)\n",
        "et_30cm.fit(X_train_30cm_only, y_train_30cm_only)\n",
        "y_train_pred_30cm = et_30cm.predict(X_train_30cm_only)\n",
        "y_test_pred_30cm = et_30cm.predict(X_test_30cm_only)\n",
        "\n",
        "print(\"\\nExtra Trees - moisture_30cm only\")\n",
        "print(\"Train R2:\", r2_score(y_train_30cm_only, y_train_pred_30cm))\n",
        "print(\"Test R2:\", r2_score(y_test_30cm_only, y_test_pred_30cm))\n",
        "print(\"Train RMSE:\", np.sqrt(mean_squared_error(y_train_30cm_only, y_train_pred_30cm)))\n",
        "print(\"Test RMSE:\", np.sqrt(mean_squared_error(y_test_30cm_only, y_test_pred_30cm)))\n",
        "\n",
        "et_full_30 = ExtraTreesRegressor(random_state=42, n_estimators=100)\n",
        "et_full_30.fit(X_train_full_30, y_train_full_30)\n",
        "y_train_pred_full_30 = et_full_30.predict(X_train_full_30)\n",
        "y_test_pred_full_30 = et_full_30.predict(X_test_full_30)\n",
        "\n",
        "print(\"\\nExtra Trees - moisture_30cm + meteorological features\")\n",
        "print(\"Train R2:\", r2_score(y_train_full_30, y_train_pred_full_30))\n",
        "print(\"Test R2:\", r2_score(y_test_full_30, y_test_pred_full_30))\n",
        "print(\"Train RMSE:\", np.sqrt(mean_squared_error(y_train_full_30, y_train_pred_full_30)))\n",
        "print(\"Test RMSE:\", np.sqrt(mean_squared_error(y_test_full_30, y_test_pred_full_30)))"
      ],
      "metadata": {
        "id": "1J4SmQXP_JJl",
        "colab": {
          "base_uri": "https://localhost:8080/"
        },
        "outputId": "8f19a2cf-4710-488a-d533-071640cd4632"
      },
      "execution_count": null,
      "outputs": [
        {
          "output_type": "stream",
          "name": "stdout",
          "text": [
            "\n",
            "Extra Trees - moisture_30cm only\n",
            "Train R2: 0.6260743551267063\n",
            "Test R2: 0.6310772169188034\n",
            "Train RMSE: 0.007449551666356206\n",
            "Test RMSE: 0.00750597849736756\n",
            "\n",
            "Extra Trees - moisture_30cm + meteorological features\n",
            "Train R2: 0.9999385627449441\n",
            "Test R2: 0.937141405448454\n",
            "Train RMSE: 9.548901483771627e-05\n",
            "Test RMSE: 0.003098288899653602\n"
          ]
        }
      ]
    },
    {
      "cell_type": "code",
      "source": [
        "# Regulated Extra Trees model for 30cm depth\n",
        "et_full_30_reg = ExtraTreesRegressor(\n",
        "    random_state=42,\n",
        "    n_estimators=150,          # Increase trees for stability\n",
        "    max_depth=12                 # Use all CPU cores\n",
        ")\n",
        "\n",
        "# Train the model\n",
        "et_full_30_reg.fit(X_train_full_30, y_train_full_30)\n",
        "\n",
        "# Predict\n",
        "y_train_pred_full_30 = et_full_30_reg.predict(X_train_full_30)\n",
        "y_test_pred_full_30 = et_full_30_reg.predict(X_test_full_30)\n",
        "\n",
        "# Evaluate\n",
        "print(\"\\nExtra Trees (Regulated) - moisture_30cm + meteorological features\")\n",
        "print(\"Train R2:\", r2_score(y_train_full_30, y_train_pred_full_30))\n",
        "print(\"Test R2:\", r2_score(y_test_full_30, y_test_pred_full_30))\n",
        "print(\"Train RMSE:\", np.sqrt(mean_squared_error(y_train_full_30, y_train_pred_full_30)))\n",
        "print(\"Test RMSE:\", np.sqrt(mean_squared_error(y_test_full_30, y_test_pred_full_30)))"
      ],
      "metadata": {
        "id": "PXWAhRDwHNtz",
        "colab": {
          "base_uri": "https://localhost:8080/"
        },
        "outputId": "44119a92-fad7-4028-d24c-214f7eaff4db"
      },
      "execution_count": null,
      "outputs": [
        {
          "output_type": "stream",
          "name": "stdout",
          "text": [
            "\n",
            "Extra Trees (Regulated) - moisture_30cm + meteorological features\n",
            "Train R2: 0.820586478579324\n",
            "Test R2: 0.8164389888720531\n",
            "Train RMSE: 0.005160182909817638\n",
            "Test RMSE: 0.005294559076183959\n"
          ]
        }
      ]
    },
    {
      "cell_type": "markdown",
      "metadata": {
        "id": "i5h3-8LpruY0"
      },
      "source": [
        "##from 40cm"
      ]
    },
    {
      "cell_type": "code",
      "execution_count": null,
      "metadata": {
        "id": "BHwnli-hmSSQ"
      },
      "outputs": [],
      "source": [
        "# ==== 1. Separate features and targets ====\n",
        "\n",
        "# Model using only moisture_40cm\n",
        "X_train_40cm_only = train_base[['moisture_40cm']]\n",
        "y_train_40cm_only = train_base['moisture_60cm']\n",
        "X_test_40cm_only = test_base[['moisture_40cm']]\n",
        "y_test_40cm_only = test_base['moisture_60cm']\n",
        "\n",
        "# Full model (moisture_40cm + meteorological features)\n",
        "features_to_exclude_60_from_40 = ['moisture_10cm', 'moisture_20cm', 'moisture_30cm', 'moisture_50cm', 'moisture_60cm', 'timestamp_device']\n",
        "X_train_full_40 = train_base.drop(columns=features_to_exclude_60_from_40)\n",
        "y_train_full_40 = train_base['moisture_60cm']\n",
        "X_test_full_40 = test_base.drop(columns=features_to_exclude_60_from_40)\n",
        "y_test_full_40 = test_base['moisture_60cm']"
      ]
    },
    {
      "cell_type": "code",
      "source": [
        "et_40cm = ExtraTreesRegressor(random_state=42, n_estimators=100)\n",
        "et_40cm.fit(X_train_40cm_only, y_train_40cm_only)\n",
        "y_train_pred_40cm = et_40cm.predict(X_train_40cm_only)\n",
        "y_test_pred_40cm = et_40cm.predict(X_test_40cm_only)\n",
        "\n",
        "print(\"\\nExtra Trees - moisture_40cm only\")\n",
        "print(\"Train R2:\", r2_score(y_train_40cm_only, y_train_pred_40cm))\n",
        "print(\"Test R2:\", r2_score(y_test_40cm_only, y_test_pred_40cm))\n",
        "print(\"Train RMSE:\", np.sqrt(mean_squared_error(y_train_40cm_only, y_train_pred_40cm)))\n",
        "print(\"Test RMSE:\", np.sqrt(mean_squared_error(y_test_40cm_only, y_test_pred_40cm)))\n",
        "\n",
        "et_full_40 = ExtraTreesRegressor(random_state=42, n_estimators=100)\n",
        "et_full_40.fit(X_train_full_40, y_train_full_40)\n",
        "y_train_pred_full_40 = et_full_40.predict(X_train_full_40)\n",
        "y_test_pred_full_40 = et_full_40.predict(X_test_full_40)\n",
        "\n",
        "print(\"\\nExtra Trees - moisture_40cm + meteorological features\")\n",
        "print(\"Train R2:\", r2_score(y_train_full_40, y_train_pred_full_40))\n",
        "print(\"Test R2:\", r2_score(y_test_full_40, y_test_pred_full_40))\n",
        "print(\"Train RMSE:\", np.sqrt(mean_squared_error(y_train_full_40, y_train_pred_full_40)))\n",
        "print(\"Test RMSE:\", np.sqrt(mean_squared_error(y_test_full_40, y_test_pred_full_40)))\n"
      ],
      "metadata": {
        "id": "6IvE57X3ACVq",
        "colab": {
          "base_uri": "https://localhost:8080/"
        },
        "outputId": "509d083d-5a0a-4696-fee4-20ec84773705"
      },
      "execution_count": null,
      "outputs": [
        {
          "output_type": "stream",
          "name": "stdout",
          "text": [
            "\n",
            "Extra Trees - moisture_40cm only\n",
            "Train R2: 0.6783700637470922\n",
            "Test R2: 0.6852274875261417\n",
            "Train RMSE: 0.006909008758230661\n",
            "Test RMSE: 0.006933267844810687\n",
            "\n",
            "Extra Trees - moisture_40cm + meteorological features\n",
            "Train R2: 0.9999690256207164\n",
            "Test R2: 0.9494178622826452\n",
            "Train RMSE: 6.78014242596474e-05\n",
            "Test RMSE: 0.002779317536505113\n"
          ]
        }
      ]
    },
    {
      "cell_type": "code",
      "source": [
        "# Regulated Extra Trees model for 40cm depth\n",
        "et_full_40_reg = ExtraTreesRegressor(\n",
        "    random_state=42,\n",
        "    n_estimators=150,          # More trees for better averaging\n",
        "    max_depth=12                 # Use all CPU cores\n",
        ")\n",
        "\n",
        "# Train the model\n",
        "et_full_40_reg.fit(X_train_full_40, y_train_full_40)\n",
        "\n",
        "# Predict\n",
        "y_train_pred_full_40 = et_full_40_reg.predict(X_train_full_40)\n",
        "y_test_pred_full_40 = et_full_40_reg.predict(X_test_full_40)\n",
        "\n",
        "# Evaluate\n",
        "print(\"\\nExtra Trees (Regulated) - moisture_40cm + meteorological features\")\n",
        "print(\"Train R2:\", r2_score(y_train_full_40, y_train_pred_full_40))\n",
        "print(\"Test R2:\", r2_score(y_test_full_40, y_test_pred_full_40))\n",
        "print(\"Train RMSE:\", np.sqrt(mean_squared_error(y_train_full_40, y_train_pred_full_40)))\n",
        "print(\"Test RMSE:\", np.sqrt(mean_squared_error(y_test_full_40, y_test_pred_full_40)))"
      ],
      "metadata": {
        "id": "yBY-8UpnHdKN",
        "colab": {
          "base_uri": "https://localhost:8080/"
        },
        "outputId": "fbfa1ee4-8e04-48ca-b200-ef550f48e822"
      },
      "execution_count": null,
      "outputs": [
        {
          "output_type": "stream",
          "name": "stdout",
          "text": [
            "\n",
            "Extra Trees (Regulated) - moisture_40cm + meteorological features\n",
            "Train R2: 0.8391168418621644\n",
            "Test R2: 0.838742710394037\n",
            "Train RMSE: 0.004886442608538017\n",
            "Test RMSE: 0.004962485557289526\n"
          ]
        }
      ]
    },
    {
      "cell_type": "markdown",
      "metadata": {
        "id": "mWe-8g_3rlny"
      },
      "source": [
        "##from 50cm"
      ]
    },
    {
      "cell_type": "code",
      "execution_count": null,
      "metadata": {
        "id": "dPG-obctb1j_"
      },
      "outputs": [],
      "source": [
        "# ==== 1. Separate features and targets ====\n",
        "\n",
        "# Model using only moisture_50cm\n",
        "X_train_50cm_only = train_base[['moisture_50cm']]\n",
        "y_train_50cm_only = train_base['moisture_60cm']\n",
        "X_test_50cm_only = test_base[['moisture_50cm']]\n",
        "y_test_50cm_only = test_base['moisture_60cm']\n",
        "\n",
        "# Full model (moisture_50cm + meteorological features)\n",
        "features_to_exclude_60_from_50 = ['moisture_10cm', 'moisture_20cm', 'moisture_30cm', 'moisture_40cm', 'moisture_60cm', 'timestamp_device']\n",
        "X_train_full_50 = train_base.drop(columns=features_to_exclude_60_from_50)\n",
        "y_train_full_50 = train_base['moisture_60cm']\n",
        "X_test_full_50 = test_base.drop(columns=features_to_exclude_60_from_50)\n",
        "y_test_full_50 = test_base['moisture_60cm']"
      ]
    },
    {
      "cell_type": "code",
      "source": [
        "et_50cm = ExtraTreesRegressor(random_state=42, n_estimators=100)\n",
        "et_50cm.fit(X_train_50cm_only, y_train_50cm_only)\n",
        "y_train_pred_50cm = et_50cm.predict(X_train_50cm_only)\n",
        "y_test_pred_50cm = et_50cm.predict(X_test_50cm_only)\n",
        "\n",
        "print(\"\\nExtra Trees - moisture_50cm only\")\n",
        "print(\"Train R2:\", r2_score(y_train_50cm_only, y_train_pred_50cm))\n",
        "print(\"Test R2:\", r2_score(y_test_50cm_only, y_test_pred_50cm))\n",
        "print(\"Train RMSE:\", np.sqrt(mean_squared_error(y_train_50cm_only, y_train_pred_50cm)))\n",
        "print(\"Test RMSE:\", np.sqrt(mean_squared_error(y_test_50cm_only, y_test_pred_50cm)))\n",
        "\n",
        "et_full_50 = ExtraTreesRegressor(random_state=42, n_estimators=100)\n",
        "et_full_50.fit(X_train_full_50, y_train_full_50)\n",
        "y_train_pred_full_50 = et_full_50.predict(X_train_full_50)\n",
        "y_test_pred_full_50 = et_full_50.predict(X_test_full_50)\n",
        "\n",
        "print(\"\\nExtra Trees - moisture_50cm + meteorological features\")\n",
        "print(\"Train R2:\", r2_score(y_train_full_50, y_train_pred_full_50))\n",
        "print(\"Test R2:\", r2_score(y_test_full_50, y_test_pred_full_50))\n",
        "print(\"Train RMSE:\", np.sqrt(mean_squared_error(y_train_full_50, y_train_pred_full_50)))\n",
        "print(\"Test RMSE:\", np.sqrt(mean_squared_error(y_test_full_50, y_test_pred_full_50)))\n"
      ],
      "metadata": {
        "id": "5rvmWK_OAV9_",
        "colab": {
          "base_uri": "https://localhost:8080/"
        },
        "outputId": "33a3d263-9410-45a2-8afb-5a997cddb9c6"
      },
      "execution_count": null,
      "outputs": [
        {
          "output_type": "stream",
          "name": "stdout",
          "text": [
            "\n",
            "Extra Trees - moisture_50cm only\n",
            "Train R2: 0.8992701646493689\n",
            "Test R2: 0.9029222967297936\n",
            "Train RMSE: 0.0038664871656465816\n",
            "Test RMSE: 0.003850342156290689\n",
            "\n",
            "Extra Trees - moisture_50cm + meteorological features\n",
            "Train R2: 0.9999859002402116\n",
            "Test R2: 0.9846378433938613\n",
            "Train RMSE: 4.574497217926834e-05\n",
            "Test RMSE: 0.0015316716425970726\n"
          ]
        }
      ]
    },
    {
      "cell_type": "code",
      "source": [
        "# Regulated Extra Trees model for 50cm depth\n",
        "et_full_50_reg = ExtraTreesRegressor(\n",
        "    random_state=42,\n",
        "    n_estimators=150,          # More trees for robustness\n",
        "    max_depth=12                  # Parallelize across all CPUs\n",
        ")\n",
        "\n",
        "# Train the model\n",
        "et_full_50_reg.fit(X_train_full_50, y_train_full_50)\n",
        "\n",
        "# Predictions\n",
        "y_train_pred_full_50 = et_full_50_reg.predict(X_train_full_50)\n",
        "y_test_pred_full_50 = et_full_50_reg.predict(X_test_full_50)\n",
        "\n",
        "# Evaluation\n",
        "print(\"\\nExtra Trees (Regulated) - moisture_50cm + meteorological features\")\n",
        "print(\"Train R2:\", r2_score(y_train_full_50, y_train_pred_full_50))\n",
        "print(\"Test R2:\", r2_score(y_test_full_50, y_test_pred_full_50))\n",
        "print(\"Train RMSE:\", np.sqrt(mean_squared_error(y_train_full_50, y_train_pred_full_50)))\n",
        "print(\"Test RMSE:\", np.sqrt(mean_squared_error(y_test_full_50, y_test_pred_full_50)))"
      ],
      "metadata": {
        "id": "nkJhnbTdHlYB",
        "colab": {
          "base_uri": "https://localhost:8080/"
        },
        "outputId": "7684e72e-aac9-4197-de21-6aa8a8001d6e"
      },
      "execution_count": null,
      "outputs": [
        {
          "output_type": "stream",
          "name": "stdout",
          "text": [
            "\n",
            "Extra Trees (Regulated) - moisture_50cm + meteorological features\n",
            "Train R2: 0.9560817263971644\n",
            "Test R2: 0.9560911539291292\n",
            "Train RMSE: 0.0025530548238744933\n",
            "Test RMSE: 0.0025894980589309\n"
          ]
        }
      ]
    }
  ],
  "metadata": {
    "accelerator": "GPU",
    "colab": {
      "gpuType": "T4",
      "provenance": []
    },
    "kernelspec": {
      "display_name": "Python 3",
      "name": "python3"
    },
    "language_info": {
      "name": "python"
    }
  },
  "nbformat": 4,
  "nbformat_minor": 0
}